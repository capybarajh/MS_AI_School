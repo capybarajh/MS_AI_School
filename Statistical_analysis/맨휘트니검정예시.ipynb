{
 "cells": [
  {
   "cell_type": "code",
   "execution_count": 1,
   "id": "02e2ac12",
   "metadata": {},
   "outputs": [],
   "source": [
    "import numpy as np \n",
    "import pandas as pd \n",
    "from scipy.stats import mannwhitneyu"
   ]
  },
  {
   "cell_type": "code",
   "execution_count": 2,
   "id": "5bcad2c3",
   "metadata": {},
   "outputs": [],
   "source": [
    "# 랜덤 데이터 생성 \n",
    "np.random.seed(42)\n",
    "group1 = np.random.normal(loc=6, scale = 1.5, size=100)\n",
    "group2 = np.random.normal(loc=7, scale = 1.5, size=100)\n",
    "\n",
    "# csv 저장 \n",
    "data = pd.DataFrame({\n",
    "    'group1' : group1,\n",
    "    'group2' : group2\n",
    "})\n",
    "\n",
    "data.to_csv('./data/sleep_data.csv', index=False, encoding='utf-8')"
   ]
  },
  {
   "cell_type": "code",
   "execution_count": 3,
   "id": "61f5cffa",
   "metadata": {},
   "outputs": [
    {
     "name": "stdout",
     "output_type": "stream",
     "text": [
      "      group1    group2\n",
      "0   6.745071  4.876944\n",
      "1   5.792604  6.369032\n",
      "2   6.971533  6.485928\n",
      "3   8.284545  5.796584\n",
      "4   5.648770  6.758071\n",
      "..       ...       ...\n",
      "95  3.804728  7.577976\n",
      "96  6.444180  5.674214\n",
      "97  6.391583  7.230588\n",
      "98  6.007670  7.087313\n",
      "99  5.648119  5.285545\n",
      "\n",
      "[100 rows x 2 columns]\n"
     ]
    }
   ],
   "source": [
    "# csv 읽기 \n",
    "sleep_data = pd.read_csv(\"./data/sleep_data.csv\")\n",
    "print(sleep_data)"
   ]
  },
  {
   "cell_type": "code",
   "execution_count": 4,
   "id": "bac86cf8",
   "metadata": {},
   "outputs": [
    {
     "name": "stdout",
     "output_type": "stream",
     "text": [
      "0     6.745071\n",
      "1     5.792604\n",
      "2     6.971533\n",
      "3     8.284545\n",
      "4     5.648770\n",
      "        ...   \n",
      "95    3.804728\n",
      "96    6.444180\n",
      "97    6.391583\n",
      "98    6.007670\n",
      "99    5.648119\n",
      "Name: group1, Length: 100, dtype: float64\n",
      "0     4.876944\n",
      "1     6.369032\n",
      "2     6.485928\n",
      "3     5.796584\n",
      "4     6.758071\n",
      "        ...   \n",
      "95    7.577976\n",
      "96    5.674214\n",
      "97    7.230588\n",
      "98    7.087313\n",
      "99    5.285545\n",
      "Name: group2, Length: 100, dtype: float64\n"
     ]
    }
   ],
   "source": [
    "group1_data = data['group1']\n",
    "group2_data = data['group2']\n",
    "\n",
    "print(group1_data)\n",
    "print(group2_data)"
   ]
  },
  {
   "cell_type": "code",
   "execution_count": 5,
   "id": "b5f061e3",
   "metadata": {},
   "outputs": [
    {
     "name": "stdout",
     "output_type": "stream",
     "text": [
      "2834.0 1.2154388166891524e-07\n"
     ]
    }
   ],
   "source": [
    "# 멘-휘트니 검정 수행 \n",
    "stat, p_val = mannwhitneyu(group1_data, group2_data, alternative='two-sided')\n",
    "print(stat, p_val)"
   ]
  },
  {
   "cell_type": "code",
   "execution_count": 6,
   "id": "84673d46",
   "metadata": {},
   "outputs": [
    {
     "name": "stdout",
     "output_type": "stream",
     "text": [
      "두 집단 간에는 유의한 차이가 있음\n"
     ]
    }
   ],
   "source": [
    "# 유의수준 0.05로 가설 점정 \n",
    "if p_val < 0.05 : \n",
    "    print(\"두 집단 간에는 유의한 차이가 있음\")\n",
    "    \n",
    "else : \n",
    "    print(\"두 집단 간에는 유의한 차이가 없음\")"
   ]
  },
  {
   "cell_type": "code",
   "execution_count": null,
   "id": "36a57de3",
   "metadata": {},
   "outputs": [],
   "source": []
  }
 ],
 "metadata": {
  "kernelspec": {
   "display_name": "AI",
   "language": "python",
   "name": "ai"
  },
  "language_info": {
   "codemirror_mode": {
    "name": "ipython",
    "version": 3
   },
   "file_extension": ".py",
   "mimetype": "text/x-python",
   "name": "python",
   "nbconvert_exporter": "python",
   "pygments_lexer": "ipython3",
   "version": "3.8.16"
  }
 },
 "nbformat": 4,
 "nbformat_minor": 5
}
