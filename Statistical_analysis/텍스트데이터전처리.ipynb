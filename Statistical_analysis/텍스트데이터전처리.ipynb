{
 "cells": [
  {
   "cell_type": "code",
   "execution_count": 1,
   "id": "0d3f74c8",
   "metadata": {},
   "outputs": [],
   "source": [
    "import nltk\n",
    "\n",
    "from nltk.corpus import stopwords\n",
    "from nltk.tokenize import word_tokenize\n",
    "from nltk.stem import PorterStemmer"
   ]
  },
  {
   "cell_type": "code",
   "execution_count": 2,
   "id": "16fa6207",
   "metadata": {},
   "outputs": [
    {
     "name": "stdout",
     "output_type": "stream",
     "text": [
      "토근화 >>  ['I', 'am', 'a', 'student', '.', 'I', 'am', 'studying', 'computer', 'science', '.']\n"
     ]
    }
   ],
   "source": [
    "# 토근화 \n",
    "text_data = \"I am a student. I am studying computer science.\"\n",
    "tokens = word_tokenize(text_data)\n",
    "print(\"토근화 >> \", tokens)"
   ]
  },
  {
   "cell_type": "code",
   "execution_count": 3,
   "id": "f3cd08e1",
   "metadata": {},
   "outputs": [
    {
     "name": "stdout",
     "output_type": "stream",
     "text": [
      "['student', '.', 'studying', 'computer', 'science', '.']\n"
     ]
    }
   ],
   "source": [
    "# 불용어 처리 \n",
    "stop_word = set(stopwords.words('english'))\n",
    "\n",
    "filtered_tokens = [token for token in tokens if token.lower() not in stop_word]\n",
    "print(filtered_tokens)"
   ]
  },
  {
   "cell_type": "code",
   "execution_count": 4,
   "id": "e408c836",
   "metadata": {},
   "outputs": [
    {
     "name": "stdout",
     "output_type": "stream",
     "text": [
      "정규화 >>  ['student', '.', 'studi', 'comput', 'scienc', '.']\n"
     ]
    }
   ],
   "source": [
    "# 정규화 \n",
    "stemer = PorterStemmer()\n",
    "normalized_tokens = [stemer.stem(tokens) for tokens in filtered_tokens]\n",
    "print(\"정규화 >> \" , normalized_tokens)"
   ]
  },
  {
   "cell_type": "code",
   "execution_count": null,
   "id": "6807b57b",
   "metadata": {},
   "outputs": [],
   "source": []
  }
 ],
 "metadata": {
  "kernelspec": {
   "display_name": "Python 3 (ipykernel)",
   "language": "python",
   "name": "python3"
  },
  "language_info": {
   "codemirror_mode": {
    "name": "ipython",
    "version": 3
   },
   "file_extension": ".py",
   "mimetype": "text/x-python",
   "name": "python",
   "nbconvert_exporter": "python",
   "pygments_lexer": "ipython3",
   "version": "3.10.9"
  }
 },
 "nbformat": 4,
 "nbformat_minor": 5
}
