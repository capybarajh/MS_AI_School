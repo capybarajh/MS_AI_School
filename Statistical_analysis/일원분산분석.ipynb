{
 "cells": [
  {
   "cell_type": "code",
   "execution_count": 3,
   "id": "e17ba310",
   "metadata": {},
   "outputs": [
    {
     "name": "stdout",
     "output_type": "stream",
     "text": [
      "   A  B  C\n",
      "0  4  2  5\n",
      "1  5  3  2\n",
      "2  1  5  2\n",
      "3  2  3  1\n",
      "4  4  5  2\n",
      "5  1  4  2\n",
      "6  1  5  2\n",
      "7  2  3  2\n",
      "8  5  5  1\n",
      "9  5  3  5\n"
     ]
    }
   ],
   "source": [
    "import pandas as pd \n",
    "import numpy as np \n",
    "\n",
    "# 가상 데이터 생성 \n",
    "np.random.seed(1)\n",
    "data = {\n",
    "    'A' : np.random.randint(1, 6, 10), # (가장 낮은 정수, 가장 높은 정수, 크기)\n",
    "    'B' : np.random.randint(1, 6, 10),\n",
    "    'C' : np.random.randint(1, 6, 10),\n",
    "}\n",
    "\n",
    "df = pd.DataFrame(data)\n",
    "print(df)"
   ]
  },
  {
   "cell_type": "code",
   "execution_count": 4,
   "id": "a1245d89",
   "metadata": {},
   "outputs": [
    {
     "name": "stdout",
     "output_type": "stream",
     "text": [
      "F-Statistic :  2.296551724137931\n",
      "p-val :  0.11992643045704418\n",
      "귀무 가설 채택\n"
     ]
    }
   ],
   "source": [
    "# 일원 분산 분석 수행 \n",
    "from scipy.stats import f_oneway\n",
    "\n",
    "f_stat, p_val = f_oneway(df['A'], df['B'], df['C'])\n",
    "print(\"F-Statistic : \" , f_stat)\n",
    "print(\"p-val : \" , p_val )\n",
    "\n",
    "alpha = 0.05\n",
    "\n",
    "if p_val < alpha : \n",
    "    print(\"귀무 가설 기각\")\n",
    "else : \n",
    "    print(\"귀무 가설 채택\")"
   ]
  },
  {
   "cell_type": "code",
   "execution_count": null,
   "id": "71e71f88",
   "metadata": {},
   "outputs": [],
   "source": []
  }
 ],
 "metadata": {
  "kernelspec": {
   "display_name": "AI",
   "language": "python",
   "name": "ai"
  },
  "language_info": {
   "codemirror_mode": {
    "name": "ipython",
    "version": 3
   },
   "file_extension": ".py",
   "mimetype": "text/x-python",
   "name": "python",
   "nbconvert_exporter": "python",
   "pygments_lexer": "ipython3",
   "version": "3.8.16"
  }
 },
 "nbformat": 4,
 "nbformat_minor": 5
}
