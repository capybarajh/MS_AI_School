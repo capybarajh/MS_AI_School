{
 "cells": [
  {
   "cell_type": "code",
   "execution_count": 1,
   "id": "8e8c11d9",
   "metadata": {},
   "outputs": [],
   "source": [
    "import pandas as pd \n",
    "from scipy import stats"
   ]
  },
  {
   "cell_type": "code",
   "execution_count": 4,
   "id": "1cf3c527",
   "metadata": {},
   "outputs": [
    {
     "name": "stdout",
     "output_type": "stream",
     "text": [
      "0.18890814558058924\n",
      "0.7420382165605095\n",
      "1.4060661308802594e-69\n",
      "귀무 가설 기각\n"
     ]
    }
   ],
   "source": [
    "# 데이터 가져오기 \n",
    "titanic_df = pd.read_csv('./data/Titanic_data.csv')\n",
    "\n",
    "# 남성 승객과 여성 승객의 생존 여부에 따른 데이터 프레임 생성 \n",
    "male_df = titanic_df[titanic_df['Sex'] == 'male']\n",
    "female_df = titanic_df[titanic_df['Sex'] == 'female']\n",
    "# print(male_df)\n",
    "# print(female_df)\n",
    "\n",
    "# .mean()\n",
    "male_survival_rate = male_df['Survived'].mean()\n",
    "female_surival_rate = female_df['Survived'].mean()\n",
    "print(male_survival_rate)\n",
    "print(female_surival_rate)\n",
    "\n",
    "\"\"\"\n",
    "0.18890814558058924\n",
    "0.7420382165605095\n",
    "\"\"\"\n",
    "\n",
    "# t - 검정 \n",
    "t, p = stats.ttest_ind(male_df['Survived'], female_df['Survived'])\n",
    "print(p)\n",
    "alpha = 0.05\n",
    "if p < alpha : \n",
    "    print(\"귀무 가설 기각\")\n",
    "else : \n",
    "    print(\"귀무 가설 채택\")"
   ]
  },
  {
   "cell_type": "code",
   "execution_count": null,
   "id": "b86ea4e0",
   "metadata": {},
   "outputs": [],
   "source": []
  }
 ],
 "metadata": {
  "kernelspec": {
   "display_name": "AI",
   "language": "python",
   "name": "ai"
  },
  "language_info": {
   "codemirror_mode": {
    "name": "ipython",
    "version": 3
   },
   "file_extension": ".py",
   "mimetype": "text/x-python",
   "name": "python",
   "nbconvert_exporter": "python",
   "pygments_lexer": "ipython3",
   "version": "3.8.16"
  }
 },
 "nbformat": 4,
 "nbformat_minor": 5
}
