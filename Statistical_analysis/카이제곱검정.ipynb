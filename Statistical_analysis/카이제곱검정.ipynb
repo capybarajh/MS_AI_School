{
 "cells": [
  {
   "cell_type": "code",
   "execution_count": 1,
   "id": "2b80f7a2",
   "metadata": {},
   "outputs": [
    {
     "name": "stdout",
     "output_type": "stream",
     "text": [
      "  Gender Smoker  Count\n",
      "0      M    Yes     20\n",
      "1      M     No     80\n",
      "2      M     No     40\n",
      "3      M    Yes     60\n",
      "4      F    Yes     40\n",
      "5      F     No    160\n",
      "6      F     No     80\n",
      "7      F    Yes    120\n",
      "Smoker   No  Yes\n",
      "Gender          \n",
      "F       120   80\n",
      "M        60   40\n",
      "1.0\n",
      "p-value: 1.0000, 귀무 가설 채택\n"
     ]
    }
   ],
   "source": [
    "import pandas as pd \n",
    "import numpy as np\n",
    "from scipy.stats import chi2_contingency\n",
    "\n",
    "# 가상 데이터 생성 \n",
    "data = {\n",
    "    'Gender' : [\"M\",\"M\",\"M\",\"M\",\"F\",\"F\",\"F\",\"F\"],\n",
    "    'Smoker' : [\"Yes\",\"No\",\"No\",\"Yes\",\"Yes\",\"No\",\"No\",\"Yes\"],\n",
    "    'Count'  : [20,80,40,60,40,160,80,120]\n",
    "}\n",
    "\n",
    "df = pd.DataFrame(data)\n",
    "\n",
    "print(df)\n",
    "\n",
    "# 데이터 프레임을 이용한 분할표 생성 \n",
    "table = pd.pivot_table(df, values='Count', index='Gender', columns='Smoker')\n",
    "print(table)\n",
    "\n",
    "# chi2_contingency\n",
    "stat, p, dof, expected = chi2_contingency(table)\n",
    "alpha = 0.05\n",
    "\n",
    "print(p)\n",
    "if p < alpha : \n",
    "    print(f\"p-value: {p:.4f}, 귀무 가설 기각\")\n",
    "else : \n",
    "    print(f\"p-value: {p:.4f}, 귀무 가설 채택\")"
   ]
  },
  {
   "cell_type": "code",
   "execution_count": null,
   "id": "895d4ce2",
   "metadata": {},
   "outputs": [],
   "source": []
  }
 ],
 "metadata": {
  "kernelspec": {
   "display_name": "AI",
   "language": "python",
   "name": "ai"
  },
  "language_info": {
   "codemirror_mode": {
    "name": "ipython",
    "version": 3
   },
   "file_extension": ".py",
   "mimetype": "text/x-python",
   "name": "python",
   "nbconvert_exporter": "python",
   "pygments_lexer": "ipython3",
   "version": "3.8.16"
  }
 },
 "nbformat": 4,
 "nbformat_minor": 5
}
