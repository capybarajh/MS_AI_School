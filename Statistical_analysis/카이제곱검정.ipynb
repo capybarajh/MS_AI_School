{
 "cells": [
  {
   "cell_type": "markdown",
   "id": "04c558aa",
   "metadata": {},
   "source": [
    "# 카이제곱 검정"
   ]
  },
  {
   "cell_type": "code",
   "execution_count": 5,
   "id": "02203d51",
   "metadata": {},
   "outputs": [
    {
     "name": "stdout",
     "output_type": "stream",
     "text": [
      "카이제곱 통계량: 3.3997252747252746\n",
      "p-value: 0.18270861966696167\n",
      "자유도: 2\n",
      "기대값:\n",
      "[[10.66666667 23.33333333 26.        ]\n",
      " [ 5.33333333 11.66666667 13.        ]]\n"
     ]
    }
   ],
   "source": [
    "import numpy as np\n",
    "from scipy.stats import chi2_contingency\n",
    "\n",
    "# 예시 데이터 생성\n",
    "observed_values = np.array([[10, 20, 30], [6, 15, 9]])\n",
    "\n",
    "# 카이제곱 검정 수행\n",
    "chi2, p_value, dof, expected_values = chi2_contingency(observed_values)\n",
    "\n",
    "# 결과 출력\n",
    "print(f\"카이제곱 통계량: {chi2}\")\n",
    "print(f\"p-value: {p_value}\")\n",
    "print(f\"자유도: {dof}\")\n",
    "print(\"기대값:\")\n",
    "print(expected_values)"
   ]
  },
  {
   "cell_type": "markdown",
   "id": "077f6841",
   "metadata": {},
   "source": [
    "- 일반적으로 카이제곱 통계량 값이 클수록 두 변수 간 관련성이 강함\n",
    "- p_value는 0.05이하일 때, 유의미한 관련성 가짐"
   ]
  },
  {
   "cell_type": "code",
   "execution_count": null,
   "id": "2d91ef72",
   "metadata": {},
   "outputs": [],
   "source": []
  }
 ],
 "metadata": {
  "kernelspec": {
   "display_name": "Python 3 (ipykernel)",
   "language": "python",
   "name": "python3"
  },
  "language_info": {
   "codemirror_mode": {
    "name": "ipython",
    "version": 3
   },
   "file_extension": ".py",
   "mimetype": "text/x-python",
   "name": "python",
   "nbconvert_exporter": "python",
   "pygments_lexer": "ipython3",
   "version": "3.10.9"
  }
 },
 "nbformat": 4,
 "nbformat_minor": 5
}
