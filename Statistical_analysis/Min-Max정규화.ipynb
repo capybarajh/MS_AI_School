{
 "cells": [
  {
   "cell_type": "markdown",
   "id": "088ea089",
   "metadata": {},
   "source": [
    "# 시계열 데이터를 활용하여 Min-Max 정규화 적용하는 실습"
   ]
  },
  {
   "cell_type": "code",
   "execution_count": 1,
   "id": "d25a3067",
   "metadata": {},
   "outputs": [],
   "source": [
    "import pandas as pd\n",
    "import numpy as np"
   ]
  },
  {
   "cell_type": "code",
   "execution_count": 2,
   "id": "8f35ffaa",
   "metadata": {},
   "outputs": [
    {
     "name": "stdout",
     "output_type": "stream",
     "text": [
      "         Date  Value\n",
      "0  2023-01-01     66\n",
      "1  2023-01-02     85\n",
      "2  2023-01-03     72\n",
      "3  2023-01-04      3\n",
      "4  2023-01-05     65\n",
      "..        ...    ...\n",
      "95 2023-04-06     66\n",
      "96 2023-04-07     14\n",
      "97 2023-04-08     36\n",
      "98 2023-04-09     46\n",
      "99 2023-04-10     68\n",
      "\n",
      "[100 rows x 2 columns]\n",
      "3 99\n",
      "         Date  Value_Normalized\n",
      "0  2023-01-01          0.656250\n",
      "1  2023-01-02          0.854167\n",
      "2  2023-01-03          0.718750\n",
      "3  2023-01-04          0.000000\n",
      "4  2023-01-05          0.645833\n",
      "..        ...               ...\n",
      "95 2023-04-06          0.656250\n",
      "96 2023-04-07          0.114583\n",
      "97 2023-04-08          0.343750\n",
      "98 2023-04-09          0.447917\n",
      "99 2023-04-10          0.677083\n",
      "\n",
      "[100 rows x 2 columns]\n"
     ]
    }
   ],
   "source": [
    "# 시계열 데이터 \n",
    "dates = pd.date_range(start='2023-01-01', periods=100, freq='D')\n",
    "values = np.random.randint(0, 100, size=100)\n",
    "\n",
    "# 데이터 프레임 \n",
    "data = pd.DataFrame({\n",
    "    'Date' : dates,\n",
    "    'Value' : values\n",
    "})\n",
    "\n",
    "print(data)\n",
    "\n",
    "# Min-Max 정규화 수행 \n",
    "min_value = data['Value'].min()\n",
    "max_value = data['Value'].max()\n",
    "\n",
    "print(min_value, max_value)\n",
    "data['Value_Normalized'] = (data['Value'] - min_value) / (max_value - min_value)\n",
    "# 공식 -> x_new = (x - min) / (max - min) \n",
    "\n",
    "# 정규화 완료된 데이터 확인 \n",
    "print(data[['Date', 'Value_Normalized']])"
   ]
  },
  {
   "cell_type": "code",
   "execution_count": null,
   "id": "3ee058ff",
   "metadata": {},
   "outputs": [],
   "source": []
  }
 ],
 "metadata": {
  "kernelspec": {
   "display_name": "AI",
   "language": "python",
   "name": "ai"
  },
  "language_info": {
   "codemirror_mode": {
    "name": "ipython",
    "version": 3
   },
   "file_extension": ".py",
   "mimetype": "text/x-python",
   "name": "python",
   "nbconvert_exporter": "python",
   "pygments_lexer": "ipython3",
   "version": "3.8.16"
  }
 },
 "nbformat": 4,
 "nbformat_minor": 5
}
