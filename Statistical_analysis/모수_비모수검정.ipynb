{
 "cells": [
  {
   "cell_type": "code",
   "execution_count": 1,
   "id": "ba07c941",
   "metadata": {},
   "outputs": [],
   "source": [
    "import numpy as np \n",
    "from scipy import stats"
   ]
  },
  {
   "cell_type": "code",
   "execution_count": 2,
   "id": "ceb9a260",
   "metadata": {},
   "outputs": [],
   "source": [
    "np.random.seed(42)\n",
    "\n",
    "# 모수 검정용 데이터 생성 \n",
    "n = 100\n",
    "mu1, mu2 = 0, 0.5\n",
    "sigma = 1 \n",
    "data1 = np.random.normal(mu1, sigma, n)\n",
    "data2 = np.random.normal(mu2, sigma, n)"
   ]
  },
  {
   "cell_type": "code",
   "execution_count": 3,
   "id": "c3ff6582",
   "metadata": {},
   "outputs": [
    {
     "name": "stdout",
     "output_type": "stream",
     "text": [
      "[0.87737307 0.74076862 0.69701574 0.70248408 0.35949115 0.29359184\n",
      " 0.80936116 0.81011339 0.86707232 0.91324055 0.5113424  0.50151629\n",
      " 0.79829518 0.64996393 0.70196688 0.79579267 0.89000534 0.33799516\n",
      " 0.37558295 0.09398194 0.57828014 0.03594227 0.46559802 0.54264463\n",
      " 0.28654125 0.59083326 0.03050025 0.03734819 0.82260056 0.36019064] [0.62706051 1.02224326 1.26999355 0.71582103 1.12289048 0.58534746\n",
      " 0.55168172 1.03135463 1.04063512 1.1374299  1.22609133 1.47585208\n",
      " 1.01630035 0.82295647 1.29518619 0.77083225 0.93897142 0.57845638\n",
      " 0.52535074 1.46264841 1.33598012 1.19597421 0.90895294 0.67329432\n",
      " 0.65643704 0.7502429  1.04922666 1.21459592 1.16019738 0.7799339 ]\n"
     ]
    }
   ],
   "source": [
    "# 비모수 검정용 데이터 생성 \n",
    "m = 30 \n",
    "data3 = np.random.uniform(0,1,m)\n",
    "data4 = np.random.uniform(0.5, 1.5 ,m)\n",
    "\n",
    "print(data3, data4)"
   ]
  },
  {
   "cell_type": "code",
   "execution_count": 5,
   "id": "ea3c4e10",
   "metadata": {},
   "outputs": [
    {
     "name": "stdout",
     "output_type": "stream",
     "text": [
      "t_statistic: -4.755, p-value: 0.000\n"
     ]
    }
   ],
   "source": [
    "# 데이터 생성 완료 -> 모수 검정\n",
    "t_stat, p_val = stats.ttest_ind(data1, data2)\n",
    "print(\"t_statistic: {:.3f}, p-value: {:.3f}\".format(t_stat, p_val))"
   ]
  },
  {
   "cell_type": "code",
   "execution_count": 6,
   "id": "bac67ff5",
   "metadata": {},
   "outputs": [
    {
     "name": "stdout",
     "output_type": "stream",
     "text": [
      "t_statistic: 145.000, p-value: 0.000\n"
     ]
    }
   ],
   "source": [
    "# 데이터 생성 완료 -> 비모수 검정\n",
    "u_stat, p_val = stats.mannwhitneyu(data3, data4)\n",
    "\n",
    "print(\"t_statistic: {:.3f}, p-value: {:.3f}\".format(u_stat, p_val))"
   ]
  },
  {
   "cell_type": "code",
   "execution_count": null,
   "id": "03d8c774",
   "metadata": {},
   "outputs": [],
   "source": []
  }
 ],
 "metadata": {
  "kernelspec": {
   "display_name": "AI",
   "language": "python",
   "name": "ai"
  },
  "language_info": {
   "codemirror_mode": {
    "name": "ipython",
    "version": 3
   },
   "file_extension": ".py",
   "mimetype": "text/x-python",
   "name": "python",
   "nbconvert_exporter": "python",
   "pygments_lexer": "ipython3",
   "version": "3.8.16"
  }
 },
 "nbformat": 4,
 "nbformat_minor": 5
}
