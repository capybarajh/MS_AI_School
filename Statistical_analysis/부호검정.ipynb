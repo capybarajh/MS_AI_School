{
 "cells": [
  {
   "cell_type": "code",
   "execution_count": 1,
   "id": "c964ee2d",
   "metadata": {},
   "outputs": [],
   "source": [
    "import numpy as np\n",
    "from scipy.stats import binom_test"
   ]
  },
  {
   "cell_type": "code",
   "execution_count": 2,
   "id": "6689752c",
   "metadata": {},
   "outputs": [
    {
     "name": "stdout",
     "output_type": "stream",
     "text": [
      "[ 9.49671415  8.8617357   9.64768854 10.52302986  8.76584663  8.76586304\n",
      " 10.57921282  9.76743473  8.53052561  9.54256004  8.53658231  8.53427025\n",
      "  9.24196227  7.08671976  7.27508217  8.43771247  7.98716888  9.31424733\n",
      "  8.09197592  7.5876963 ]\n"
     ]
    }
   ],
   "source": [
    "# 가상의 데이터 생성 \n",
    "np.random.seed(42)\n",
    "n = 20\n",
    "nm = 9 \n",
    "data = np.random.normal(nm, size=n)\n",
    "\n",
    "print(data)"
   ]
  },
  {
   "cell_type": "code",
   "execution_count": 3,
   "id": "ff7f7cad",
   "metadata": {},
   "outputs": [
    {
     "name": "stdout",
     "output_type": "stream",
     "text": [
      "0.5034446716308594\n",
      "8\n"
     ]
    },
    {
     "name": "stderr",
     "output_type": "stream",
     "text": [
      "C:\\Users\\ljh29\\AppData\\Local\\Temp\\ipykernel_15888\\2376779262.py:7: DeprecationWarning: 'binom_test' is deprecated in favour of 'binomtest' from version 1.7.0 and will be removed in Scipy 1.12.0.\n",
      "  p_val = binom_test(n_above_mu0, n=n)\n"
     ]
    }
   ],
   "source": [
    "# 검정할 값(mu0) 설정\n",
    "mu0 = 9\n",
    "\n",
    "n_above_mu0 = sum(data > mu0)\n",
    "\n",
    "# 부호 검정 \n",
    "p_val = binom_test(n_above_mu0, n=n)\n",
    "\n",
    "print(p_val)\n",
    "print(n_above_mu0)"
   ]
  },
  {
   "cell_type": "code",
   "execution_count": null,
   "id": "b2f5dcdb",
   "metadata": {},
   "outputs": [],
   "source": []
  }
 ],
 "metadata": {
  "kernelspec": {
   "display_name": "AI",
   "language": "python",
   "name": "ai"
  },
  "language_info": {
   "codemirror_mode": {
    "name": "ipython",
    "version": 3
   },
   "file_extension": ".py",
   "mimetype": "text/x-python",
   "name": "python",
   "nbconvert_exporter": "python",
   "pygments_lexer": "ipython3",
   "version": "3.8.16"
  }
 },
 "nbformat": 4,
 "nbformat_minor": 5
}
