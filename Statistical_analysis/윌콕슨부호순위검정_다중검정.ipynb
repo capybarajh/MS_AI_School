{
 "cells": [
  {
   "cell_type": "markdown",
   "id": "f156b295",
   "metadata": {},
   "source": [
    "# Bonferroni 보정"
   ]
  },
  {
   "cell_type": "code",
   "execution_count": 14,
   "id": "3623da9e",
   "metadata": {},
   "outputs": [
    {
     "name": "stdout",
     "output_type": "stream",
     "text": [
      "sample 1 :\n",
      "statistic :  15.0\n",
      "p-value 0.3678806427796655\n",
      "Same distribution (fail to reject HO)\n",
      "\n",
      "sample 2 :\n",
      "statistic :  20.0\n",
      "p-value 0.7626055264948537\n",
      "Same distribution (fail to reject HO)\n",
      "\n",
      "sample 3 :\n",
      "statistic :  22.5\n",
      "p-value 1.0\n",
      "Same distribution (fail to reject HO)\n",
      "\n",
      "sample 4 :\n",
      "statistic :  8.0\n",
      "p-value 0.0817062538877589\n",
      "Same distribution (fail to reject HO)\n",
      "\n",
      "sample 5 :\n",
      "statistic :  7.0\n",
      "p-value 0.1067188163293824\n",
      "Same distribution (fail to reject HO)\n",
      "\n",
      "sample 6 :\n",
      "statistic :  10.0\n",
      "p-value 0.22779999398822914\n",
      "Same distribution (fail to reject HO)\n",
      "\n",
      "sample 7 :\n",
      "statistic :  13.0\n",
      "p-value 0.8607562233837367\n",
      "Same distribution (fail to reject HO)\n",
      "\n",
      "sample 8 :\n",
      "statistic :  12.0\n",
      "p-value 0.7257209852083116\n",
      "Same distribution (fail to reject HO)\n",
      "\n",
      "sample 9 :\n",
      "statistic :  12.0\n",
      "p-value 0.19872969522125983\n",
      "Same distribution (fail to reject HO)\n",
      "\n",
      "sample 10 :\n",
      "statistic :  10.0\n",
      "p-value 0.4903143196690689\n",
      "Same distribution (fail to reject HO)\n",
      "\n",
      "Bonferroni correction\n",
      "sample : 1 : Same distribution (fail to reject HO)\n",
      "sample : 2 : Same distribution (fail to reject HO)\n",
      "sample : 3 : Same distribution (fail to reject HO)\n",
      "sample : 4 : Same distribution (fail to reject HO)\n",
      "sample : 5 : Same distribution (fail to reject HO)\n",
      "sample : 6 : Same distribution (fail to reject HO)\n",
      "sample : 7 : Same distribution (fail to reject HO)\n",
      "sample : 8 : Same distribution (fail to reject HO)\n",
      "sample : 9 : Same distribution (fail to reject HO)\n",
      "sample : 10 : Same distribution (fail to reject HO)\n"
     ]
    },
    {
     "name": "stderr",
     "output_type": "stream",
     "text": [
      "C:\\Users\\ljh29\\anaconda3\\lib\\site-packages\\scipy\\stats\\_morestats.py:3414: UserWarning: Exact p-value calculation does not work if there are zeros. Switching to normal approximation.\n",
      "  warnings.warn(\"Exact p-value calculation does not work if there are \"\n",
      "C:\\Users\\ljh29\\anaconda3\\lib\\site-packages\\scipy\\stats\\_morestats.py:3428: UserWarning: Sample size too small for normal approximation.\n",
      "  warnings.warn(\"Sample size too small for normal approximation.\")\n"
     ]
    }
   ],
   "source": [
    "import pandas as pd \n",
    "from scipy.stats import wilcoxon\n",
    "from statsmodels.stats.multitest import multipletests\n",
    "\n",
    "data = pd.read_csv(\"./data/treatment_data.csv\")\n",
    "\n",
    "p_values = []\n",
    "\n",
    "for i in range(10) : \n",
    "    sample = data.sample(frac=0.5)\n",
    "    stat, p = wilcoxon(sample['pre_treatment'], sample['post_treatment'])\n",
    "    print(\"sample\", i+1, ':')\n",
    "    print('statistic : ', stat)\n",
    "    print('p-value', p)\n",
    "    p_values.append(p)\n",
    "    if p > 0.05 : \n",
    "        print(\"Same distribution (fail to reject HO)\\n\")\n",
    "    else : \n",
    "        print(\"Different distribution (reject HO)\\n\")\n",
    "               \n",
    "alpha = 0.05 \n",
    "rejects_bonf, corrected_p_bonf, _, _ = multipletests(p_values, alpha=alpha, method='bonferroni')\n",
    "print(\"Bonferroni correction\")\n",
    "for i in range(len(rejects_bonf)) : \n",
    "    if rejects_bonf[i]  :\n",
    "        print(f\"sample : {i+1} : Different distribution (reject HO)\" )\n",
    "    else : \n",
    "        print(f\"sample : {i+1} : Same distribution (fail to reject HO)\")"
   ]
  },
  {
   "cell_type": "markdown",
   "id": "9a08432b",
   "metadata": {},
   "source": [
    "# Benjamini-Hochberg(BH) 보정"
   ]
  },
  {
   "cell_type": "code",
   "execution_count": 15,
   "id": "5273581c",
   "metadata": {},
   "outputs": [
    {
     "name": "stdout",
     "output_type": "stream",
     "text": [
      "Benjamini-Hochberg correction\n",
      "sample : 1 : Same distribution (fail to reject HO)\n",
      "sample : 2 : Same distribution (fail to reject HO)\n",
      "sample : 3 : Same distribution (fail to reject HO)\n",
      "sample : 4 : Same distribution (fail to reject HO)\n",
      "sample : 5 : Same distribution (fail to reject HO)\n",
      "sample : 6 : Same distribution (fail to reject HO)\n",
      "sample : 7 : Same distribution (fail to reject HO)\n",
      "sample : 8 : Same distribution (fail to reject HO)\n",
      "sample : 9 : Same distribution (fail to reject HO)\n",
      "sample : 10 : Same distribution (fail to reject HO)\n"
     ]
    }
   ],
   "source": [
    "rejects_bh, corrected_p_bh, _, _ = multipletests(p_values, alpha=alpha, method='fdr_bh')\n",
    "print(\"Benjamini-Hochberg correction\")\n",
    "for i in range(len(rejects_bh)) : \n",
    "    if rejects_bonf[i]  :\n",
    "        print(f\"sample : {i+1} : Different distribution (reject HO)\" )\n",
    "    else : \n",
    "        print(f\"sample : {i+1} : Same distribution (fail to reject HO)\")"
   ]
  },
  {
   "cell_type": "code",
   "execution_count": null,
   "id": "cee1e6d9",
   "metadata": {},
   "outputs": [],
   "source": []
  }
 ],
 "metadata": {
  "kernelspec": {
   "display_name": "Python 3 (ipykernel)",
   "language": "python",
   "name": "python3"
  },
  "language_info": {
   "codemirror_mode": {
    "name": "ipython",
    "version": 3
   },
   "file_extension": ".py",
   "mimetype": "text/x-python",
   "name": "python",
   "nbconvert_exporter": "python",
   "pygments_lexer": "ipython3",
   "version": "3.10.9"
  }
 },
 "nbformat": 4,
 "nbformat_minor": 5
}
