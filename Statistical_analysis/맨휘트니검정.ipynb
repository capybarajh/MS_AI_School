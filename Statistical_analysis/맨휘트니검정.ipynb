{
 "cells": [
  {
   "cell_type": "code",
   "execution_count": 1,
   "id": "fd62d6ec",
   "metadata": {},
   "outputs": [],
   "source": [
    "import pandas as pd \n",
    "import seaborn as sns\n",
    "import matplotlib.pyplot as plt\n",
    "from scipy.stats import mannwhitneyu"
   ]
  },
  {
   "cell_type": "code",
   "execution_count": 2,
   "id": "62a443f9",
   "metadata": {},
   "outputs": [
    {
     "name": "stdout",
     "output_type": "stream",
     "text": [
      "   group1  group2\n",
      "0       3       6\n",
      "1       2       4\n",
      "2       5       7\n",
      "3       1       2\n",
      "4       4       6\n",
      "5       2       3\n",
      "6       6       7\n",
      "7       7       9\n",
      "8       9      10\n",
      "9       8      11\n"
     ]
    }
   ],
   "source": [
    "data = {\n",
    "    'group1' : [3,2,5,1,4,2,6,7,9,8],\n",
    "    'group2' : [6,4,7,2,6,3,7,9,10,11]\n",
    "}\n",
    "\n",
    "df = pd.DataFrame(data)\n",
    "print(df)\n",
    "df.to_csv(\"./data/mannwhitneyu_sample_data.csv\", index=False, encoding='utf-8')"
   ]
  },
  {
   "cell_type": "code",
   "execution_count": 3,
   "id": "e7f6bb4b",
   "metadata": {},
   "outputs": [
    {
     "name": "stdout",
     "output_type": "stream",
     "text": [
      "32.5 0.19622288836173518\n",
      "fail to reject H0\n"
     ]
    }
   ],
   "source": [
    "# 데이터 불러오기 \n",
    "data = pd.read_csv(\"./data/mannwhitneyu_sample_data.csv\")\n",
    "# 두 집단 간의 차이 \n",
    "stat, p = mannwhitneyu(data['group1'], data['group2'])\n",
    "print(stat, p)\n",
    "\n",
    "# 결과 출력 \n",
    "if p > 0.05 : \n",
    "    print(\"fail to reject H0\")\n",
    "else : \n",
    "    print(\"reject H0\")"
   ]
  },
  {
   "cell_type": "markdown",
   "id": "5915734c",
   "metadata": {},
   "source": [
    "# 시각화 "
   ]
  },
  {
   "cell_type": "code",
   "execution_count": 4,
   "id": "2897b4db",
   "metadata": {},
   "outputs": [
    {
     "name": "stderr",
     "output_type": "stream",
     "text": [
      "C:\\Users\\ljh29\\anaconda3\\envs\\AI\\lib\\site-packages\\seaborn\\categorical.py:166: FutureWarning: Setting a gradient palette using color= is deprecated and will be removed in version 0.13. Set `palette='dark:.3'` for same effect.\n",
      "  warnings.warn(msg, FutureWarning)\n"
     ]
    },
    {
     "data": {
      "image/png": "[encoded data removed]",
      "text/plain": [
       "<Figure size 640x480 with 1 Axes>"
      ]
     },
     "metadata": {},
     "output_type": "display_data"
    }
   ],
   "source": [
    "sns.boxplot(data=data[['group1', 'group2']], palette=\"Set3\")\n",
    "sns.stripplot(data=data[['group1', 'group2']], color='.3', size=4)\n",
    "sns.despine(trim=True)\n",
    "if p > 0.05:\n",
    "    plt.title('Mann-Whitney test\\nSame distribution\\np-value=%.3f' % (p))\n",
    "else:\n",
    "    plt.title('Mann-Whitney test\\nDifferent distribution\\np-value=%.3f' % (p))\n",
    "plt.show()"
   ]
  },
  {
   "cell_type": "code",
   "execution_count": null,
   "id": "fddde129",
   "metadata": {},
   "outputs": [],
   "source": []
  }
 ],
 "metadata": {
  "kernelspec": {
   "display_name": "AI",
   "language": "python",
   "name": "ai"
  },
  "language_info": {
   "codemirror_mode": {
    "name": "ipython",
    "version": 3
   },
   "file_extension": ".py",
   "mimetype": "text/x-python",
   "name": "python",
   "nbconvert_exporter": "python",
   "pygments_lexer": "ipython3",
   "version": "3.8.16"
  }
 },
 "nbformat": 4,
 "nbformat_minor": 5
}
