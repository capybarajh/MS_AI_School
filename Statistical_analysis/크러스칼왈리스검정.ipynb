{
 "cells": [
  {
   "cell_type": "code",
   "execution_count": 1,
   "id": "43795d3b",
   "metadata": {},
   "outputs": [
    {
     "name": "stdout",
     "output_type": "stream",
     "text": [
      "[6.62434536 4.38824359 4.47182825 3.92703138 5.86540763 2.6984613\n",
      " 6.74481176 4.2387931  5.3190391  4.75062962 6.46210794 2.93985929\n",
      " 4.6775828  4.61594565 6.13376944 3.90010873 4.82757179 4.12214158\n",
      " 5.04221375 5.58281521] [5.89938082 8.14472371 7.90159072 7.50249434 7.90085595 6.31627214\n",
      " 6.87710977 6.06423057 6.73211192 7.53035547 6.30833925 6.60324647\n",
      " 6.3128273  6.15479436 6.32875387 6.9873354  5.88268965 7.2344157\n",
      " 8.65980218 7.74204416 6.80816445 6.11237104 6.25284171 8.6924546\n",
      " 7.05080775] [ 9.36300435 10.19091548 12.10025514 10.12015895 10.61720311 10.30017032\n",
      "  9.64775015  8.8574818   9.65065728  9.79110577 10.58662319 10.83898341\n",
      " 10.93110208 10.28558733 10.88514116]\n"
     ]
    }
   ],
   "source": [
    "import numpy as np \n",
    "from scipy.stats import kruskal\n",
    "\n",
    "# 데이터 생성 \n",
    "np.random.seed(1)\n",
    "group1 = np.random.normal(loc=5, scale=1, size=20)\n",
    "group2 = np.random.normal(loc=7, scale=1, size=25)\n",
    "group3 = np.random.normal(loc=10, scale=1, size=15)\n",
    "\n",
    "print(group1, group2, group3)"
   ]
  },
  {
   "cell_type": "code",
   "execution_count": 2,
   "id": "9ea9fe5a",
   "metadata": {},
   "outputs": [
    {
     "name": "stdout",
     "output_type": "stream",
     "text": [
      "H 검정 통계량 :  46.584295081967184\n",
      "p-val 7.6621182690351e-11\n"
     ]
    }
   ],
   "source": [
    "H, p_val = kruskal(group1, group2, group3)\n",
    "\n",
    "print(\"H 검정 통계량 : \",H)\n",
    "print(\"p-val\",p_val )"
   ]
  },
  {
   "cell_type": "code",
   "execution_count": null,
   "id": "e7cf4020",
   "metadata": {},
   "outputs": [],
   "source": []
  }
 ],
 "metadata": {
  "kernelspec": {
   "display_name": "AI",
   "language": "python",
   "name": "ai"
  },
  "language_info": {
   "codemirror_mode": {
    "name": "ipython",
    "version": 3
   },
   "file_extension": ".py",
   "mimetype": "text/x-python",
   "name": "python",
   "nbconvert_exporter": "python",
   "pygments_lexer": "ipython3",
   "version": "3.8.16"
  }
 },
 "nbformat": 4,
 "nbformat_minor": 5
}
