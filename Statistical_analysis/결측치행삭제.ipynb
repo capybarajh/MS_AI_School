{
 "cells": [
  {
   "cell_type": "markdown",
   "id": "88f836aa",
   "metadata": {},
   "source": [
    "# 시계열 데이터 전처리 - 결측치가 있는 행 삭제 실습"
   ]
  },
  {
   "cell_type": "code",
   "execution_count": 1,
   "id": "17a7fbc7",
   "metadata": {},
   "outputs": [],
   "source": [
    "import pandas as pd \n",
    "import numpy as np "
   ]
  },
  {
   "cell_type": "code",
   "execution_count": 3,
   "id": "cfa440c4",
   "metadata": {},
   "outputs": [
    {
     "name": "stdout",
     "output_type": "stream",
     "text": [
      "Date     2023-01-21 00:00:00\n",
      "Value                    NaN\n",
      "Name: 20, dtype: object\n"
     ]
    }
   ],
   "source": [
    "# 시계열 데이터 생성\n",
    "np.random.seed(42)\n",
    "dates = pd.date_range(start='2023-01-01', periods=100, freq='D')\n",
    "values = np.random.randn(100)\n",
    "\n",
    "# 결측치 생성 \n",
    "values[20] = np.nan\n",
    "\n",
    "# 데이터 프레임 생성\n",
    "data = pd.DataFrame({\n",
    "    'Date' : dates,\n",
    "    'Value' : values\n",
    "})\n",
    "\n",
    "\n",
    "row = data.iloc[20]\n",
    "print(row)"
   ]
  },
  {
   "cell_type": "markdown",
   "id": "ac2858bc",
   "metadata": {},
   "source": [
    "#### 결측치 개수 확인 체크 "
   ]
  },
  {
   "cell_type": "code",
   "execution_count": 4,
   "id": "b4d7ae0e",
   "metadata": {},
   "outputs": [
    {
     "name": "stdout",
     "output_type": "stream",
     "text": [
      "Date     0\n",
      "Value    1\n",
      "dtype: int64\n"
     ]
    }
   ],
   "source": [
    "print(data.isnull().sum())"
   ]
  },
  {
   "cell_type": "code",
   "execution_count": 5,
   "id": "e00e206e",
   "metadata": {},
   "outputs": [
    {
     "name": "stdout",
     "output_type": "stream",
     "text": [
      "         Date     Value\n",
      "0  2023-01-01  0.496714\n",
      "1  2023-01-02 -0.138264\n",
      "2  2023-01-03  0.647689\n",
      "3  2023-01-04  1.523030\n",
      "4  2023-01-05 -0.234153\n",
      "..        ...       ...\n",
      "95 2023-04-06 -1.463515\n",
      "96 2023-04-07  0.296120\n",
      "97 2023-04-08  0.261055\n",
      "98 2023-04-09  0.005113\n",
      "99 2023-04-10 -0.234587\n",
      "\n",
      "[99 rows x 2 columns]\n"
     ]
    }
   ],
   "source": [
    "data_without_missing = data.dropna(axis=0)\n",
    "\n",
    "# 결측치 삭제 여부 확인 체크 \n",
    "print(data_without_missing)"
   ]
  },
  {
   "cell_type": "code",
   "execution_count": null,
   "id": "abafd750",
   "metadata": {},
   "outputs": [],
   "source": []
  }
 ],
 "metadata": {
  "kernelspec": {
   "display_name": "AI",
   "language": "python",
   "name": "ai"
  },
  "language_info": {
   "codemirror_mode": {
    "name": "ipython",
    "version": 3
   },
   "file_extension": ".py",
   "mimetype": "text/x-python",
   "name": "python",
   "nbconvert_exporter": "python",
   "pygments_lexer": "ipython3",
   "version": "3.8.16"
  }
 },
 "nbformat": 4,
 "nbformat_minor": 5
}
