{
 "cells": [
  {
   "cell_type": "code",
   "execution_count": 1,
   "id": "c9f3e8fb",
   "metadata": {},
   "outputs": [],
   "source": [
    "import seaborn as sns"
   ]
  },
  {
   "cell_type": "code",
   "execution_count": 2,
   "id": "4ba1e665",
   "metadata": {},
   "outputs": [
    {
     "name": "stdout",
     "output_type": "stream",
     "text": [
      "     survived  pclass   age     fare\n",
      "0           0       3  22.0   7.2500\n",
      "1           1       1  38.0  71.2833\n",
      "2           1       3  26.0   7.9250\n",
      "3           1       1  35.0  53.1000\n",
      "4           0       3  35.0   8.0500\n",
      "..        ...     ...   ...      ...\n",
      "885         0       3  39.0  29.1250\n",
      "886         0       2  27.0  13.0000\n",
      "887         1       1  19.0  30.0000\n",
      "889         1       1  26.0  30.0000\n",
      "890         0       3  32.0   7.7500\n",
      "\n",
      "[714 rows x 4 columns]\n",
      "          survived    pclass       age      fare\n",
      "survived  1.000000 -0.359653 -0.077221  0.268189\n",
      "pclass   -0.359653  1.000000 -0.369226 -0.554182\n",
      "age      -0.077221 -0.369226  1.000000  0.096067\n",
      "fare      0.268189 -0.554182  0.096067  1.000000\n"
     ]
    }
   ],
   "source": [
    "cols = ['survived', 'pclass', 'age', 'fare']\n",
    "\n",
    "df = sns.load_dataset('titanic')[cols].dropna()\n",
    "print(df)\n",
    "\n",
    "corr = df.corr()\n",
    "\n",
    "print(corr)"
   ]
  },
  {
   "cell_type": "code",
   "execution_count": null,
   "id": "8c9fa2f1",
   "metadata": {},
   "outputs": [],
   "source": []
  }
 ],
 "metadata": {
  "kernelspec": {
   "display_name": "AI",
   "language": "python",
   "name": "ai"
  },
  "language_info": {
   "codemirror_mode": {
    "name": "ipython",
    "version": 3
   },
   "file_extension": ".py",
   "mimetype": "text/x-python",
   "name": "python",
   "nbconvert_exporter": "python",
   "pygments_lexer": "ipython3",
   "version": "3.8.16"
  }
 },
 "nbformat": 4,
 "nbformat_minor": 5
}
