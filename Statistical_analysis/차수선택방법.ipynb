{
 "cells": [
  {
   "cell_type": "code",
   "execution_count": 1,
   "id": "f3cf836d",
   "metadata": {},
   "outputs": [],
   "source": [
    "import numpy as np\n",
    "import pandas as pd\n",
    "from statsmodels.tsa.arima.model import ARIMA"
   ]
  },
  {
   "cell_type": "code",
   "execution_count": 2,
   "id": "b3b23171",
   "metadata": {},
   "outputs": [
    {
     "name": "stdout",
     "output_type": "stream",
     "text": [
      "[ 1.76405235  0.40015721  0.97873798  2.2408932   1.86755799 -0.97727788\n",
      "  0.95008842 -0.15135721 -0.10321885  0.4105985   0.14404357  1.45427351\n",
      "  0.76103773  0.12167502  0.44386323  0.33367433  1.49407907 -0.20515826\n",
      "  0.3130677  -0.85409574 -2.55298982  0.6536186   0.8644362  -0.74216502\n",
      "  2.26975462 -1.45436567  0.04575852 -0.18718385  1.53277921  1.46935877\n",
      "  0.15494743  0.37816252 -0.88778575 -1.98079647 -0.34791215  0.15634897\n",
      "  1.23029068  1.20237985 -0.38732682 -0.30230275 -1.04855297 -1.42001794\n",
      " -1.70627019  1.9507754  -0.50965218 -0.4380743  -1.25279536  0.77749036\n",
      " -1.61389785 -0.21274028 -0.89546656  0.3869025  -0.51080514 -1.18063218\n",
      " -0.02818223  0.42833187  0.06651722  0.3024719  -0.63432209 -0.36274117\n",
      " -0.67246045 -0.35955316 -0.81314628 -1.7262826   0.17742614 -0.40178094\n",
      " -1.63019835  0.46278226 -0.90729836  0.0519454   0.72909056  0.12898291\n",
      "  1.13940068 -1.23482582  0.40234164 -0.68481009 -0.87079715 -0.57884966\n",
      " -0.31155253  0.05616534 -1.16514984  0.90082649  0.46566244 -1.53624369\n",
      "  1.48825219  1.89588918  1.17877957 -0.17992484 -1.07075262  1.05445173\n",
      " -0.40317695  1.22244507  0.20827498  0.97663904  0.3563664   0.70657317\n",
      "  0.01050002  1.78587049  0.12691209  0.40198936]\n"
     ]
    }
   ],
   "source": [
    "np.random.seed(0)\n",
    "n = 100\n",
    "data = np.random.normal(0, 1, n)\n",
    "print(data)"
   ]
  },
  {
   "cell_type": "code",
   "execution_count": 3,
   "id": "64ea3b4f",
   "metadata": {},
   "outputs": [],
   "source": [
    "best_aic = np.inf\n",
    "best_order = None"
   ]
  },
  {
   "cell_type": "code",
   "execution_count": 4,
   "id": "68584a39",
   "metadata": {},
   "outputs": [
    {
     "name": "stderr",
     "output_type": "stream",
     "text": [
      "C:\\Users\\ljh29\\anaconda3\\lib\\site-packages\\statsmodels\\base\\model.py:604: ConvergenceWarning: Maximum Likelihood optimization failed to converge. Check mle_retvals\n",
      "  warnings.warn(\"Maximum Likelihood optimization failed to \"\n"
     ]
    }
   ],
   "source": [
    "for p in range(3):\n",
    "    for d in range(2):\n",
    "        for q in range(3):\n",
    "            order = (p, d, q)\n",
    "            try:\n",
    "                model = ARIMA(data, order=order)\n",
    "                results = model.fit()\n",
    "                aic = results.aic\n",
    "                if aic < best_aic:\n",
    "                    best_aic = aic\n",
    "                    best_order = order\n",
    "            except:\n",
    "                continue"
   ]
  },
  {
   "cell_type": "code",
   "execution_count": 5,
   "id": "4c2cec6c",
   "metadata": {},
   "outputs": [
    {
     "name": "stdout",
     "output_type": "stream",
     "text": [
      "Best AIC: 286.1056145205225\n",
      "Best Order: (0, 1, 1)\n"
     ]
    }
   ],
   "source": [
    "print(\"Best AIC:\", best_aic)\n",
    "print(\"Best Order:\", best_order)"
   ]
  },
  {
   "cell_type": "code",
   "execution_count": 9,
   "id": "3de9456b",
   "metadata": {},
   "outputs": [],
   "source": [
    "best_bic = np.inf\n",
    "best_order2 = None"
   ]
  },
  {
   "cell_type": "code",
   "execution_count": 10,
   "id": "ae6795b9",
   "metadata": {},
   "outputs": [
    {
     "name": "stderr",
     "output_type": "stream",
     "text": [
      "C:\\Users\\ljh29\\anaconda3\\lib\\site-packages\\statsmodels\\base\\model.py:604: ConvergenceWarning: Maximum Likelihood optimization failed to converge. Check mle_retvals\n",
      "  warnings.warn(\"Maximum Likelihood optimization failed to \"\n"
     ]
    }
   ],
   "source": [
    "for p in range(3):\n",
    "    for d in range(2):\n",
    "        for q in range(3):\n",
    "            order = (p, d, q)\n",
    "            try:\n",
    "                model = ARIMA(data, order=order)\n",
    "                results = model.fit()\n",
    "                bic = results.bic\n",
    "                if bic < best_bic:\n",
    "                    best_bic = bic\n",
    "                    best_order2 = order\n",
    "            except:\n",
    "                continue"
   ]
  },
  {
   "cell_type": "code",
   "execution_count": 11,
   "id": "78f11b90",
   "metadata": {},
   "outputs": [
    {
     "name": "stdout",
     "output_type": "stream",
     "text": [
      "Best BIC: 291.2958542207917\n",
      "Best Order: (0, 1, 1)\n"
     ]
    }
   ],
   "source": [
    "print(\"Best BIC:\", best_bic)\n",
    "print(\"Best Order:\", best_order2)"
   ]
  },
  {
   "cell_type": "code",
   "execution_count": null,
   "id": "84725bb7",
   "metadata": {},
   "outputs": [],
   "source": []
  }
 ],
 "metadata": {
  "kernelspec": {
   "display_name": "Python 3 (ipykernel)",
   "language": "python",
   "name": "python3"
  },
  "language_info": {
   "codemirror_mode": {
    "name": "ipython",
    "version": 3
   },
   "file_extension": ".py",
   "mimetype": "text/x-python",
   "name": "python",
   "nbconvert_exporter": "python",
   "pygments_lexer": "ipython3",
   "version": "3.10.9"
  }
 },
 "nbformat": 4,
 "nbformat_minor": 5
}
