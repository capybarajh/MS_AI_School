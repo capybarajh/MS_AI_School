{
 "cells": [
  {
   "cell_type": "code",
   "execution_count": 1,
   "id": "f7fb08d6",
   "metadata": {},
   "outputs": [],
   "source": [
    "import torch\n",
    "import torch.nn as nn \n",
    "import torch.nn.functional as F"
   ]
  },
  {
   "cell_type": "markdown",
   "id": "8ec39270",
   "metadata": {},
   "source": [
    "### Inception Model 블록 구조"
   ]
  },
  {
   "cell_type": "code",
   "execution_count": 2,
   "id": "ce9f390d",
   "metadata": {},
   "outputs": [],
   "source": [
    "class InceptionModule(nn.Module) : \n",
    "    \n",
    "    def __init__(self, in_channels, out_1x1, reduce_3x3, out_3x3, reduce_5x5, out_5x5, out_pool) : \n",
    "        super(InceptionModule, self).__init__()\n",
    "        \n",
    "        # 1x1 convolution branch\n",
    "        self.conv1x1 = nn.Conv2d(in_channels, out_1x1, kernel_size=1)\n",
    "        # ---->>>> 입력 in_channels ->  out_1x1 변환 \n",
    "        # 3x3 convolution branch\n",
    "        self.conv3x3_reduce = nn.Conv2d(in_channels, reduce_3x3, kernel_size=1) # reduce : 줄이다.. \n",
    "        # ---->>>> (목적 : 입력 채널 줄이기) -> 입력 in_channels -> reduce_3x3 변환 \n",
    "        self.conv3x3 = nn.Conv2d(reduce_3x3, out_3x3, kernel_size=3, padding=1)\n",
    "        # ---->>>> 입력 : reduce_3x3 -> out_3x3 변환 / 출력 크기를 입력과 동일하게 유지 합니다. \n",
    "\n",
    "        # 5x5 convolution branch\n",
    "        self.conv5x5_reduce = nn.Conv2d(in_channels, reduce_5x5, kernel_size=1)\n",
    "        self.conv5x5 = nn.Conv2d(reduce_5x5, out_5x5, kernel_size=5, padding=2)\n",
    "        \n",
    "        # Max Pooling branch \n",
    "        self.pool = nn.MaxPool2d(kernel_size=3, stride=1, padding=1)\n",
    "        self.conv_pool = nn.Conv2d(in_channels, out_pool, kernel_size=1)\n",
    "        \n",
    "    def forward(self, x) : \n",
    "        # 1x1 convolution branch\n",
    "        out_1x1 = F.relu(self.conv1x1(x))\n",
    "        \n",
    "        # 3x3 convolution branch\n",
    "        out_3x3 = F.relu(self.conv3x3(F.relu(self.conv3x3_reduce(x))))\n",
    "        ### 순서 : self.conv3x3_reduce(x) -> relu -> conv3x3(x) -> relu\n",
    "        \n",
    "        # 5x5 convolution branch\n",
    "        out_5x5 = F.relu(self.conv5x5(F.relu(self.conv5x5_reduce(x))))\n",
    "        ### 순서 : self.conv5x5_reduce(x) -> relu -> self.conv5x5(x) -> relu\n",
    "        \n",
    "        # Max Pooling branch \n",
    "        out_pool = F.relu(self.conv_pool(self.pool(x)))\n",
    "        ### 순서 : self.pool(x) -> self.conv_pool(self.pool(x)) -> relu\n",
    "        \n",
    "        # Concatenate all branch \n",
    "        out = torch.cat([out_1x1, out_3x3, out_5x5, out_pool], dim=1)\n",
    "        \n",
    "        return out"
   ]
  },
  {
   "cell_type": "markdown",
   "id": "7d1932fc",
   "metadata": {},
   "source": [
    "### Inception 모델 정의"
   ]
  },
  {
   "cell_type": "code",
   "execution_count": 3,
   "id": "9219705b",
   "metadata": {},
   "outputs": [
    {
     "ename": "SyntaxError",
     "evalue": "invalid syntax (3179068677.py, line 10)",
     "output_type": "error",
     "traceback": [
      "\u001b[1;36m  Cell \u001b[1;32mIn[3], line 10\u001b[1;36m\u001b[0m\n\u001b[1;33m    nn.MaxPool2d(kernel_size=3, stride=2, padding=1)\u001b[0m\n\u001b[1;37m    ^\u001b[0m\n\u001b[1;31mSyntaxError\u001b[0m\u001b[1;31m:\u001b[0m invalid syntax\n"
     ]
    }
   ],
   "source": [
    "class InceptionV2(nn.Module) : \n",
    "    def __init__(self, num_classes=1000) : \n",
    "        super(InceptionV2, self).__init__()\n",
    "        \n",
    "        #  Stem layers ----> 모델 초기 단계에서 입력 이미지에 대해서 초기 특성 추출하는곳 \n",
    "        self.stem = nn.Sequential(\n",
    "            nn.Conv2d(3, 64, kernel_size=7, stride=2, padding=3),\n",
    "            ### padding 3 -> 이미지에 가장자리에 대한 정보 손실 방지 \n",
    "            nn.ReLU(inplace=True)\n",
    "            nn.MaxPool2d(kernel_size=3, stride=2, padding=1)\n",
    "            ### padding 1 -> 입력값 가장자리에 대한 정보 손실 방지 \n",
    "        )\n",
    "        # Inception modules\n",
    "        \n",
    "        # Inception modules(in_channels, out_1x1, reduce_3x3, out_3x3, reduce_5x5, out_5x5, out_pool)        \n",
    "        self.inception3a = InceptionModule(64, 64, 96, 128, 16, 32, 32)\n",
    "        self.inception3b = InceptionModule(256, 128, 128, 192, 32, 96, 64)\n",
    "        self.inception4a = InceptionModule(480, 192, 96, 208, 16, 48, 64)\n",
    "        self.inception4b = InceptionModule(512, 160, 112, 224, 24, 64, 64)\n",
    "        self.inception4c = InceptionModule(512, 128, 128, 256, 24, 64, 64)\n",
    "        self.inception4d = InceptionModule(512, 112, 144, 288, 32, 64, 64)\n",
    "        self.inception4e = InceptionModule(528, 256, 160, 320, 32, 128, 128)\n",
    "        self.inception5a = InceptionModule(832, 256, 160, 320, 32, 128, 128)\n",
    "        self.inception5b = InceptionModule(832, 384, 192, 384, 48, 128, 128)\n",
    "        \n",
    "        \n",
    "        # avg pool \n",
    "        self.avg_pool = nn.AdaptiveAvgPool2d((1,1))\n",
    "        self.fc = nn.Linear(1024, num_classes)\n",
    "        \n",
    "    def forward(self, x) : \n",
    "        \n",
    "        # Stem layers \n",
    "        x = self.stem(x)\n",
    "        \n",
    "        # Inception modules\n",
    "        x = inception3a(x)\n",
    "        x = inception3b(x)\n",
    "        x = F.max_pool2d(x, kernel_size=3, stride=2, padding=1)\n",
    "        x = inception4a(x)\n",
    "        x = inception4b(x)\n",
    "        x = inception4c(x)\n",
    "        x = inception4d(x)\n",
    "        x = inception4e(x)\n",
    "        x = F.max_pool2d(x, kernel_size=3, stride=2, padding=1)\n",
    "        x = inception5a(x)\n",
    "        x = inception5b(x)\n",
    "        \n",
    "        # avg pool \n",
    "        x = self.avg_pool(x)\n",
    "        x = torch.flatten(x, 1)\n",
    "        x = self.fc(x)\n",
    "        \n",
    "        return x"
   ]
  },
  {
   "cell_type": "code",
   "execution_count": null,
   "id": "e63cb087",
   "metadata": {},
   "outputs": [],
   "source": []
  }
 ],
 "metadata": {
  "kernelspec": {
   "display_name": "capybara",
   "language": "python",
   "name": "capybara"
  },
  "language_info": {
   "codemirror_mode": {
    "name": "ipython",
    "version": 3
   },
   "file_extension": ".py",
   "mimetype": "text/x-python",
   "name": "python",
   "nbconvert_exporter": "python",
   "pygments_lexer": "ipython3",
   "version": "3.8.16"
  }
 },
 "nbformat": 4,
 "nbformat_minor": 5
}
