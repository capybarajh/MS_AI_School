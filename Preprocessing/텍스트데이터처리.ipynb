{
 "cells": [
  {
   "cell_type": "code",
   "execution_count": 1,
   "id": "afbead71",
   "metadata": {},
   "outputs": [],
   "source": [
    "import re"
   ]
  },
  {
   "cell_type": "code",
   "execution_count": 2,
   "id": "14c2de9f",
   "metadata": {},
   "outputs": [],
   "source": [
    "# 텍스트 정제 \n",
    "text_data = [\" import re 모듈은 파이썬에서 정규 표현식을 사용하기 위해 제공되는 내장 모듈입니다. ???\" ,\n",
    "             \"  정규 표현식은 문자열 패턴을 검색, 추출, 대체 또는 분할하는 데 사용됩니다. !!!!!\"]"
   ]
  },
  {
   "cell_type": "code",
   "execution_count": 3,
   "id": "2f30a624",
   "metadata": {},
   "outputs": [
    {
     "name": "stdout",
     "output_type": "stream",
     "text": [
      "['import re 모듈은 파이썬에서 정규 표현식을 사용하기 위해 제공되는 내장 모듈입니다. ???', '정규 표현식은 문자열 패턴을 검색, 추출, 대체 또는 분할하는 데 사용됩니다. !!!!!']\n"
     ]
    }
   ],
   "source": [
    "# 공백 문자 제거 \n",
    "strip_whitespace = [string.strip() for string in text_data] # 공백 문자 제거 \n",
    "\n",
    "print(strip_whitespace)"
   ]
  },
  {
   "cell_type": "code",
   "execution_count": 4,
   "id": "47c49a02",
   "metadata": {},
   "outputs": [
    {
     "name": "stdout",
     "output_type": "stream",
     "text": [
      "['import re 모듈은 파이썬에서 정규 표현식을 사용하기 위해 제공되는 내장 모듈입니다 ???', '정규 표현식은 문자열 패턴을 검색, 추출, 대체 또는 분할하는 데 사용됩니다 !!!!!']\n"
     ]
    }
   ],
   "source": [
    "# 마침표 제거 \n",
    "remove_periods = [string.replace(\".\",\"\") for string in strip_whitespace]\n",
    "print(remove_periods)"
   ]
  },
  {
   "cell_type": "code",
   "execution_count": 5,
   "id": "23454692",
   "metadata": {},
   "outputs": [
    {
     "name": "stdout",
     "output_type": "stream",
     "text": [
      "[' import re 모듈은 파이썬에서 정규 표현식을 사용하기 위해 제공되는 내장 모듈입니다 ', '  정규 표현식은 문자열 패턴을 검색 추출 대체 또는 분할하는 데 사용됩니다 ']\n"
     ]
    }
   ],
   "source": [
    "# 구두점 삭제 \n",
    "import sys\n",
    "import unicodedata\n",
    "\n",
    "temp = dict.fromkeys( i for i in range(sys.maxunicode) if unicodedata.category(chr(i)).startswith('P'))\n",
    "\n",
    "data = [string.translate(temp) for string in text_data]\n",
    "print(data)"
   ]
  },
  {
   "cell_type": "markdown",
   "id": "49ce0576",
   "metadata": {},
   "source": [
    "# 텍스트 토큰화 \n",
    "\n",
    "- 텍스트를 개별 단어로 나누기 "
   ]
  },
  {
   "cell_type": "code",
   "execution_count": 6,
   "id": "84375a13",
   "metadata": {},
   "outputs": [
    {
     "name": "stderr",
     "output_type": "stream",
     "text": [
      "[nltk_data] Downloading package punkt to\n",
      "[nltk_data]     C:\\Users\\ljh29\\AppData\\Roaming\\nltk_data...\n",
      "[nltk_data]   Unzipping tokenizers\\punkt.zip.\n"
     ]
    },
    {
     "data": {
      "text/plain": [
       "True"
      ]
     },
     "execution_count": 6,
     "metadata": {},
     "output_type": "execute_result"
    }
   ],
   "source": [
    "from nltk.tokenize import sent_tokenize\n",
    "from nltk.tokenize import word_tokenize\n",
    "import nltk \n",
    "\n",
    "# 구두점 데이터 다운로드 \n",
    "nltk.download('punkt')"
   ]
  },
  {
   "cell_type": "code",
   "execution_count": 7,
   "id": "e1aa0fbe",
   "metadata": {},
   "outputs": [
    {
     "name": "stdout",
     "output_type": "stream",
     "text": [
      "['모듈은', '정규', '표현식을', '사용하여', '문자열에서', '패턴을', '찾고', '조작하는', '데', '사용되는', '파이썬', '내장', '모듈입니다', '.']\n"
     ]
    }
   ],
   "source": [
    "string = \"모듈은 정규 표현식을 사용하여 문자열에서 패턴을 찾고 조작하는 데 사용되는 파이썬 내장 모듈입니다.\"\n",
    "word_data = word_tokenize(string) # 단어를 토큰 기준으로 나눕니다.\n",
    "print(word_data)"
   ]
  },
  {
   "cell_type": "code",
   "execution_count": 8,
   "id": "232e658a",
   "metadata": {},
   "outputs": [
    {
     "name": "stdout",
     "output_type": "stream",
     "text": [
      "['모듈은 정규 표현식을 사용하여 문자열에서 패턴을 찾고 조작하는 데 사용되는 파이썬 내장 모듈입니다.', '정규 표현식을 사용하여 문자열에서 패턴을 찾고 조작하는 데 사용되는 파이썬 내장 모듈입니다.']\n"
     ]
    }
   ],
   "source": [
    "sent_string = \"모듈은 정규 표현식을 사용하여 문자열에서 패턴을 찾고 조작하는 데 사용되는 파이썬 내장 모듈입니다. 정규 표현식을 사용하여 문자열에서 패턴을 찾고 조작하는 데 사용되는 파이썬 내장 모듈입니다.\"\n",
    "snet_data = sent_tokenize(sent_string)\n",
    "print(snet_data)"
   ]
  },
  {
   "cell_type": "markdown",
   "id": "a871cb97",
   "metadata": {},
   "source": [
    "### 불용어 삭제"
   ]
  },
  {
   "cell_type": "code",
   "execution_count": 9,
   "id": "1b3fea36",
   "metadata": {},
   "outputs": [
    {
     "name": "stderr",
     "output_type": "stream",
     "text": [
      "[nltk_data] Downloading package stopwords to\n",
      "[nltk_data]     C:\\Users\\ljh29\\AppData\\Roaming\\nltk_data...\n",
      "[nltk_data]   Unzipping corpora\\stopwords.zip.\n"
     ]
    },
    {
     "data": {
      "text/plain": [
       "True"
      ]
     },
     "execution_count": 9,
     "metadata": {},
     "output_type": "execute_result"
    }
   ],
   "source": [
    "from nltk.corpus import stopwords\n",
    "nltk.download('stopwords') # 불용어 데이터 다운로드 "
   ]
  },
  {
   "cell_type": "code",
   "execution_count": 10,
   "id": "fc663ecd",
   "metadata": {},
   "outputs": [
    {
     "name": "stdout",
     "output_type": "stream",
     "text": [
      "불용어 리스트 :  ['i', 'me', 'my', 'myself', 'we', 'our', 'ours', 'ourselves', 'you', \"you're\", \"you've\", \"you'll\", \"you'd\", 'your', 'yours', 'yourself', 'yourselves', 'he', 'him', 'his', 'himself', 'she', \"she's\", 'her', 'hers', 'herself', 'it', \"it's\", 'its', 'itself', 'they', 'them', 'their', 'theirs', 'themselves', 'what', 'which', 'who', 'whom', 'this', 'that', \"that'll\", 'these', 'those', 'am', 'is', 'are', 'was', 'were', 'be', 'been', 'being', 'have', 'has', 'had', 'having', 'do', 'does', 'did', 'doing', 'a', 'an', 'the', 'and', 'but', 'if', 'or', 'because', 'as', 'until', 'while', 'of', 'at', 'by', 'for', 'with', 'about', 'against', 'between', 'into', 'through', 'during', 'before', 'after', 'above', 'below', 'to', 'from', 'up', 'down', 'in', 'out', 'on', 'off', 'over', 'under', 'again', 'further', 'then', 'once', 'here', 'there', 'when', 'where', 'why', 'how', 'all', 'any', 'both', 'each', 'few', 'more', 'most', 'other', 'some', 'such', 'no', 'nor', 'not', 'only', 'own', 'same', 'so', 'than', 'too', 'very', 's', 't', 'can', 'will', 'just', 'don', \"don't\", 'should', \"should've\", 'now', 'd', 'll', 'm', 'o', 're', 've', 'y', 'ain', 'aren', \"aren't\", 'couldn', \"couldn't\", 'didn', \"didn't\", 'doesn', \"doesn't\", 'hadn', \"hadn't\", 'hasn', \"hasn't\", 'haven', \"haven't\", 'isn', \"isn't\", 'ma', 'mightn', \"mightn't\", 'mustn', \"mustn't\", 'needn', \"needn't\", 'shan', \"shan't\", 'shouldn', \"shouldn't\", 'wasn', \"wasn't\", 'weren', \"weren't\", 'won', \"won't\", 'wouldn', \"wouldn't\"]\n",
      "불용어가 삭제된 결과 :  ['going', 'go', 'store', 'park']\n"
     ]
    }
   ],
   "source": [
    "tokenized_words = [\"i\" , \"am\" , \"going\", \"to\", \"go\" , \"to\", \"the\", \"store\", \"and\", \"park\"]\n",
    "\n",
    "stop_words= stopwords.words('english')\n",
    "\n",
    "# 불용어 삭제 \n",
    "filterd_words = [word for word in tokenized_words if word not in stop_words]\n",
    "\n",
    "# 불용어 확인 \n",
    "stop_data = stop_words\n",
    "print(\"불용어 리스트 : \" , stop_data)\n",
    "print(\"불용어가 삭제된 결과 : \", filterd_words)"
   ]
  },
  {
   "cell_type": "markdown",
   "id": "51505029",
   "metadata": {},
   "source": [
    "# 어간 추출 "
   ]
  },
  {
   "cell_type": "code",
   "execution_count": 11,
   "id": "54c05244",
   "metadata": {},
   "outputs": [],
   "source": [
    "from nltk.stem.porter import PorterStemmer"
   ]
  },
  {
   "cell_type": "code",
   "execution_count": 12,
   "id": "daf8d803",
   "metadata": {},
   "outputs": [
    {
     "name": "stdout",
     "output_type": "stream",
     "text": [
      "i\n",
      "am\n",
      "going\n",
      "to\n",
      "go\n",
      "to\n",
      "the\n",
      "store\n",
      "and\n",
      "meeting\n",
      "['i', 'am', 'go', 'to', 'go', 'to', 'the', 'store', 'and', 'meet']\n"
     ]
    }
   ],
   "source": [
    "tokenized_words_temp = [\"i\" , \"am\" , \"going\", \"to\", \"go\" , \"to\", \"the\", \"store\", \"and\", \"meeting\"]\n",
    "\n",
    "# 어간 추출기 생성\n",
    "porter = PorterStemmer()\n",
    "word_list_temp = [] \n",
    "for word in tokenized_words_temp : \n",
    "    print(word)\n",
    "    word_list_temp.append(porter.stem(word))\n",
    "    \n",
    "print(word_list_temp)"
   ]
  },
  {
   "cell_type": "markdown",
   "id": "138b058f",
   "metadata": {},
   "source": [
    "# 품사 태깅"
   ]
  },
  {
   "cell_type": "code",
   "execution_count": 13,
   "id": "88a3abf3",
   "metadata": {},
   "outputs": [],
   "source": [
    "from nltk import pos_tag\n",
    "from nltk import word_tokenize"
   ]
  },
  {
   "cell_type": "code",
   "execution_count": 14,
   "id": "7cf5212a",
   "metadata": {},
   "outputs": [
    {
     "name": "stderr",
     "output_type": "stream",
     "text": [
      "[nltk_data] Downloading package averaged_perceptron_tagger to\n",
      "[nltk_data]     C:\\Users\\ljh29\\AppData\\Roaming\\nltk_data...\n",
      "[nltk_data]   Unzipping taggers\\averaged_perceptron_tagger.zip.\n"
     ]
    },
    {
     "data": {
      "text/plain": [
       "True"
      ]
     },
     "execution_count": 14,
     "metadata": {},
     "output_type": "execute_result"
    }
   ],
   "source": [
    "nltk.download(\"averaged_perceptron_tagger\")"
   ]
  },
  {
   "cell_type": "code",
   "execution_count": 15,
   "id": "cc8ce12b",
   "metadata": {},
   "outputs": [
    {
     "name": "stdout",
     "output_type": "stream",
     "text": [
      "[('Chris', 'NNP'), ('loved', 'VBD'), ('outdoor', 'RP'), ('running', 'VBG')]\n"
     ]
    }
   ],
   "source": [
    "text_data_tag = \"Chris loved outdoor running\"\n",
    "text_tagger = pos_tag(word_tokenize(text_data_tag))\n",
    "print(text_tagger)"
   ]
  },
  {
   "cell_type": "markdown",
   "id": "c45ac408",
   "metadata": {},
   "source": [
    "# 단어 중요도에 가중치 부여하기"
   ]
  },
  {
   "cell_type": "code",
   "execution_count": 16,
   "id": "85e8a2a0",
   "metadata": {},
   "outputs": [],
   "source": [
    "import numpy as np \n",
    "from sklearn.feature_extraction.text import TfidfVectorizer"
   ]
  },
  {
   "cell_type": "code",
   "execution_count": 17,
   "id": "6739dcb7",
   "metadata": {},
   "outputs": [
    {
     "name": "stdout",
     "output_type": "stream",
     "text": [
      "  (0, 3)\t0.8944271909999159\n",
      "  (0, 6)\t0.4472135954999579\n",
      "  (1, 1)\t0.5773502691896257\n",
      "  (1, 5)\t0.5773502691896257\n",
      "  (1, 7)\t0.5773502691896257\n",
      "  (2, 2)\t0.5773502691896257\n",
      "  (2, 0)\t0.5773502691896257\n",
      "  (2, 4)\t0.5773502691896257\n",
      "{'love': 6, 'brazil': 3, 'swedn': 7, 'is': 5, 'best': 1, 'germany': 4, 'beats': 0, 'both': 2}\n"
     ]
    }
   ],
   "source": [
    "text_data_01 = np.array(([\n",
    "    \"I love Brazil. Brazil !\",\n",
    "    \"Swedn is best\" , \n",
    "    \"Germany beats both\"\n",
    "]))\n",
    "\n",
    "# tf-idf 특성 행렬 \n",
    "tfidf = TfidfVectorizer()\n",
    "feature_matrix = tfidf.fit_transform(text_data_01)\n",
    "print(feature_matrix)\n",
    "\n",
    "# tf-idf 특성 행렬을 밀집 배열 확인 \n",
    "feature_matrix.toarray()\n",
    "tf = tfidf.vocabulary_\n",
    "print(tf)"
   ]
  },
  {
   "cell_type": "markdown",
   "id": "a162ad61",
   "metadata": {},
   "source": [
    "# Word Cloud 단어 뭉치를 가시화"
   ]
  },
  {
   "cell_type": "code",
   "execution_count": 24,
   "id": "e140d058",
   "metadata": {},
   "outputs": [],
   "source": [
    "import pytagcloud\n",
    "import webbrowser"
   ]
  },
  {
   "cell_type": "code",
   "execution_count": 25,
   "id": "fe516e96",
   "metadata": {},
   "outputs": [
    {
     "data": {
      "text/plain": [
       "True"
      ]
     },
     "execution_count": 25,
     "metadata": {},
     "output_type": "execute_result"
    }
   ],
   "source": [
    "tag = [('Hello' , 100), (\"World\", 80), (\"Python\", 200)]\n",
    "tag_list = pytagcloud.make_tags(tag, maxsize=50)\n",
    "pytagcloud.create_tag_image(tag_list, \"word_cloud.jpg\", size=(900,600), rectangular=False)\n",
    "webbrowser.open('word_cloud.jpg')"
   ]
  },
  {
   "cell_type": "code",
   "execution_count": null,
   "id": "26c9044d",
   "metadata": {},
   "outputs": [],
   "source": []
  }
 ],
 "metadata": {
  "kernelspec": {
   "display_name": "Python 3 (ipykernel)",
   "language": "python",
   "name": "python3"
  },
  "language_info": {
   "codemirror_mode": {
    "name": "ipython",
    "version": 3
   },
   "file_extension": ".py",
   "mimetype": "text/x-python",
   "name": "python",
   "nbconvert_exporter": "python",
   "pygments_lexer": "ipython3",
   "version": "3.10.9"
  }
 },
 "nbformat": 4,
 "nbformat_minor": 5
}
