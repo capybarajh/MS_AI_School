{
 "cells": [
  {
   "cell_type": "code",
   "execution_count": 1,
   "id": "86f644d0",
   "metadata": {},
   "outputs": [],
   "source": [
    "from sklearn.decomposition import NMF\n",
    "from sklearn import datasets\n",
    "import numpy as np"
   ]
  },
  {
   "cell_type": "code",
   "execution_count": 2,
   "id": "f8b946c8",
   "metadata": {},
   "outputs": [
    {
     "name": "stdout",
     "output_type": "stream",
     "text": [
      "원본 특성 개수 :  64\n",
      "줄어든 특성 개수 :  10\n"
     ]
    },
    {
     "name": "stderr",
     "output_type": "stream",
     "text": [
      "C:\\Users\\ljh29\\anaconda3\\lib\\site-packages\\sklearn\\decomposition\\_nmf.py:1692: ConvergenceWarning: Maximum number of iterations 200 reached. Increase it to improve convergence.\n",
      "  warnings.warn(\n"
     ]
    }
   ],
   "source": [
    "digits = datasets.load_digits()\n",
    "features = digits.data\n",
    "\n",
    "nmf = NMF(n_components=10, random_state=1)\n",
    "\n",
    "features_nmf = nmf.fit_transform(features)\n",
    "\n",
    "print(\"원본 특성 개수 : \", features.shape[1])\n",
    "print(\"줄어든 특성 개수 : \", features_nmf.shape[1])"
   ]
  },
  {
   "cell_type": "code",
   "execution_count": 5,
   "id": "2aec391d",
   "metadata": {},
   "outputs": [
    {
     "data": {
      "text/plain": [
       "True"
      ]
     },
     "execution_count": 5,
     "metadata": {},
     "output_type": "execute_result"
    }
   ],
   "source": [
    "nmf.components_.shape\n",
    "np.all(nmf.components_ >=0)"
   ]
  },
  {
   "cell_type": "code",
   "execution_count": 6,
   "id": "54bfe3c6",
   "metadata": {},
   "outputs": [
    {
     "data": {
      "text/plain": [
       "-0.19806745373965523"
      ]
     },
     "execution_count": 6,
     "metadata": {},
     "output_type": "execute_result"
    }
   ],
   "source": [
    "np.mean(features - np.dot(features_nmf, nmf.components_))"
   ]
  },
  {
   "cell_type": "code",
   "execution_count": 8,
   "id": "e2617e22",
   "metadata": {},
   "outputs": [
    {
     "name": "stdout",
     "output_type": "stream",
     "text": [
      "-0.22082025790022983\n"
     ]
    }
   ],
   "source": [
    "nmf_mu = NMF(n_components=10, solver='mu', random_state=1)\n",
    "features_nmf_mu = nmf_mu.fit_transform(features)\n",
    "print(np.mean(features - np.dot(features_nmf_mu, nmf_mu.components_)))"
   ]
  },
  {
   "cell_type": "code",
   "execution_count": null,
   "id": "7c148a24",
   "metadata": {},
   "outputs": [],
   "source": []
  }
 ],
 "metadata": {
  "kernelspec": {
   "display_name": "Python 3 (ipykernel)",
   "language": "python",
   "name": "python3"
  },
  "language_info": {
   "codemirror_mode": {
    "name": "ipython",
    "version": 3
   },
   "file_extension": ".py",
   "mimetype": "text/x-python",
   "name": "python",
   "nbconvert_exporter": "python",
   "pygments_lexer": "ipython3",
   "version": "3.10.9"
  }
 },
 "nbformat": 4,
 "nbformat_minor": 5
}
