{
 "cells": [
  {
   "cell_type": "markdown",
   "id": "91d127cd",
   "metadata": {},
   "source": [
    "# 문자열을 날짜로 변환"
   ]
  },
  {
   "cell_type": "code",
   "execution_count": 1,
   "id": "1de1f402",
   "metadata": {},
   "outputs": [],
   "source": [
    "import numpy as np\n",
    "import pandas as pd"
   ]
  },
  {
   "cell_type": "code",
   "execution_count": 2,
   "id": "de67bb58",
   "metadata": {},
   "outputs": [],
   "source": [
    "date_string = np.array(['03-04-2021 11:20 PM',\n",
    "                        '05-04-2023 09:20 PM',\n",
    "                        '07-04-2023 02:20 AM'\n",
    "                       ])"
   ]
  },
  {
   "cell_type": "markdown",
   "id": "dd56f2f0",
   "metadata": {},
   "source": [
    "##### Time Stamp 객체로 변경 "
   ]
  },
  {
   "cell_type": "code",
   "execution_count": 3,
   "id": "a13dcf8b",
   "metadata": {},
   "outputs": [
    {
     "name": "stdout",
     "output_type": "stream",
     "text": [
      "2021-04-03 23:20:00\n",
      "2023-04-05 21:20:00\n",
      "2023-04-07 02:20:00\n"
     ]
    }
   ],
   "source": [
    "for data in date_string : \n",
    "    temp = pd.to_datetime(data, format= '%d-%m-%Y %I:%M %p')\n",
    "\n",
    "\n",
    "# errors 매개변수 - 오류처리     \n",
    "for data in date_string : \n",
    "    temp_value = pd.to_datetime(data, format= '%d-%m-%Y %I:%M %p', errors='ignore')\n",
    "    print(temp_value)"
   ]
  },
  {
   "cell_type": "markdown",
   "id": "b0c00089",
   "metadata": {},
   "source": [
    "# 시간대 데이터 처리 "
   ]
  },
  {
   "cell_type": "code",
   "execution_count": 4,
   "id": "6b97a75a",
   "metadata": {},
   "outputs": [
    {
     "name": "stdout",
     "output_type": "stream",
     "text": [
      "2023-04-20 06:00:00\n"
     ]
    }
   ],
   "source": [
    "pd.Timestamp(\"2023-01-01 06:00:00\", tz='Europe/London')\n",
    "data_temp = pd.Timestamp(\"2023-04-20 06:00:00\")\n",
    "print(data_temp)"
   ]
  },
  {
   "cell_type": "code",
   "execution_count": 5,
   "id": "da752604",
   "metadata": {},
   "outputs": [
    {
     "name": "stdout",
     "output_type": "stream",
     "text": [
      "2023-04-20 06:00:00+01:00\n"
     ]
    }
   ],
   "source": [
    "# 시간대를 지정\n",
    "date_in_london = data_temp.tz_localize('Europe/London')\n",
    "print(date_in_london)"
   ]
  },
  {
   "cell_type": "code",
   "execution_count": 6,
   "id": "a663eb38",
   "metadata": {},
   "outputs": [
    {
     "name": "stdout",
     "output_type": "stream",
     "text": [
      "0   2023-02-28 00:00:00+00:00\n",
      "1   2023-03-31 00:00:00+00:00\n",
      "2   2023-04-30 00:00:00+00:00\n",
      "dtype: datetime64[ns, Africa/Abidjan]\n"
     ]
    }
   ],
   "source": [
    "# 시간대를 변환\n",
    "date_in_london.tz_convert(\"Africa/Abidjan\")\n",
    "\n",
    "# 세 개의 날짜를 만들기 \n",
    "dates_temp = pd.Series(pd.date_range('2/2/2023', periods=3, freq='M'))\n",
    "temp = dates_temp.dt.tz_localize(\"Africa/Abidjan\")\n",
    "print(temp)"
   ]
  },
  {
   "cell_type": "markdown",
   "id": "f664e4b0",
   "metadata": {},
   "source": [
    "# 시간대 데이터 처리 - 01"
   ]
  },
  {
   "cell_type": "code",
   "execution_count": 7,
   "id": "f650cf77",
   "metadata": {},
   "outputs": [
    {
     "data": {
      "text/plain": [
       "['America/Maceio', 'America/Managua']"
      ]
     },
     "execution_count": 7,
     "metadata": {},
     "output_type": "execute_result"
    }
   ],
   "source": [
    "import pytz \n",
    "from pytz import all_timezones\n",
    "all_timezones[150:152]"
   ]
  },
  {
   "cell_type": "code",
   "execution_count": 8,
   "id": "e43dfb96",
   "metadata": {},
   "outputs": [
    {
     "data": {
      "text/plain": [
       "0   2023-02-28 00:00:00+09:00\n",
       "1   2023-03-31 00:00:00+09:00\n",
       "2   2023-04-30 00:00:00+09:00\n",
       "dtype: datetime64[ns, tzfile('ROK')]"
      ]
     },
     "execution_count": 8,
     "metadata": {},
     "output_type": "execute_result"
    }
   ],
   "source": [
    "dates_temp.dt.tz_localize(\"dateutil/Asia/Seoul\")"
   ]
  },
  {
   "cell_type": "code",
   "execution_count": 9,
   "id": "3cdc7918",
   "metadata": {},
   "outputs": [
    {
     "name": "stdout",
     "output_type": "stream",
     "text": [
      "0   2023-02-28 00:00:00+09:00\n",
      "1   2023-03-31 00:00:00+09:00\n",
      "2   2023-04-30 00:00:00+09:00\n",
      "dtype: datetime64[ns, Asia/Seoul]\n"
     ]
    }
   ],
   "source": [
    "tz_temp = pytz.timezone('Asia/Seoul')\n",
    "temp_01 = dates_temp.dt.tz_localize(tz_temp)\n",
    "print(temp_01)"
   ]
  },
  {
   "cell_type": "markdown",
   "id": "c9f723f3",
   "metadata": {},
   "source": [
    "# 날짜와 시간 선택하기 "
   ]
  },
  {
   "cell_type": "code",
   "execution_count": 10,
   "id": "2726dc6b",
   "metadata": {},
   "outputs": [
    {
     "name": "stdout",
     "output_type": "stream",
     "text": [
      "Empty DataFrame\n",
      "Columns: []\n",
      "Index: []\n",
      "                   date\n",
      "0   2023-01-01 00:00:00\n",
      "1   2023-01-01 01:00:00\n",
      "2   2023-01-01 02:00:00\n",
      "3   2023-01-01 03:00:00\n",
      "4   2023-01-01 04:00:00\n",
      "..                  ...\n",
      "995 2023-02-11 11:00:00\n",
      "996 2023-02-11 12:00:00\n",
      "997 2023-02-11 13:00:00\n",
      "998 2023-02-11 14:00:00\n",
      "999 2023-02-11 15:00:00\n",
      "\n",
      "[1000 rows x 1 columns]\n"
     ]
    }
   ],
   "source": [
    "dateframe = pd.DataFrame()\n",
    "print(dateframe)\n",
    "dateframe['date'] = pd.date_range('1/1/2023', periods=1000, freq='H')\n",
    "print(dateframe)"
   ]
  },
  {
   "cell_type": "code",
   "execution_count": 11,
   "id": "95f87c8d",
   "metadata": {},
   "outputs": [
    {
     "name": "stdout",
     "output_type": "stream",
     "text": [
      "                                   date\n",
      "date                                   \n",
      "2023-01-01 00:00:00 2023-01-01 00:00:00\n",
      "2023-01-01 01:00:00 2023-01-01 01:00:00\n",
      "2023-01-01 02:00:00 2023-01-01 02:00:00\n",
      "2023-01-01 03:00:00 2023-01-01 03:00:00\n",
      "2023-01-01 04:00:00 2023-01-01 04:00:00\n",
      "...                                 ...\n",
      "2023-02-11 11:00:00 2023-02-11 11:00:00\n",
      "2023-02-11 12:00:00 2023-02-11 12:00:00\n",
      "2023-02-11 13:00:00 2023-02-11 13:00:00\n",
      "2023-02-11 14:00:00 2023-02-11 14:00:00\n",
      "2023-02-11 15:00:00 2023-02-11 15:00:00\n",
      "\n",
      "[1000 rows x 1 columns]\n",
      "                                   date\n",
      "date                                   \n",
      "2023-01-01 01:00:00 2023-01-01 01:00:00\n",
      "2023-01-01 02:00:00 2023-01-01 02:00:00\n",
      "2023-01-01 03:00:00 2023-01-01 03:00:00\n",
      "2023-01-01 04:00:00 2023-01-01 04:00:00\n"
     ]
    }
   ],
   "source": [
    "# 두 datetime 사이의 샘플을 선택합니다. \n",
    "dateframe[(dateframe['date'] > '2023-1-1 01:00:00') &\n",
    "         (dateframe['date'] <= '2023-1-1 04:00:00')]\n",
    "\n",
    "dateframe = dateframe.set_index(dateframe['date'])\n",
    "print(dateframe)\n",
    "\n",
    "temp02 = dateframe.loc['2023-1-1 01:00:00':'2023-1-1 04:00:00']\n",
    "print(temp02)"
   ]
  },
  {
   "cell_type": "code",
   "execution_count": null,
   "id": "64d92c28",
   "metadata": {},
   "outputs": [],
   "source": []
  }
 ],
 "metadata": {
  "kernelspec": {
   "display_name": "Python 3 (ipykernel)",
   "language": "python",
   "name": "python3"
  },
  "language_info": {
   "codemirror_mode": {
    "name": "ipython",
    "version": 3
   },
   "file_extension": ".py",
   "mimetype": "text/x-python",
   "name": "python",
   "nbconvert_exporter": "python",
   "pygments_lexer": "ipython3",
   "version": "3.10.9"
  }
 },
 "nbformat": 4,
 "nbformat_minor": 5
}
