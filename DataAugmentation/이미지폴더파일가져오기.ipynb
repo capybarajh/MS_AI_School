{
 "cells": [
  {
   "cell_type": "markdown",
   "id": "4a645a54",
   "metadata": {},
   "source": [
    "# 이미지 폴더에 있는 파일 가져오기(os.listdir)"
   ]
  },
  {
   "cell_type": "code",
   "execution_count": 1,
   "id": "30e41c54",
   "metadata": {},
   "outputs": [
    {
     "name": "stdout",
     "output_type": "stream",
     "text": [
      "['apple_1.png', 'apple_10.png', 'apple_11.png', 'apple_12.png', 'apple_13.png', 'apple_14.png', 'apple_15.png', 'apple_16.png', 'apple_17.png', 'apple_18.png', 'apple_19.png', 'apple_2.png', 'apple_20.png', 'apple_3.png', 'apple_4.png', 'apple_5.png', 'apple_6.png', 'apple_7.png', 'apple_8.png', 'apple_9.png']\n"
     ]
    }
   ],
   "source": [
    "import os \n",
    "\n",
    "# 이미지가 저장되어 있는 폴더 경로 \n",
    "img_dir = \"./data/\"\n",
    "\n",
    "# 디렉토리 내 모든 파일 목록 가져오기\n",
    "file_list = os.listdir(img_dir)\n",
    "print(file_list)\n",
    "\n",
    "# 단점: 정렬되지 않음"
   ]
  },
  {
   "cell_type": "markdown",
   "id": "70454a1a",
   "metadata": {},
   "source": [
    "# os.listdir -> 정렬 하기 "
   ]
  },
  {
   "cell_type": "code",
   "execution_count": 2,
   "id": "ca5f663a",
   "metadata": {},
   "outputs": [
    {
     "name": "stdout",
     "output_type": "stream",
     "text": [
      "['apple_1.png', 'apple_10.png', 'apple_11.png', 'apple_12.png', 'apple_13.png', 'apple_14.png', 'apple_15.png', 'apple_16.png', 'apple_17.png', 'apple_18.png', 'apple_19.png', 'apple_2.png', 'apple_20.png', 'apple_3.png', 'apple_4.png', 'apple_5.png', 'apple_6.png', 'apple_7.png', 'apple_8.png', 'apple_9.png']\n"
     ]
    }
   ],
   "source": [
    "# 디렉토리 내 모든 파일 목록 가져오기\n",
    "file_list_temp = sorted(os.listdir(img_dir))\n",
    "print(file_list_temp)"
   ]
  },
  {
   "cell_type": "code",
   "execution_count": 5,
   "id": "59377b2c",
   "metadata": {},
   "outputs": [
    {
     "name": "stdout",
     "output_type": "stream",
     "text": [
      "['apple_1.png', 'apple_2.png', 'apple_3.png', 'apple_4.png', 'apple_5.png', 'apple_6.png', 'apple_7.png', 'apple_8.png', 'apple_9.png', 'apple_10.png', 'apple_11.png', 'apple_12.png', 'apple_13.png', 'apple_14.png', 'apple_15.png', 'apple_16.png', 'apple_17.png', 'apple_18.png', 'apple_19.png', 'apple_20.png']\n"
     ]
    }
   ],
   "source": [
    "#!pip install natsort\n",
    "# 이미지파일 정렬할 때 제일 많이 쓰는 분류 방법\n",
    "from natsort import natsort\n",
    "\n",
    "file_list_temp01 = natsort.natsorted(os.listdir(img_dir))\n",
    "print(file_list_temp01)"
   ]
  },
  {
   "cell_type": "markdown",
   "id": "be267a95",
   "metadata": {},
   "source": [
    "### glob.glob"
   ]
  },
  {
   "cell_type": "code",
   "execution_count": 7,
   "id": "a2301d64",
   "metadata": {},
   "outputs": [
    {
     "name": "stdout",
     "output_type": "stream",
     "text": [
      "['./data\\\\apple_1.png', './data\\\\apple_2.png', './data\\\\apple_3.png', './data\\\\apple_4.png', './data\\\\apple_5.png', './data\\\\apple_6.png', './data\\\\apple_7.png', './data\\\\apple_8.png', './data\\\\apple_9.png', './data\\\\apple_10.png', './data\\\\apple_11.png', './data\\\\apple_12.png', './data\\\\apple_13.png', './data\\\\apple_14.png', './data\\\\apple_15.png', './data\\\\apple_16.png', './data\\\\apple_17.png', './data\\\\apple_18.png', './data\\\\apple_19.png', './data\\\\apple_20.png']\n"
     ]
    }
   ],
   "source": [
    "import glob\n",
    "import os \n",
    "\n",
    "\n",
    "\"\"\"\n",
    "폴더 구조 \n",
    "train \n",
    "  images \n",
    "     apple\n",
    "       - aaa.png\n",
    "     bon\n",
    "       - bbb.png \n",
    "\n",
    " \n",
    "\"./train/images/*/*\"\n",
    "\n",
    "file_list_tmep \n",
    "['./train/images/apple/aaa.png' , './train/images/bon/bbb.png']\n",
    "\n",
    "\"\"\"\n",
    "# image_path = \"./data/*.png\"\n",
    "# file_list_temp = glob.glob(image_path) # 이 방법이나 밑 방법 둘 중 하나로 불러오기\n",
    "\n",
    "# file_list_temp = glob.glob(os.path.join(\"./data/\", \"*.png\"))\n",
    "# print(file_list_temp)\n",
    "\n",
    "# natsort와 glob 활용\n",
    "file_list_temp = natsort.natsorted(glob.glob(os.path.join(\"./data/\", \"*.png\")))\n",
    "print(file_list_temp)"
   ]
  },
  {
   "cell_type": "markdown",
   "id": "c62fc87f",
   "metadata": {},
   "source": [
    "### os.walk"
   ]
  },
  {
   "cell_type": "code",
   "execution_count": 9,
   "id": "1c62cf61",
   "metadata": {},
   "outputs": [
    {
     "name": "stdout",
     "output_type": "stream",
     "text": [
      "path: ./data/\n",
      "dir: []\n",
      "files: ['apple_1.png', 'apple_10.png', 'apple_11.png', 'apple_12.png', 'apple_13.png', 'apple_14.png', 'apple_15.png', 'apple_16.png', 'apple_17.png', 'apple_18.png', 'apple_19.png', 'apple_2.png', 'apple_20.png', 'apple_3.png', 'apple_4.png', 'apple_5.png', 'apple_6.png', 'apple_7.png', 'apple_8.png', 'apple_9.png']\n",
      "ext: .png\n",
      "file_path >>  ./data/apple_1.png\n",
      "ext: .png\n",
      "file_path >>  ./data/apple_10.png\n",
      "ext: .png\n",
      "file_path >>  ./data/apple_11.png\n",
      "ext: .png\n",
      "file_path >>  ./data/apple_12.png\n",
      "ext: .png\n",
      "file_path >>  ./data/apple_13.png\n",
      "ext: .png\n",
      "file_path >>  ./data/apple_14.png\n",
      "ext: .png\n",
      "file_path >>  ./data/apple_15.png\n",
      "ext: .png\n",
      "file_path >>  ./data/apple_16.png\n",
      "ext: .png\n",
      "file_path >>  ./data/apple_17.png\n",
      "ext: .png\n",
      "file_path >>  ./data/apple_18.png\n",
      "ext: .png\n",
      "file_path >>  ./data/apple_19.png\n",
      "ext: .png\n",
      "file_path >>  ./data/apple_2.png\n",
      "ext: .png\n",
      "file_path >>  ./data/apple_20.png\n",
      "ext: .png\n",
      "file_path >>  ./data/apple_3.png\n",
      "ext: .png\n",
      "file_path >>  ./data/apple_4.png\n",
      "ext: .png\n",
      "file_path >>  ./data/apple_5.png\n",
      "ext: .png\n",
      "file_path >>  ./data/apple_6.png\n",
      "ext: .png\n",
      "file_path >>  ./data/apple_7.png\n",
      "ext: .png\n",
      "file_path >>  ./data/apple_8.png\n",
      "ext: .png\n",
      "file_path >>  ./data/apple_9.png\n",
      "['./data/apple_1.png', './data/apple_10.png', './data/apple_11.png', './data/apple_12.png', './data/apple_13.png', './data/apple_14.png', './data/apple_15.png', './data/apple_16.png', './data/apple_17.png', './data/apple_18.png', './data/apple_19.png', './data/apple_2.png', './data/apple_20.png', './data/apple_3.png', './data/apple_4.png', './data/apple_5.png', './data/apple_6.png', './data/apple_7.png', './data/apple_8.png', './data/apple_9.png']\n",
      "./data/apple_1.png\n",
      "./data/apple_10.png\n",
      "./data/apple_11.png\n",
      "./data/apple_12.png\n",
      "./data/apple_13.png\n",
      "./data/apple_14.png\n",
      "./data/apple_15.png\n",
      "./data/apple_16.png\n",
      "./data/apple_17.png\n",
      "./data/apple_18.png\n",
      "./data/apple_19.png\n",
      "./data/apple_2.png\n",
      "./data/apple_20.png\n",
      "./data/apple_3.png\n",
      "./data/apple_4.png\n",
      "./data/apple_5.png\n",
      "./data/apple_6.png\n",
      "./data/apple_7.png\n",
      "./data/apple_8.png\n",
      "./data/apple_9.png\n"
     ]
    }
   ],
   "source": [
    "def get_img_path(root_path) : \n",
    "    file_paths = []\n",
    "    for (path, dir, files) in os.walk(root_path) :\n",
    "        print(\"path:\" , path)\n",
    "        print(\"dir:\", dir)\n",
    "        print(\"files:\", files)\n",
    "        for file in files :\n",
    "            ext = os.path.splitext(file)[-1].lower()\n",
    "            print(\"ext:\", ext)\n",
    "            formats_list = [\".bmp\", \".jpg\", 'jpeg' ,'.png', '.tif' , '.gif' , '.dng' , '.tiff']\n",
    "            if ext in formats_list :\n",
    "                file_path = os.path.join(path, file)\n",
    "                print(\"file_path >> \" , file_path)\n",
    "                file_paths.append(file_path)\n",
    "                \n",
    "    return file_paths\n",
    "\n",
    "\n",
    "file_paths_temp = get_img_path(\"./data/\")\n",
    "print(file_paths_temp)\n",
    "\n",
    "for i in file_paths_temp :\n",
    "    print(i)"
   ]
  },
  {
   "cell_type": "code",
   "execution_count": null,
   "id": "1046760c",
   "metadata": {},
   "outputs": [],
   "source": []
  }
 ],
 "metadata": {
  "kernelspec": {
   "display_name": "capybara",
   "language": "python",
   "name": "capybara"
  },
  "language_info": {
   "codemirror_mode": {
    "name": "ipython",
    "version": 3
   },
   "file_extension": ".py",
   "mimetype": "text/x-python",
   "name": "python",
   "nbconvert_exporter": "python",
   "pygments_lexer": "ipython3",
   "version": "3.8.16"
  }
 },
 "nbformat": 4,
 "nbformat_minor": 5
}
