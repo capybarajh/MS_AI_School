{
 "cells": [
  {
   "cell_type": "code",
   "execution_count": 1,
   "id": "931bb8ca",
   "metadata": {},
   "outputs": [],
   "source": [
    "import os\n",
    "import cv2\n",
    "import matplotlib.pyplot as plt\n",
    "from xml.etree.ElementTree import parse"
   ]
  },
  {
   "cell_type": "code",
   "execution_count": 8,
   "id": "bda7fc8a",
   "metadata": {},
   "outputs": [
    {
     "name": "stdout",
     "output_type": "stream",
     "text": [
      "Pascal_xyxy to YOLO >>  1 0.865625 0.45 0.26875 0.5166666666666667\n",
      "Pascal_xyxy to YOLO >>  0 0.16171875 0.6041666666666666 0.3140625 0.44583333333333336\n"
     ]
    }
   ],
   "source": [
    "label_number_dict = {'cat':0, 'dog':1}\n",
    "\n",
    "def xml_read(xml_path):\n",
    "    root = parse(xml_path).getroot()\n",
    "    image_info = root.findall(\"image\")\n",
    "    \n",
    "    for image in image_info:\n",
    "        bbox = image.findall('box')\n",
    "        \n",
    "        image_width = image.attrib['width']\n",
    "        image_height = image.attrib['height']\n",
    "        \n",
    "        image_name = image.attrib['name']\n",
    "        image_name_temp = image_name\n",
    "        image_name = os.path.join(\"./\", image_name)\n",
    "        \n",
    "        # image read & 변환\n",
    "        image = cv2.imread(image_name)\n",
    "        image = cv2.cvtColor(image,cv2.COLOR_BGR2RGB)\n",
    "        \n",
    "        for box_info in bbox:\n",
    "            label = box_info.attrib['label']\n",
    "            \n",
    "            # 값 -> string\n",
    "            xtl = box_info.attrib['xtl']\n",
    "            ytl = box_info.attrib['ytl']\n",
    "            xbr = box_info.attrib['xbr']\n",
    "            ybr = box_info.attrib['ybr']\n",
    "            \n",
    "            # int -> float 변환\n",
    "            # 소수점이 포함이라 바로 int값 변환불가\n",
    "            \n",
    "            xtl_f = float(xtl)\n",
    "            ytl_f = float(ytl)            \n",
    "            xbr_f = float(xbr)            \n",
    "            ybr_f = float(ybr)\n",
    "            \n",
    "            # float -> int 변환\n",
    "            x1_i = int(xtl_f)\n",
    "            y1_i = int(ytl_f)\n",
    "            x2_i = int(xbr_f)\n",
    "            y2_i = int(ybr_f)\n",
    "            \n",
    "            # image_width, image_height 경우, string -> int 형변환 필요\n",
    "            img_width_i = int(image_width)\n",
    "            img_height_i = int(image_height)\n",
    "            \n",
    "            # Pascal_xyxy to YOLO center_x, center_y, yolo_w, yolo_h\n",
    "            center_x = ((x2_i + x1_i)/(2*img_width_i))\n",
    "            center_y = ((y2_i + y1_i)/(2*img_height_i))\n",
    "            yolo_w = (x2_i - x1_i)/img_width_i\n",
    "            yolo_h = (y2_i - y1_i)/img_height_i\n",
    "            \n",
    "            # file_name\n",
    "            image_name_temp = image_name_temp.replace('.jpg','')\n",
    "            \n",
    "            # label cat, dog -> 0,1로 변경\n",
    "            label_number = label_number_dict[label]\n",
    "            print(\"Pascal_xyxy to YOLO >> \", label_number, center_x, center_y, yolo_w, yolo_h)\n",
    "            \n",
    "            # 텍스트로 저장\n",
    "            with open(f'./label_data/{image_name_temp}_xml.txt','a') as f :\n",
    "                f.write(f\"{label_number} {center_x} {center_y} {yolo_w} {yolo_h} \\n\")\n",
    "\n",
    "if __name__ == \"__main__\":                \n",
    "    xml_read(\"./annotations.xml\")"
   ]
  },
  {
   "cell_type": "code",
   "execution_count": null,
   "id": "459d7c79",
   "metadata": {},
   "outputs": [],
   "source": []
  }
 ],
 "metadata": {
  "kernelspec": {
   "display_name": "capybara",
   "language": "python",
   "name": "capybara"
  },
  "language_info": {
   "codemirror_mode": {
    "name": "ipython",
    "version": 3
   },
   "file_extension": ".py",
   "mimetype": "text/x-python",
   "name": "python",
   "nbconvert_exporter": "python",
   "pygments_lexer": "ipython3",
   "version": "3.8.16"
  }
 },
 "nbformat": 4,
 "nbformat_minor": 5
}
