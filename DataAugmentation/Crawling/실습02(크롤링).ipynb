{
 "cells": [
  {
   "cell_type": "markdown",
   "id": "3e04357b",
   "metadata": {},
   "source": [
    "## 웹크롤링 Requests, BeautifulSoup 라이브러리 사용해서 크롤링 해보기"
   ]
  },
  {
   "cell_type": "code",
   "execution_count": 1,
   "id": "68a80078",
   "metadata": {},
   "outputs": [],
   "source": [
    "# !pip install requests==2.28.1\n",
    "# !pip install beautifulsoup4==4.11.1"
   ]
  },
  {
   "cell_type": "code",
   "execution_count": 2,
   "id": "afe51a3e",
   "metadata": {},
   "outputs": [],
   "source": [
    "import requests\n",
    "from bs4 import BeautifulSoup\n",
    "import os"
   ]
  },
  {
   "cell_type": "code",
   "execution_count": 6,
   "id": "d55bea82",
   "metadata": {},
   "outputs": [],
   "source": [
    "# 키워드 \n",
    "query = \"사과\"\n",
    "\n",
    "url = f\"https://www.google.com/search?q={query}&source-lnms&tbm=isch\"\n",
    "\n",
    "\n",
    "header = {\n",
    "    \"User-Agent\": \"Mozilla/5.0 (Windows NT 10.0; Win64; x64) AppleWebKit/537.36 (KHTML, like Gecko) Chrome/58.0.3029.110 Safari/537.3\"\n",
    "}\n",
    "\n",
    "response = requests.get(url, headers=header)\n",
    "# print(response.text)\n",
    "\n",
    "soup = BeautifulSoup(response.text, \"html.parser\")\n",
    "# print(soup)\n",
    "img_tags = soup.find_all(\"img\")\n",
    "# print(img_tags)\n",
    "\n",
    "urls_list = []\n",
    "\n",
    "for img_tag in img_tags : \n",
    "    try : \n",
    "        urls_list.append(img_tag['src'])\n",
    "    except KeyError:\n",
    "        try :\n",
    "            urls_list.append(img_tag['data-src'])\n",
    "        except KeyError : \n",
    "            try :\n",
    "                urls_list.append(img_tag['data-iurl'])\n",
    "            except KeyError : \n",
    "                pass\n",
    "        \n",
    "# 이미지 저장 \n",
    "os.makedirs(\"./image01_data/\", exist_ok=True)\n",
    "\n",
    "for i, url in enumerate(urls_list) :\n",
    "    \n",
    "    try : \n",
    "        img_data = requests.get(url, headers=header).content\n",
    "        file_path = f\"./image01_data/apple_{i}.png\"\n",
    "        with open(file_path, \"wb\") as f :\n",
    "            f.write(img_data)\n",
    "            \n",
    "        if os.path.getsize(file_path) == 0 :\n",
    "            os.remove(file_path)\n",
    "        \n",
    "    except : \n",
    "        pass"
   ]
  },
  {
   "cell_type": "code",
   "execution_count": null,
   "id": "17e04ccb",
   "metadata": {},
   "outputs": [],
   "source": []
  }
 ],
 "metadata": {
  "kernelspec": {
   "display_name": "Python 3 (ipykernel)",
   "language": "python",
   "name": "python3"
  },
  "language_info": {
   "codemirror_mode": {
    "name": "ipython",
    "version": 3
   },
   "file_extension": ".py",
   "mimetype": "text/x-python",
   "name": "python",
   "nbconvert_exporter": "python",
   "pygments_lexer": "ipython3",
   "version": "3.10.9"
  }
 },
 "nbformat": 4,
 "nbformat_minor": 5
}
