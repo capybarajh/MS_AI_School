{
 "cells": [
  {
   "cell_type": "markdown",
   "id": "db945935",
   "metadata": {},
   "source": [
    "# 텐서 기본 실습"
   ]
  },
  {
   "cell_type": "code",
   "execution_count": 1,
   "id": "8d20ccca",
   "metadata": {},
   "outputs": [],
   "source": [
    "import torch\n",
    "import numpy as np\n",
    "import torchvision"
   ]
  },
  {
   "cell_type": "markdown",
   "id": "ab04778f",
   "metadata": {},
   "source": [
    "## 텐서 초기화하기 데이터로부터 직접 텐서를 생성 가능합니다."
   ]
  },
  {
   "cell_type": "code",
   "execution_count": 2,
   "id": "14703de7",
   "metadata": {},
   "outputs": [
    {
     "name": "stdout",
     "output_type": "stream",
     "text": [
      "<class 'list'>\n",
      "tensor([[1, 2],\n",
      "        [3, 4]])\n",
      "tensor([[1, 2],\n",
      "        [3, 4]], dtype=torch.int32)\n"
     ]
    }
   ],
   "source": [
    "# 1. torch 이용해서 만든 텐서\n",
    "data = [[1,2], [3,4]]\n",
    "print(type(data))\n",
    "x_data = torch.tensor(data)\n",
    "\n",
    "print(x_data)\n",
    "\n",
    "# 2. Numpy 이용해서 만든 텐서\n",
    "np_array = np.array(data)\n",
    "x_np = torch.from_numpy(np_array)\n",
    "print(x_np)"
   ]
  },
  {
   "cell_type": "markdown",
   "id": "f25985c9",
   "metadata": {},
   "source": [
    "torch.tensor()는 입력 텐서를 복사하여 새로운 텐서를 만듭니다. 이 함수는 항상 새로운 메모리를 할당하므로, 원본 데이터와의 메모리 공유가 이루어지지 않습니다.\n",
    "\n",
    "torch.from_numpy() 함수는 NumPy 배열을 PyTorch 텐서로 변환할 때, 원본 데이터와의 메모리 공유를 유지합니다."
   ]
  },
  {
   "cell_type": "code",
   "execution_count": 3,
   "id": "c259830e",
   "metadata": {},
   "outputs": [
    {
     "name": "stdout",
     "output_type": "stream",
     "text": [
      "ones Tensor : \n",
      "tensor([[1, 1],\n",
      "        [1, 1]])\n",
      "Random Tensor : \n",
      "tensor([[0.3863, 0.1398],\n",
      "        [0.9139, 0.5497]])\n"
     ]
    }
   ],
   "source": [
    "x_ones = torch.ones_like(x_data)\n",
    "print(f\"ones Tensor : \\n{x_ones}\")\n",
    "# torch.ones_like() : 주어진 입력 텐서와 동일한 크기의 텐서를 생성하고 모든 요소를 1로 채움.\n",
    "\n",
    "x_rand = torch.rand_like(x_data, dtype=torch.float) # x_data 속성을 덮어씁니다.\n",
    "print(f'Random Tensor : \\n{x_rand}')\n",
    "\n",
    "# torch.rand_like() : 주어진 입력 텐서와 동일한 크기의 텐서를 생성하고 모든 요소를 랜덤한 값으로 채웁니다.\n",
    "# 그리고 타입 지정하면 그 타입으로 변경됩니다.\n",
    "# 0 ~ 1 사이의 랜덤한 값으로 초기화되고 데이터 타입유형은 dtype=torch.float으로 지정."
   ]
  },
  {
   "cell_type": "code",
   "execution_count": 4,
   "id": "79d0ab7f",
   "metadata": {},
   "outputs": [
    {
     "name": "stdout",
     "output_type": "stream",
     "text": [
      "rand_tensor \n",
      " tensor([[2.8247, 6.8903, 9.1454, 7.8544, 6.3501, 9.9675],\n",
      "        [5.1391, 9.7678, 3.6735, 8.7253, 9.6519, 8.1993],\n",
      "        [6.3895, 0.7208, 9.3107, 0.7978, 8.0520, 3.6414],\n",
      "        [9.8785, 3.8914, 8.3690, 3.9592, 2.4874, 4.5899],\n",
      "        [8.1779, 3.2191, 6.1233, 7.5001, 7.7444, 2.0856]])\n",
      "ones_tensor \n",
      " tensor([[1., 1., 1., 1., 1., 1.],\n",
      "        [1., 1., 1., 1., 1., 1.],\n",
      "        [1., 1., 1., 1., 1., 1.],\n",
      "        [1., 1., 1., 1., 1., 1.],\n",
      "        [1., 1., 1., 1., 1., 1.]])\n",
      "zeros_tensor \n",
      " tensor([[0., 0., 0., 0., 0., 0.],\n",
      "        [0., 0., 0., 0., 0., 0.],\n",
      "        [0., 0., 0., 0., 0., 0.],\n",
      "        [0., 0., 0., 0., 0., 0.],\n",
      "        [0., 0., 0., 0., 0., 0.]])\n",
      "tensor([[9.8089, 9.7246, 7.0811, 6.5329, 7.8523, 8.0980],\n",
      "        [6.0733, 6.6943, 7.5571, 7.8540, 6.7829, 7.7042],\n",
      "        [8.1803, 7.3492, 7.9024, 6.3430, 8.1627, 7.3356],\n",
      "        [9.5202, 6.1997, 9.3043, 7.1709, 8.2970, 6.2990],\n",
      "        [8.7034, 9.5886, 8.7476, 7.0300, 8.1019, 8.2140]])\n"
     ]
    }
   ],
   "source": [
    "# 무작위 또는 상수 값을 사용하기\n",
    "shape = (5,6,)\n",
    "rand_tensor = torch.rand(shape) * 10 # 0 ~ 10\n",
    "ones_tensor = torch.ones(shape)\n",
    "zeros_tensor = torch.zeros(shape)\n",
    "\n",
    "print(\"rand_tensor \\n\", rand_tensor)\n",
    "print(\"ones_tensor \\n\", ones_tensor)\n",
    "print(\"zeros_tensor \\n\", zeros_tensor)\n",
    "\n",
    "# 유효 범위를 최소값 얼마부터 ~ 최대값 얼마까지 6 ~ 10\n",
    "shape_temp = (5,6,)\n",
    "min_val = 6\n",
    "max_val = 10\n",
    "rand_tensor_temp = torch.rand(shape_temp) * (max_val - min_val) + min_val\n",
    "print(rand_tensor_temp)"
   ]
  },
  {
   "cell_type": "markdown",
   "id": "58ca3233",
   "metadata": {},
   "source": [
    "## 텐서 속성"
   ]
  },
  {
   "cell_type": "code",
   "execution_count": 5,
   "id": "9a2376bd",
   "metadata": {},
   "outputs": [
    {
     "name": "stdout",
     "output_type": "stream",
     "text": [
      "tensor([[0.0804, 0.4288, 0.7107, 0.4687],\n",
      "        [0.5579, 0.3218, 0.7743, 0.3634],\n",
      "        [0.0176, 0.7271, 0.7097, 0.0095]])\n",
      "cpu\n",
      "Shape of tensor : torch.Size([3, 4])\n",
      "Data type of tensor : torch.float32\n",
      "Device tensor is stored on : cpu\n"
     ]
    }
   ],
   "source": [
    "tensor_val = torch.rand(3,4)\n",
    "print(tensor_val)\n",
    "\n",
    "# 디바이스 정보 가져오기 - 그냥 암기\n",
    "device = 'cuda' if torch.cuda.is_available() else 'cpu'\n",
    "print(device)\n",
    "\n",
    "# tensor_val.to(\"cuda\") >> cuda로 변경\n",
    "\n",
    "# 디바이스 변경하고자 하는경우\n",
    "# 텐서의 디바이스를 변경하려면 to() 메서드를 사용할 수 있습니다. 이 메서드는 새로운 디바이스로 텐서를 이동시킵니다.\n",
    "# EX) model.to(device)\n",
    "\n",
    "print(f\"Shape of tensor : {tensor_val.shape}\")\n",
    "print(f\"Data type of tensor : {tensor_val.dtype}\")\n",
    "print(f\"Device tensor is stored on : {tensor_val.device}\")"
   ]
  },
  {
   "cell_type": "code",
   "execution_count": 6,
   "id": "3d1c18b7",
   "metadata": {},
   "outputs": [
    {
     "name": "stdout",
     "output_type": "stream",
     "text": [
      "tensor([[1., 1., 1., 0.],\n",
      "        [1., 1., 1., 0.],\n",
      "        [1., 1., 1., 0.],\n",
      "        [1., 1., 1., 0.]])\n",
      "tensor([[1., 2., 1., 1.],\n",
      "        [1., 2., 1., 1.],\n",
      "        [1., 2., 1., 1.],\n",
      "        [1., 2., 1., 1.]])\n"
     ]
    }
   ],
   "source": [
    "# 표준 인덱싱과 슬라이싱\n",
    "tensor_1 = torch.ones(4,4)\n",
    "tensor_1[:,3] = 0\n",
    "print(tensor_1)\n",
    "\n",
    "tensor_2 = torch.ones(4,4)\n",
    "tensor_2[:,1] = 2\n",
    "print(tensor_2)"
   ]
  },
  {
   "cell_type": "code",
   "execution_count": 7,
   "id": "9a6aaec3",
   "metadata": {},
   "outputs": [
    {
     "name": "stdout",
     "output_type": "stream",
     "text": [
      "tensor([[1., 1., 1., 0., 1., 1., 1., 0., 1., 1., 1., 0.],\n",
      "        [1., 1., 1., 0., 1., 1., 1., 0., 1., 1., 1., 0.],\n",
      "        [1., 1., 1., 0., 1., 1., 1., 0., 1., 1., 1., 0.],\n",
      "        [1., 1., 1., 0., 1., 1., 1., 0., 1., 1., 1., 0.]])\n"
     ]
    }
   ],
   "source": [
    "# 텐서 합치기\n",
    "t1 = torch.cat([tensor_1, tensor_1, tensor_1], dim=1)\n",
    "print(t1)"
   ]
  },
  {
   "cell_type": "code",
   "execution_count": 8,
   "id": "bc5ffc69",
   "metadata": {},
   "outputs": [
    {
     "name": "stdout",
     "output_type": "stream",
     "text": [
      "tensor([[1., 2., 1., 0.],\n",
      "        [1., 2., 1., 0.],\n",
      "        [1., 2., 1., 0.],\n",
      "        [1., 2., 1., 0.]])\n",
      "tensor([[1., 2., 1., 0.],\n",
      "        [1., 2., 1., 0.],\n",
      "        [1., 2., 1., 0.],\n",
      "        [1., 2., 1., 0.]])\n"
     ]
    }
   ],
   "source": [
    "t_mult = tensor_1.mul(tensor_2)\n",
    "print(t_mult)\n",
    "\n",
    "print(tensor_1 * tensor_2)"
   ]
  },
  {
   "cell_type": "code",
   "execution_count": 9,
   "id": "697f4c15",
   "metadata": {},
   "outputs": [
    {
     "name": "stdout",
     "output_type": "stream",
     "text": [
      "tensor([[7., 7., 7., 7.],\n",
      "        [7., 7., 7., 7.],\n",
      "        [7., 7., 7., 7.],\n",
      "        [7., 7., 7., 7.]])\n",
      "tensor([[7., 7., 7., 7.],\n",
      "        [7., 7., 7., 7.],\n",
      "        [7., 7., 7., 7.],\n",
      "        [7., 7., 7., 7.]])\n"
     ]
    }
   ],
   "source": [
    "# 행렬 곱\n",
    "print(tensor_2.matmul(tensor_2.T))\n",
    "print(tensor_2 @ tensor_2.T)"
   ]
  },
  {
   "cell_type": "code",
   "execution_count": 10,
   "id": "5321b4f7",
   "metadata": {},
   "outputs": [
    {
     "name": "stdout",
     "output_type": "stream",
     "text": [
      "tensor([1., 1., 1., 1., 1.])\n",
      "[1. 1. 1. 1. 1.]\n",
      "tensor([2., 2., 2., 2., 2.])\n",
      "[2. 2. 2. 2. 2.]\n"
     ]
    }
   ],
   "source": [
    "t = torch.ones(5)\n",
    "print(t)\n",
    "n = t.numpy()\n",
    "print(n)\n",
    "\n",
    "t.add_(1)\n",
    "print(t)\n",
    "print(n)"
   ]
  },
  {
   "cell_type": "markdown",
   "id": "3e862c38",
   "metadata": {},
   "source": [
    "# 뷰(View) - 원소의 수를 유지하면서 텐서의 크기 변경"
   ]
  },
  {
   "cell_type": "code",
   "execution_count": 11,
   "id": "4fe22809",
   "metadata": {},
   "outputs": [
    {
     "name": "stdout",
     "output_type": "stream",
     "text": [
      "tensor([[[ 0.,  1.,  2.],\n",
      "         [ 3.,  4.,  5.],\n",
      "         [ 6.,  7.,  8.],\n",
      "         [ 9., 10., 11.]]])\n",
      "torch.Size([1, 4, 3])\n",
      "tensor([[ 0.,  1.,  2.],\n",
      "        [ 3.,  4.,  5.],\n",
      "        [ 6.,  7.,  8.],\n",
      "        [ 9., 10., 11.]])\n",
      "torch.Size([4, 3])\n"
     ]
    }
   ],
   "source": [
    "\"\"\"\n",
    "파이토치 텐서의 뷰는 넘파이의 Reshape와 같은 역할\n",
    "Reshape > 텐서의 크기를 변경해주는 역할\n",
    "\"\"\"\n",
    "\n",
    "# 3차원 데이터 생성\n",
    "t_temp = np.array([[[0,1,2], [3,4,5], [6,7,8], [9,10,11]]])\n",
    "ft = torch.FloatTensor(t_temp)\n",
    "print(ft)\n",
    "print(ft.shape)\n",
    "\n",
    "# 이제 ft view -> 2차원 텐서로 변경\n",
    "# -1 : 나는 그 값을 모르겠으니 파이토치 니가 알아서 해 ! : 두번째 차원은 길이는 3 가지도록 하라는 의미.\n",
    "print(ft.view([-1,3])) # (?, 3)\n",
    "print(ft.view([-1,3]).shape)\n",
    "\n",
    "# view() 메서드를 사용하여 텐서의 차원을 변경하면, -> 데이터를 복사하여 새로운 텐서를 생성하고 이 새로운 텐서는 원래 텐서와 메모리를 공유안함!"
   ]
  },
  {
   "cell_type": "code",
   "execution_count": 12,
   "id": "360b7be7",
   "metadata": {},
   "outputs": [
    {
     "name": "stdout",
     "output_type": "stream",
     "text": [
      "tensor([[[ 0.,  1.,  2.]],\n",
      "\n",
      "        [[ 3.,  4.,  5.]],\n",
      "\n",
      "        [[ 6.,  7.,  8.]],\n",
      "\n",
      "        [[ 9., 10., 11.]]])\n",
      "torch.Size([4, 1, 3])\n"
     ]
    }
   ],
   "source": [
    "# 3차원 텐서의 크기 변경\n",
    "print(ft.view([-1,1,3]))\n",
    "print(ft.view([-1,1,3]).shape)"
   ]
  },
  {
   "cell_type": "code",
   "execution_count": 13,
   "id": "fcc20669",
   "metadata": {},
   "outputs": [
    {
     "name": "stdout",
     "output_type": "stream",
     "text": [
      "tensor([[0.],\n",
      "        [1.],\n",
      "        [2.]])\n",
      "torch.Size([3, 1])\n"
     ]
    }
   ],
   "source": [
    "\"\"\"\n",
    "스퀴즈 -> 1차원을 제거\n",
    "스퀴즈는 차원이 1인 경우에는 해당 차원을 제거합니다.\n",
    "실습 3x1 크기를 가지는 2차원 텐서 생성\n",
    "\"\"\"\n",
    "\n",
    "ft = torch.FloatTensor(([0],[1],[2]))\n",
    "print(ft)\n",
    "print(ft.shape)"
   ]
  },
  {
   "cell_type": "code",
   "execution_count": 14,
   "id": "23c84ee3",
   "metadata": {},
   "outputs": [
    {
     "name": "stdout",
     "output_type": "stream",
     "text": [
      "tensor([0., 1., 2.])\n",
      "torch.Size([3])\n"
     ]
    }
   ],
   "source": [
    "print(ft.squeeze())\n",
    "print(ft.squeeze().shape)"
   ]
  },
  {
   "cell_type": "code",
   "execution_count": 15,
   "id": "6f6bfbc5",
   "metadata": {},
   "outputs": [
    {
     "name": "stdout",
     "output_type": "stream",
     "text": [
      "torch.Size([3])\n"
     ]
    }
   ],
   "source": [
    "\"\"\"\n",
    "언스퀴즈 - 특정 위치에서 1인 차원을 추가합니다.\n",
    "\"\"\"\n",
    "ft_temp = torch.Tensor([0,1,2])\n",
    "print(ft_temp.shape)"
   ]
  },
  {
   "cell_type": "code",
   "execution_count": 16,
   "id": "47f23a9f",
   "metadata": {},
   "outputs": [
    {
     "name": "stdout",
     "output_type": "stream",
     "text": [
      "tensor([[0., 1., 2.]])\n",
      "torch.Size([1, 3])\n"
     ]
    }
   ],
   "source": [
    "# 첫번째 차원에서 1차원 추가\n",
    "# 인덱스 0\n",
    "print(ft_temp.unsqueeze(0))\n",
    "print(ft_temp.unsqueeze(0).shape)"
   ]
  },
  {
   "cell_type": "code",
   "execution_count": 17,
   "id": "ae8d400d",
   "metadata": {},
   "outputs": [
    {
     "name": "stdout",
     "output_type": "stream",
     "text": [
      "tensor([[0., 1., 2.]])\n",
      "torch.Size([1, 3])\n"
     ]
    }
   ],
   "source": [
    "print(ft_temp.view(1, -1))\n",
    "print(ft_temp.view(1, -1).shape)"
   ]
  },
  {
   "cell_type": "code",
   "execution_count": 18,
   "id": "e03f1e38",
   "metadata": {},
   "outputs": [
    {
     "name": "stdout",
     "output_type": "stream",
     "text": [
      "tensor([[0.],\n",
      "        [1.],\n",
      "        [2.]])\n",
      "torch.Size([3, 1])\n"
     ]
    }
   ],
   "source": [
    "# 두번째 차원에 1추가\n",
    "print(ft_temp.unsqueeze(1))\n",
    "print(ft_temp.unsqueeze(1).shape)"
   ]
  },
  {
   "cell_type": "code",
   "execution_count": 19,
   "id": "f466d955",
   "metadata": {},
   "outputs": [
    {
     "name": "stdout",
     "output_type": "stream",
     "text": [
      "tensor([[0.],\n",
      "        [1.],\n",
      "        [2.]])\n",
      "torch.Size([3, 1])\n"
     ]
    }
   ],
   "source": [
    "print(ft_temp.unsqueeze(-1))\n",
    "print(ft_temp.unsqueeze(-1).shape)"
   ]
  },
  {
   "cell_type": "code",
   "execution_count": null,
   "id": "7dfff16d",
   "metadata": {},
   "outputs": [],
   "source": []
  }
 ],
 "metadata": {
  "kernelspec": {
   "display_name": "capybara",
   "language": "python",
   "name": "capybara"
  },
  "language_info": {
   "codemirror_mode": {
    "name": "ipython",
    "version": 3
   },
   "file_extension": ".py",
   "mimetype": "text/x-python",
   "name": "python",
   "nbconvert_exporter": "python",
   "pygments_lexer": "ipython3",
   "version": "3.8.16"
  }
 },
 "nbformat": 4,
 "nbformat_minor": 5
}
