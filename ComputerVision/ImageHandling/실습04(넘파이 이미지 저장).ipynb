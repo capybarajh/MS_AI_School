{
 "cells": [
  {
   "cell_type": "markdown",
   "id": "5fa2aef3",
   "metadata": {},
   "source": [
    "# numpy를 사용하여 이미지 저장 시 효율 비교"
   ]
  },
  {
   "cell_type": "code",
   "execution_count": 1,
   "id": "239b8ca4",
   "metadata": {},
   "outputs": [],
   "source": [
    "#!pip install Pillow"
   ]
  },
  {
   "cell_type": "code",
   "execution_count": 2,
   "id": "747301df",
   "metadata": {},
   "outputs": [],
   "source": [
    "import numpy as np\n",
    "from PIL import Image"
   ]
  },
  {
   "cell_type": "code",
   "execution_count": 3,
   "id": "0a8237ba",
   "metadata": {},
   "outputs": [
    {
     "name": "stdout",
     "output_type": "stream",
     "text": [
      "<PIL.Image.Image image mode=L size=310x162 at 0x20A6D43A830>\n"
     ]
    }
   ],
   "source": [
    "# 이미지 불러오기\n",
    "img = Image.open(\"./data/cat.png\").convert('L') # 그레이 스케일 변환\n",
    "print(img)"
   ]
  },
  {
   "cell_type": "code",
   "execution_count": 4,
   "id": "80b3750e",
   "metadata": {},
   "outputs": [
    {
     "name": "stdout",
     "output_type": "stream",
     "text": [
      "[[222 222 222 ... 169 169 169]\n",
      " [223 223 223 ... 168 168 168]\n",
      " [223 223 223 ... 165 165 165]\n",
      " ...\n",
      " [219 219 222 ... 235 234 234]\n",
      " [221 222 224 ... 236 236 235]\n",
      " [221 222 224 ... 236 236 235]]\n"
     ]
    }
   ],
   "source": [
    "img_array = np.array(img)\n",
    "print(img_array)"
   ]
  },
  {
   "cell_type": "code",
   "execution_count": 5,
   "id": "6a3402e5",
   "metadata": {},
   "outputs": [],
   "source": [
    "np.save(\"./data/pil_image.npy\", img_array)"
   ]
  },
  {
   "cell_type": "code",
   "execution_count": 6,
   "id": "c0c34525",
   "metadata": {},
   "outputs": [
    {
     "name": "stdout",
     "output_type": "stream",
     "text": [
      "[[222 222 222 ... 169 169 169]\n",
      " [223 223 223 ... 168 168 168]\n",
      " [223 223 223 ... 165 165 165]\n",
      " ...\n",
      " [219 219 222 ... 235 234 234]\n",
      " [221 222 224 ... 236 236 235]\n",
      " [221 222 224 ... 236 236 235]]\n"
     ]
    }
   ],
   "source": [
    "img_array1 = np.load(\"./data/pil_image.npy\")\n",
    "\n",
    "print(img_array1)"
   ]
  },
  {
   "cell_type": "code",
   "execution_count": 7,
   "id": "2be26dd8",
   "metadata": {},
   "outputs": [],
   "source": [
    "# 다시 PIL 이미지로 변환 \n",
    "img = Image.fromarray(np.uint8(img_array1))\n",
    "img.save(\"./data/image_numpy.png\")"
   ]
  },
  {
   "cell_type": "code",
   "execution_count": 8,
   "id": "986c4049",
   "metadata": {},
   "outputs": [
    {
     "name": "stdout",
     "output_type": "stream",
     "text": [
      "numpy.save() 함수로 저장한 파일 크기: 50348 bytes\n",
      "PIL.Image.fromarray() 함수로 저장한 파일 크기: 26808 bytes\n"
     ]
    }
   ],
   "source": [
    "import os \n",
    "np_save_size = os.path.getsize(\"./data/pil_image.npy\")\n",
    "\n",
    "pil_save_size = os.path.getsize(\"./data/image_numpy.png\")\n",
    "print(f'numpy.save() 함수로 저장한 파일 크기: {np_save_size} bytes')\n",
    "print(f'PIL.Image.fromarray() 함수로 저장한 파일 크기: {pil_save_size} bytes')"
   ]
  }
 ],
 "metadata": {
  "kernelspec": {
   "display_name": "Python 3 (ipykernel)",
   "language": "python",
   "name": "python3"
  },
  "language_info": {
   "codemirror_mode": {
    "name": "ipython",
    "version": 3
   },
   "file_extension": ".py",
   "mimetype": "text/x-python",
   "name": "python",
   "nbconvert_exporter": "python",
   "pygments_lexer": "ipython3",
   "version": "3.10.9"
  }
 },
 "nbformat": 4,
 "nbformat_minor": 5
}
