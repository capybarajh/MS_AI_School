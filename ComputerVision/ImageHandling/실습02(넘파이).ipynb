{
 "cells": [
  {
   "cell_type": "markdown",
   "id": "f7df1b5d",
   "metadata": {},
   "source": [
    "## 단일 객체 저장 및 불러오기"
   ]
  },
  {
   "cell_type": "code",
   "execution_count": 2,
   "id": "df5250f4",
   "metadata": {},
   "outputs": [],
   "source": [
    "import numpy as np\n",
    "import os"
   ]
  },
  {
   "cell_type": "code",
   "execution_count": 3,
   "id": "dada5409",
   "metadata": {},
   "outputs": [
    {
     "name": "stdout",
     "output_type": "stream",
     "text": [
      "[1 2 3 4 5 6 7 8 9]\n"
     ]
    }
   ],
   "source": [
    "# 단일 객체 생성\n",
    "array = np.arange(1, 10)\n",
    "print(array)"
   ]
  },
  {
   "cell_type": "markdown",
   "id": "f09d9b38",
   "metadata": {},
   "source": [
    "#### numpy 형태로 저장"
   ]
  },
  {
   "cell_type": "code",
   "execution_count": 4,
   "id": "4c29973e",
   "metadata": {},
   "outputs": [],
   "source": [
    "os.makedirs(\"./data\", exist_ok=True)\n",
    "np.save(\"./data/save.npy\", array)"
   ]
  },
  {
   "cell_type": "markdown",
   "id": "7013e205",
   "metadata": {},
   "source": [
    "#### numpy 데이터 불러오기"
   ]
  },
  {
   "cell_type": "code",
   "execution_count": 5,
   "id": "55ee9403",
   "metadata": {},
   "outputs": [
    {
     "name": "stdout",
     "output_type": "stream",
     "text": [
      "[1 2 3 4 5 6 7 8 9]\n"
     ]
    }
   ],
   "source": [
    "result = np.load(\"./data/save.npy\")\n",
    "\n",
    "print(result)"
   ]
  },
  {
   "cell_type": "markdown",
   "id": "56d39a4b",
   "metadata": {},
   "source": [
    "# 복수 객체 저장 및 불러오기"
   ]
  },
  {
   "cell_type": "code",
   "execution_count": 7,
   "id": "0ebc480d",
   "metadata": {},
   "outputs": [],
   "source": [
    "# 복수 객체 생성 \n",
    "array01 = np.arange(0,10)\n",
    "array02 = np.arange(10,20)\n",
    "array03 = np.arange(20,30)"
   ]
  },
  {
   "cell_type": "markdown",
   "id": "9780f951",
   "metadata": {},
   "source": [
    "#### numpy 저장"
   ]
  },
  {
   "cell_type": "code",
   "execution_count": 8,
   "id": "586c7857",
   "metadata": {},
   "outputs": [],
   "source": [
    "np.savez(\"./data/mul_save.npz\", a=array01, array2=array02, array3=array03)\n",
    "# 여러개일 땐 savez"
   ]
  },
  {
   "cell_type": "markdown",
   "id": "43b43391",
   "metadata": {},
   "source": [
    "#### numpy 불러오기 "
   ]
  },
  {
   "cell_type": "code",
   "execution_count": 10,
   "id": "0ad702a3",
   "metadata": {},
   "outputs": [
    {
     "name": "stdout",
     "output_type": "stream",
     "text": [
      "[0 1 2 3 4 5 6 7 8 9]\n",
      "[10 11 12 13 14 15 16 17 18 19]\n"
     ]
    }
   ],
   "source": [
    "data = np.load(\"./data/mul_save.npz\")\n",
    "\n",
    "result01 = data['a']\n",
    "result02 = data['array2']\n",
    "print(result01)\n",
    "print(result02)"
   ]
  },
  {
   "cell_type": "code",
   "execution_count": null,
   "id": "03590f83",
   "metadata": {},
   "outputs": [],
   "source": []
  }
 ],
 "metadata": {
  "kernelspec": {
   "display_name": "Python 3 (ipykernel)",
   "language": "python",
   "name": "python3"
  },
  "language_info": {
   "codemirror_mode": {
    "name": "ipython",
    "version": 3
   },
   "file_extension": ".py",
   "mimetype": "text/x-python",
   "name": "python",
   "nbconvert_exporter": "python",
   "pygments_lexer": "ipython3",
   "version": "3.10.9"
  }
 },
 "nbformat": 4,
 "nbformat_minor": 5
}
