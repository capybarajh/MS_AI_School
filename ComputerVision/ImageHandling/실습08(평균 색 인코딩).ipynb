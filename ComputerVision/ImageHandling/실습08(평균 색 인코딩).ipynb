{
 "cells": [
  {
   "cell_type": "markdown",
   "id": "e7cb0fac",
   "metadata": {},
   "source": [
    "# 평균 색을 특성으로 인코딩"
   ]
  },
  {
   "cell_type": "code",
   "execution_count": 1,
   "id": "37079cae",
   "metadata": {},
   "outputs": [],
   "source": [
    "#### 평균 색을 특성으로 인코딩\n",
    "import cv2\n",
    "import matplotlib.pyplot as plt"
   ]
  },
  {
   "cell_type": "code",
   "execution_count": 2,
   "id": "8f4b753f",
   "metadata": {},
   "outputs": [
    {
     "name": "stdout",
     "output_type": "stream",
     "text": [
      "(138.98134209478295, 133.2246714456392, 137.49121863799283, 0.0)\n"
     ]
    }
   ],
   "source": [
    "image_path = \"./data/cat.png\"\n",
    "\n",
    "image = cv2.imread(image_path)\n",
    "image = cv2.cvtColor(image, cv2.COLOR_BGR2RGB)\n",
    "\n",
    "# 평균색 특성 인코딩\n",
    "channels = cv2.mean(image)\n",
    "print(channels)"
   ]
  },
  {
   "cell_type": "code",
   "execution_count": null,
   "id": "119954a6",
   "metadata": {},
   "outputs": [],
   "source": []
  }
 ],
 "metadata": {
  "kernelspec": {
   "display_name": "Python 3 (ipykernel)",
   "language": "python",
   "name": "python3"
  },
  "language_info": {
   "codemirror_mode": {
    "name": "ipython",
    "version": 3
   },
   "file_extension": ".py",
   "mimetype": "text/x-python",
   "name": "python",
   "nbconvert_exporter": "python",
   "pygments_lexer": "ipython3",
   "version": "3.10.9"
  }
 },
 "nbformat": 4,
 "nbformat_minor": 5
}
