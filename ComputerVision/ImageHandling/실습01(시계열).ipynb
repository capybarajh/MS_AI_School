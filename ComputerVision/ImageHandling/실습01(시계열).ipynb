{
 "cells": [
  {
   "cell_type": "markdown",
   "id": "7790b96a",
   "metadata": {},
   "source": [
    "# 날짜 데이터를 여러 특성으로 분할"
   ]
  },
  {
   "cell_type": "markdown",
   "id": "0293dba8",
   "metadata": {},
   "source": [
    "## 날짜와 시간의 열로부터 년 월 일 시 분에 해당하는 특성을 만들기"
   ]
  },
  {
   "cell_type": "code",
   "execution_count": 1,
   "id": "7e72e8e3",
   "metadata": {},
   "outputs": [],
   "source": [
    "import pandas as pd\n",
    "import numpy as np"
   ]
  },
  {
   "cell_type": "code",
   "execution_count": 4,
   "id": "3c972807",
   "metadata": {},
   "outputs": [
    {
     "name": "stdout",
     "output_type": "stream",
     "text": [
      "        date\n",
      "0 2023-01-01\n",
      "1 2023-01-08\n",
      "2 2023-01-15\n",
      "3 2023-01-22\n",
      "4 2023-01-29\n",
      "5 2023-02-05\n",
      "6 2023-02-12\n",
      "7 2023-02-19\n",
      "8 2023-02-26\n",
      "9 2023-03-05\n"
     ]
    }
   ],
   "source": [
    "dataframe = pd.DataFrame()\n",
    "\n",
    "# 5개의 날짜 만들기\n",
    "dataframe['date'] = pd.date_range('1/1/2023', periods=10, freq='W')\n",
    "print(dataframe)"
   ]
  },
  {
   "cell_type": "markdown",
   "id": "b083fb95",
   "metadata": {},
   "source": [
    "## 년 월 일 시 분에 대한 특성 만들기"
   ]
  },
  {
   "cell_type": "code",
   "execution_count": 5,
   "id": "fa3eeed8",
   "metadata": {},
   "outputs": [
    {
     "name": "stdout",
     "output_type": "stream",
     "text": [
      "        date  year  month  day  hour  minute\n",
      "0 2023-01-01  2023      1    1     0       0\n",
      "1 2023-01-08  2023      1    8     0       0\n",
      "2 2023-01-15  2023      1   15     0       0\n",
      "3 2023-01-22  2023      1   22     0       0\n",
      "4 2023-01-29  2023      1   29     0       0\n",
      "5 2023-02-05  2023      2    5     0       0\n",
      "6 2023-02-12  2023      2   12     0       0\n",
      "7 2023-02-19  2023      2   19     0       0\n",
      "8 2023-02-26  2023      2   26     0       0\n",
      "9 2023-03-05  2023      3    5     0       0\n"
     ]
    }
   ],
   "source": [
    "dataframe['year'] = dataframe['date'].dt.year\n",
    "dataframe['month'] = dataframe['date'].dt.month\n",
    "dataframe['day'] = dataframe['date'].dt.day\n",
    "dataframe['hour'] = dataframe['date'].dt.hour\n",
    "dataframe['minute'] = dataframe['date'].dt.minute\n",
    "\n",
    "print(dataframe)"
   ]
  },
  {
   "cell_type": "markdown",
   "id": "9e16a362",
   "metadata": {},
   "source": [
    "## 날짜 간의 차이 계산\n",
    "\n",
    "### 판다스의 TimeDelta 데이터 타입을 사용하면 두 지점 사이의 시간 변화를 기록한 특성을 계산"
   ]
  },
  {
   "cell_type": "code",
   "execution_count": 4,
   "id": "d30a8bd9",
   "metadata": {},
   "outputs": [
    {
     "name": "stdout",
     "output_type": "stream",
     "text": [
      "0   2023-01-01\n",
      "1   2023-01-04\n",
      "Name: Arrived, dtype: datetime64[ns]\n",
      "0   2023-01-01\n",
      "1   2023-01-06\n",
      "Name: Left, dtype: datetime64[ns]\n"
     ]
    }
   ],
   "source": [
    "date_frame = pd.DataFrame()\n",
    "\n",
    "date_frame['Arrived'] = [pd.Timestamp('01-01-2023'), pd.Timestamp('01-04-2023')]\n",
    "date_frame['Left'] = [pd.Timestamp('01-01-2023'), pd.Timestamp('01-06-2023')]\n",
    "\n",
    "print(date_frame['Arrived'])\n",
    "print(date_frame['Left'])"
   ]
  },
  {
   "cell_type": "code",
   "execution_count": 5,
   "id": "43f7e379",
   "metadata": {},
   "outputs": [
    {
     "data": {
      "text/plain": [
       "0    0\n",
       "1    2\n",
       "dtype: int64"
      ]
     },
     "execution_count": 5,
     "metadata": {},
     "output_type": "execute_result"
    }
   ],
   "source": [
    "# 특성 사이의 차이를 계산\n",
    "date_frame['Left'] - date_frame['Arrived']\n",
    "\n",
    "# 특성 간의 기간을 계산\n",
    "pd.Series(delta.days for delta in (date_frame['Left'] - date_frame['Arrived']))"
   ]
  },
  {
   "cell_type": "markdown",
   "id": "7a07cce3",
   "metadata": {},
   "source": [
    "## 시차 특성"
   ]
  },
  {
   "cell_type": "code",
   "execution_count": 6,
   "id": "ce105def",
   "metadata": {},
   "outputs": [
    {
     "name": "stdout",
     "output_type": "stream",
     "text": [
      "       dates  stock_price  previous_days_stock_price\n",
      "0 2023-01-01          1.1                        NaN\n",
      "1 2023-01-02          2.2                        1.1\n",
      "2 2023-01-03          3.3                        2.2\n",
      "3 2023-01-04          4.4                        3.3\n",
      "4 2023-01-05          5.5                        4.4\n"
     ]
    }
   ],
   "source": [
    "dateframe2 = pd.DataFrame()\n",
    "\n",
    "# 날짜 생성\n",
    "dateframe2['dates'] = pd.date_range(\"1/1/2023\", periods=5, freq='D')\n",
    "dateframe2['stock_price'] = [1.1, 2.2, 3.3, 4.4, 5.5]\n",
    "\n",
    "# 한 행 뒤의 값을 가져오기\n",
    "dateframe2[\"previous_days_stock_price\"] = dateframe2[\"stock_price\"].shift(1)\n",
    "print(dateframe2)"
   ]
  },
  {
   "cell_type": "markdown",
   "id": "75a320c7",
   "metadata": {},
   "source": [
    "## 이동 시간 윈도 사용"
   ]
  },
  {
   "cell_type": "code",
   "execution_count": 7,
   "id": "08d48e4e",
   "metadata": {},
   "outputs": [
    {
     "name": "stdout",
     "output_type": "stream",
     "text": [
      "            Stock_Price\n",
      "2023-01-31            1\n",
      "2023-02-28            2\n",
      "2023-03-31            3\n",
      "2023-04-30            4\n",
      "2023-05-31            5\n"
     ]
    }
   ],
   "source": [
    "time_index = pd.date_range(\"01/01/2023\", periods=5, freq='M')\n",
    "\n",
    "dateframe3 = pd.DataFrame(index=time_index)\n",
    "dateframe3['Stock_Price'] = [1,2,3,4,5] # 특성을 생성\n",
    "dateframe3.rolling(window=2).mean() # 이동 평균을 계산\n",
    "dateframe3.ewm(alpha=0.5).mean()\n",
    "print(dateframe3)"
   ]
  },
  {
   "cell_type": "markdown",
   "id": "4ff5995f",
   "metadata": {},
   "source": [
    "## 시계열 데이터에서 누락된 값 처리"
   ]
  },
  {
   "cell_type": "code",
   "execution_count": 9,
   "id": "464f6947",
   "metadata": {},
   "outputs": [
    {
     "name": "stdout",
     "output_type": "stream",
     "text": [
      "Empty DataFrame\n",
      "Columns: []\n",
      "Index: [2023-01-31 00:00:00, 2023-02-28 00:00:00, 2023-03-31 00:00:00, 2023-04-30 00:00:00, 2023-05-31 00:00:00]\n"
     ]
    }
   ],
   "source": [
    "time_index2 = pd.date_range(\"01/01/2023\", periods=5, freq=\"M\")\n",
    "dateframe4 = pd.DataFrame(index=time_index2)\n",
    "\n",
    "print(dateframe4)"
   ]
  },
  {
   "cell_type": "code",
   "execution_count": 10,
   "id": "06c947e1",
   "metadata": {},
   "outputs": [
    {
     "name": "stdout",
     "output_type": "stream",
     "text": [
      "            Sales\n",
      "2023-01-31    1.0\n",
      "2023-02-28    2.0\n",
      "2023-03-31    3.0\n",
      "2023-04-30    NaN\n",
      "2023-05-31    5.0\n",
      "            Sales\n",
      "2023-01-31    1.0\n",
      "2023-02-28    2.0\n",
      "2023-03-31    NaN\n",
      "2023-04-30    4.0\n",
      "2023-05-31    5.0\n"
     ]
    }
   ],
   "source": [
    "dateframe4[\"Sales\"] = [1.0, 2.0, np.nan, np.nan, 5.0] # 누락값이 있는 특성 생성\n",
    "\n",
    "dateframe4.interpolate() # 누락된 값을 보간\n",
    "dateframe4.ffill() # 앞쪽으로 채우기\n",
    "dateframe4.bfill() # 뒤쪽으로 채우기\n",
    "dateframe4.interpolate(method=\"quadratic\") # 비선형의 경우 보간 방법\n",
    "print(dateframe4.interpolate(limit=1, limit_direction=\"forward\"))\n",
    "print(dateframe4.interpolate(limit=1, limit_direction=\"backward\"))"
   ]
  },
  {
   "cell_type": "code",
   "execution_count": null,
   "id": "8f5ee679",
   "metadata": {},
   "outputs": [],
   "source": []
  }
 ],
 "metadata": {
  "kernelspec": {
   "display_name": "Python 3 (ipykernel)",
   "language": "python",
   "name": "python3"
  },
  "language_info": {
   "codemirror_mode": {
    "name": "ipython",
    "version": 3
   },
   "file_extension": ".py",
   "mimetype": "text/x-python",
   "name": "python",
   "nbconvert_exporter": "python",
   "pygments_lexer": "ipython3",
   "version": "3.10.9"
  }
 },
 "nbformat": 4,
 "nbformat_minor": 5
}
