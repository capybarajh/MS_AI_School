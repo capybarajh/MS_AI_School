{
 "cells": [
  {
   "cell_type": "markdown",
   "id": "794bcfde",
   "metadata": {},
   "source": [
    " # Precision 정밀도 간단한 실습"
   ]
  },
  {
   "cell_type": "code",
   "execution_count": 1,
   "id": "2d612f59",
   "metadata": {},
   "outputs": [],
   "source": [
    "from sklearn.metrics import precision_score"
   ]
  },
  {
   "cell_type": "markdown",
   "id": "9de5e923",
   "metadata": {},
   "source": [
    "### 데이터 "
   ]
  },
  {
   "cell_type": "code",
   "execution_count": 2,
   "id": "fe32bee8",
   "metadata": {},
   "outputs": [],
   "source": [
    "actual_labels = [1,0,0,1,1,0,1,1,0,0,1]\n",
    "pred_labels = [1,0,0,1,1,0,1,1,0,0,1]"
   ]
  },
  {
   "cell_type": "markdown",
   "id": "185cf862",
   "metadata": {},
   "source": [
    "### 정밀도 계산"
   ]
  },
  {
   "cell_type": "code",
   "execution_count": 3,
   "id": "9055ea5e",
   "metadata": {},
   "outputs": [
    {
     "name": "stdout",
     "output_type": "stream",
     "text": [
      "precision :  1.0\n"
     ]
    }
   ],
   "source": [
    "precision = precision_score(actual_labels, pred_labels)\n",
    "\n",
    "print(\"precision : \", precision)"
   ]
  },
  {
   "cell_type": "code",
   "execution_count": null,
   "id": "0333cbad",
   "metadata": {},
   "outputs": [],
   "source": []
  }
 ],
 "metadata": {
  "kernelspec": {
   "display_name": "capybara",
   "language": "python",
   "name": "capybara"
  },
  "language_info": {
   "codemirror_mode": {
    "name": "ipython",
    "version": 3
   },
   "file_extension": ".py",
   "mimetype": "text/x-python",
   "name": "python",
   "nbconvert_exporter": "python",
   "pygments_lexer": "ipython3",
   "version": "3.8.16"
  }
 },
 "nbformat": 4,
 "nbformat_minor": 5
}
