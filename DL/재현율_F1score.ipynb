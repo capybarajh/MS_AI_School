{
 "cells": [
  {
   "cell_type": "markdown",
   "id": "f0525db1",
   "metadata": {},
   "source": [
    "# Recall 재현율 간단한 실습"
   ]
  },
  {
   "cell_type": "code",
   "execution_count": 1,
   "id": "4d63ff55",
   "metadata": {},
   "outputs": [],
   "source": [
    "from sklearn.metrics import recall_score"
   ]
  },
  {
   "cell_type": "code",
   "execution_count": 2,
   "id": "f1e73c0b",
   "metadata": {},
   "outputs": [],
   "source": [
    "actual_labels = [1,0,0,1,1,1,1,0,1,0,1,1]\n",
    "\n",
    "pred_labels = [1,1,1,0,0,0,0,0,1,0,0,1]\n",
    "\n",
    "recall = recall_score(actual_labels, pred_labels)"
   ]
  },
  {
   "cell_type": "code",
   "execution_count": 3,
   "id": "10a7d6d6",
   "metadata": {},
   "outputs": [
    {
     "name": "stdout",
     "output_type": "stream",
     "text": [
      "recall 0.375\n"
     ]
    }
   ],
   "source": [
    "print(\"recall\", recall)"
   ]
  },
  {
   "cell_type": "markdown",
   "id": "3a0d5e0e",
   "metadata": {},
   "source": [
    "# F1 Score 간단한 실습"
   ]
  },
  {
   "cell_type": "code",
   "execution_count": 4,
   "id": "a849c0c2",
   "metadata": {},
   "outputs": [
    {
     "name": "stdout",
     "output_type": "stream",
     "text": [
      "F1 Score >>  0.4615384615384615\n"
     ]
    }
   ],
   "source": [
    "from sklearn.metrics import f1_score\n",
    "\n",
    "f1_score_ = f1_score(actual_labels, pred_labels)\n",
    "\n",
    "print(\"F1 Score >> \", f1_score_)"
   ]
  },
  {
   "cell_type": "code",
   "execution_count": null,
   "id": "04485054",
   "metadata": {},
   "outputs": [],
   "source": []
  }
 ],
 "metadata": {
  "kernelspec": {
   "display_name": "capybara",
   "language": "python",
   "name": "capybara"
  },
  "language_info": {
   "codemirror_mode": {
    "name": "ipython",
    "version": 3
   },
   "file_extension": ".py",
   "mimetype": "text/x-python",
   "name": "python",
   "nbconvert_exporter": "python",
   "pygments_lexer": "ipython3",
   "version": "3.8.16"
  }
 },
 "nbformat": 4,
 "nbformat_minor": 5
}
