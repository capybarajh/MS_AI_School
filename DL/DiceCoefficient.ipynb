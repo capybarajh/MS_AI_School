{
 "cells": [
  {
   "cell_type": "markdown",
   "id": "89e3ada2",
   "metadata": {},
   "source": [
    "# 두 개의 세그멘테이션(분할) 결과를 비교하여 유사성을 측정"
   ]
  },
  {
   "cell_type": "code",
   "execution_count": 1,
   "id": "a17e37b9",
   "metadata": {},
   "outputs": [],
   "source": [
    "import numpy as np \n",
    "import matplotlib.pyplot as plt"
   ]
  },
  {
   "cell_type": "markdown",
   "id": "4916aa1c",
   "metadata": {},
   "source": [
    "#### 두개의 세그멘테이션(분할) 유사성 측정 함수"
   ]
  },
  {
   "cell_type": "code",
   "execution_count": 2,
   "id": "81011dac",
   "metadata": {},
   "outputs": [],
   "source": [
    "def dice_coefficient(pred_mask, true_mask) : \n",
    "    intersection = np.logical_and(pred_mask, true_mask)\n",
    "    dice = (2.0 * intersection.sum()) / (pred_mask.sum() + true_mask.sum())\n",
    "    \n",
    "    return dice"
   ]
  },
  {
   "cell_type": "markdown",
   "id": "f0ec071d",
   "metadata": {},
   "source": [
    "#### 시각화"
   ]
  },
  {
   "cell_type": "code",
   "execution_count": 3,
   "id": "445f3399",
   "metadata": {},
   "outputs": [],
   "source": [
    "def plot_masks(pred_mask, true_mask) : \n",
    "    plt.subplot(1,2,1)\n",
    "    plt.imshow(pred_mask, cmap='gray')\n",
    "    \n",
    "    plt.subplot(1,2,2)\n",
    "    plt.imshow(true_mask, cmap='gray')\n",
    "    plt.show()"
   ]
  },
  {
   "cell_type": "markdown",
   "id": "f75dcc87",
   "metadata": {},
   "source": [
    "####  데이터 생성"
   ]
  },
  {
   "cell_type": "code",
   "execution_count": 4,
   "id": "4d4601ff",
   "metadata": {},
   "outputs": [],
   "source": [
    "pred_mask = np.array([[0,1,1,0],\n",
    "                      [1,1,0,0],\n",
    "                      [0,1,1,1]\n",
    "                     ])\n",
    "\n",
    "true_mask = np.array(([1,1,0,0],\n",
    "                       [1,0,0,0], \n",
    "                       [0,1,1,1]))"
   ]
  },
  {
   "cell_type": "markdown",
   "id": "064efc61",
   "metadata": {},
   "source": [
    "#### 계산 진행"
   ]
  },
  {
   "cell_type": "code",
   "execution_count": 5,
   "id": "6957c6bd",
   "metadata": {},
   "outputs": [
    {
     "name": "stdout",
     "output_type": "stream",
     "text": [
      "Dice Cofficient :  0.7692307692307693\n"
     ]
    }
   ],
   "source": [
    "dice = dice_coefficient(pred_mask, true_mask)\n",
    "\n",
    "print(\"Dice Cofficient : \", dice)"
   ]
  },
  {
   "cell_type": "markdown",
   "id": "91285c6c",
   "metadata": {},
   "source": [
    "#### 마스크 시각화"
   ]
  },
  {
   "cell_type": "code",
   "execution_count": 6,
   "id": "f842562f",
   "metadata": {},
   "outputs": [
    {
     "data": {
      "image/png": "[encoded data removed]",
      "text/plain": [
       "<Figure size 640x480 with 2 Axes>"
      ]
     },
     "metadata": {},
     "output_type": "display_data"
    }
   ],
   "source": [
    "plot_masks(pred_mask, true_mask)"
   ]
  },
  {
   "cell_type": "code",
   "execution_count": null,
   "id": "6a00d9f5",
   "metadata": {},
   "outputs": [],
   "source": []
  }
 ],
 "metadata": {
  "kernelspec": {
   "display_name": "capybara",
   "language": "python",
   "name": "capybara"
  },
  "language_info": {
   "codemirror_mode": {
    "name": "ipython",
    "version": 3
   },
   "file_extension": ".py",
   "mimetype": "text/x-python",
   "name": "python",
   "nbconvert_exporter": "python",
   "pygments_lexer": "ipython3",
   "version": "3.8.16"
  }
 },
 "nbformat": 4,
 "nbformat_minor": 5
}
