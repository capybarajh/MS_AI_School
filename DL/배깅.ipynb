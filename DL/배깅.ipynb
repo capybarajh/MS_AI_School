{
 "cells": [
  {
   "cell_type": "markdown",
   "id": "0c8dd03b",
   "metadata": {},
   "source": [
    "# PyTorch를 사용하여 배깅을 CNN에 적용하는 실습 : CIFAR10 데이터셋 활용 "
   ]
  },
  {
   "cell_type": "code",
   "execution_count": 1,
   "id": "75691d0a",
   "metadata": {},
   "outputs": [],
   "source": [
    "import torch\n",
    "import torch.nn as nn\n",
    "import torch.optim as optim\n",
    "import torchvision.datasets as datasets\n",
    "import torchvision.transforms as transforms\n",
    "from torch.utils.data import DataLoader\n",
    "from sklearn.metrics import accuracy_score"
   ]
  },
  {
   "cell_type": "code",
   "execution_count": 2,
   "id": "e9170aa8",
   "metadata": {},
   "outputs": [],
   "source": [
    "device = torch.device(\"cuda\" if torch.cuda.is_available() else 'cpu')"
   ]
  },
  {
   "cell_type": "code",
   "execution_count": 3,
   "id": "7389d467",
   "metadata": {},
   "outputs": [],
   "source": [
    "class CNN(nn.Module) : \n",
    "    def __init__(self) : \n",
    "        super(CNN, self).__init__()\n",
    "        self.features = nn.Sequential(\n",
    "            nn.Conv2d(3, 16, kernel_size=3, stride=1, padding=1),\n",
    "            nn.ReLU(inplace=True),\n",
    "            nn.MaxPool2d(kernel_size=2,stride=2),\n",
    "            nn.Conv2d(16, 32, kernel_size=3, stride=1, padding=1),\n",
    "            nn.ReLU(inplace=True),\n",
    "            nn.MaxPool2d(kernel_size=2,stride=2)\n",
    "        )\n",
    "        \n",
    "        self.fc = nn.Linear(32 * 8 * 8 , 10)\n",
    "        \n",
    "    def forward(self, x) :\n",
    "        x = self.features(x)\n",
    "        x = x.view(x.size(0), -1)\n",
    "        x = self.fc(x)\n",
    "        \n",
    "        return x"
   ]
  },
  {
   "cell_type": "code",
   "execution_count": 4,
   "id": "8c8d7ba5",
   "metadata": {},
   "outputs": [
    {
     "name": "stdout",
     "output_type": "stream",
     "text": [
      "Files already downloaded and verified\n",
      "Files already downloaded and verified\n"
     ]
    }
   ],
   "source": [
    "train_transform = transforms.Compose([\n",
    "    transforms.Resize((32,32)),\n",
    "    transforms.RandomHorizontalFlip(),\n",
    "    transforms.RandomVerticalFlip(),\n",
    "    transforms.AutoAugment(),\n",
    "    transforms.ToTensor(),\n",
    "    transforms.Normalize((0.5,0.5,0.5), (0.3,0.3,0.3))\n",
    "])\n",
    "\n",
    "test_transform = transforms.Compose([\n",
    "    transforms.Resize((32,32)),\n",
    "    transforms.ToTensor(),\n",
    "    transforms.Normalize((0.5,0.5,0.5), (0.3,0.3,0.3))\n",
    "])\n",
    "\n",
    "train_dataset = datasets.CIFAR10(root=\"./data\", train=True, download=True, transform=train_transform)\n",
    "test_dataset = datasets.CIFAR10(root=\"./data\", train=False, download=True, transform=test_transform)\n",
    "\n",
    "train_loader = DataLoader(train_dataset, batch_size=64, shuffle=True)\n",
    "test_loader = DataLoader(test_dataset, batch_size=64, shuffle=False)"
   ]
  },
  {
   "cell_type": "code",
   "execution_count": 5,
   "id": "0ec58b78",
   "metadata": {},
   "outputs": [],
   "source": [
    "# Create an ensemble of CNN model \n",
    "num_models = 5\n",
    "models = [CNN().to(device) for _ in range(num_models)]\n",
    "\n",
    "# Define loss function and optimizer \n",
    "criterion = nn.CrossEntropyLoss()\n",
    "optimizers = [optim.AdamW(model.parameters(), lr=0.001) for model in models]"
   ]
  },
  {
   "cell_type": "code",
   "execution_count": 6,
   "id": "27e603e7",
   "metadata": {},
   "outputs": [
    {
     "name": "stdout",
     "output_type": "stream",
     "text": [
      "Epoch 1/2, ACC 0.5208\n",
      "Epoch 2/2, ACC 0.5736\n"
     ]
    }
   ],
   "source": [
    "num_epochs = 2 \n",
    "for epoch in range(num_epochs) : \n",
    "    for model, optimizer in zip(models, optimizers) : \n",
    "        model.train()\n",
    "        for images , labels in train_loader : \n",
    "            images = images.to(device)\n",
    "            labels = labels.to(device)\n",
    "            \n",
    "            optimizer.zero_grad()\n",
    "            \n",
    "            outputs = model(images)\n",
    "            loss = criterion(outputs, labels)\n",
    "            loss.backward()\n",
    "            optimizer.step()\n",
    "            \n",
    "    # Evaluation after each epoch \n",
    "    for model in models : \n",
    "        model.eval()\n",
    "        \n",
    "    predictions = []\n",
    "    targets = []\n",
    "    with torch.no_grad() : \n",
    "        for images, labels in test_loader : \n",
    "            images = images.to(device)\n",
    "            labels = labels.to(device)\n",
    "            \n",
    "            ensemble_outputs = torch.zeros((images.size(0), 10)).to(device)\n",
    "            for model in models : \n",
    "                outputs = model(images)\n",
    "                ensemble_outputs += outputs/num_models\n",
    "                \n",
    "                _, pred = torch.max(ensemble_outputs.data, 1)\n",
    "            \n",
    "            \n",
    "            predictions.extend(pred.cpu().numpy())\n",
    "            targets.extend(labels.cpu().numpy())\n",
    "            \n",
    "    acc = accuracy_score(targets, predictions)\n",
    "    print(f\"Epoch {epoch+1}/{num_epochs}, ACC {acc}\")"
   ]
  },
  {
   "cell_type": "code",
   "execution_count": null,
   "id": "2bb30814",
   "metadata": {},
   "outputs": [],
   "source": []
  }
 ],
 "metadata": {
  "kernelspec": {
   "display_name": "capybara",
   "language": "python",
   "name": "capybara"
  },
  "language_info": {
   "codemirror_mode": {
    "name": "ipython",
    "version": 3
   },
   "file_extension": ".py",
   "mimetype": "text/x-python",
   "name": "python",
   "nbconvert_exporter": "python",
   "pygments_lexer": "ipython3",
   "version": "3.8.16"
  }
 },
 "nbformat": 4,
 "nbformat_minor": 5
}
