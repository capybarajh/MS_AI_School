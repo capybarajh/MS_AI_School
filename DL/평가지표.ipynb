{
 "cells": [
  {
   "cell_type": "markdown",
   "id": "3eab87f1",
   "metadata": {},
   "source": [
    "# 평균 절대오차 간단한 실습 코드 "
   ]
  },
  {
   "cell_type": "code",
   "execution_count": 1,
   "id": "daa22887",
   "metadata": {},
   "outputs": [],
   "source": [
    "import torch"
   ]
  },
  {
   "cell_type": "markdown",
   "id": "ad7364aa",
   "metadata": {},
   "source": [
    "### 예측값과 실제값을 입력받아서 MAE 계산하는 함수 "
   ]
  },
  {
   "cell_type": "code",
   "execution_count": 9,
   "id": "9c2a5628",
   "metadata": {},
   "outputs": [
    {
     "name": "stdout",
     "output_type": "stream",
     "text": [
      "MAE : 0.375\n"
     ]
    }
   ],
   "source": [
    "def calculate_mae(pred, target) : \n",
    "    mae = torch.mean(torch.abs(pred - target))\n",
    "    \n",
    "    return mae\n",
    "\n",
    "\n",
    "# 예시 데이터 \n",
    "pred = torch.tensor([3.1, 4.2, 2.8, 5.3])\n",
    "targets = torch.tensor([3.0, 4.0, 3.2, 4.5])\n",
    "\n",
    "# mae 계산 \n",
    "mae = calculate_mae(pred, targets)\n",
    "print(f\"MAE : {mae.item()}\")"
   ]
  },
  {
   "cell_type": "markdown",
   "id": "eeaf299d",
   "metadata": {},
   "source": [
    "### 평균 제곱 오차 구하기 "
   ]
  },
  {
   "cell_type": "code",
   "execution_count": 11,
   "id": "b0b26cc6",
   "metadata": {},
   "outputs": [
    {
     "name": "stdout",
     "output_type": "stream",
     "text": [
      "MSE : 0.21250006556510925\n"
     ]
    }
   ],
   "source": [
    "def calculate_mse(pred, target) : \n",
    "    mse = torch.mean((pred - target) ** 2)\n",
    "    \n",
    "    return mse\n",
    "\n",
    "\n",
    "# 예시 데이터 \n",
    "pred = torch.tensor([3.1, 4.2, 2.8, 5.3])\n",
    "targets = torch.tensor([3.0, 4.0, 3.2, 4.5])\n",
    "\n",
    "# mse 계산 \n",
    "mse = calculate_mse(pred, targets)\n",
    "print(f\"MSE : {mse.item()}\")"
   ]
  },
  {
   "cell_type": "markdown",
   "id": "df8fedda",
   "metadata": {},
   "source": [
    "### 평균 제곱근  오차 "
   ]
  },
  {
   "cell_type": "code",
   "execution_count": 13,
   "id": "d8a6779d",
   "metadata": {},
   "outputs": [
    {
     "name": "stdout",
     "output_type": "stream",
     "text": [
      "RMSE : 0.4609772939799847\n"
     ]
    }
   ],
   "source": [
    "import math\n",
    "\n",
    "def calculate_rmse(pred, target) : \n",
    "    mse = torch.mean((pred - target) ** 2)\n",
    "    rmse = math.sqrt(mse)\n",
    "    \n",
    "    return rmse\n",
    "\n",
    "\n",
    "# 예시 데이터 \n",
    "pred = torch.tensor([3.1, 4.2, 2.8, 5.3])\n",
    "targets = torch.tensor([3.0, 4.0, 3.2, 4.5])\n",
    "\n",
    "# mse 계산 \n",
    "rmse = calculate_rmse(pred, targets)\n",
    "print(f\"RMSE : {rmse}\")"
   ]
  },
  {
   "cell_type": "markdown",
   "id": "9a3e878b",
   "metadata": {},
   "source": [
    "### 평균 절대 비율 오차 "
   ]
  },
  {
   "cell_type": "code",
   "execution_count": 14,
   "id": "961d648e",
   "metadata": {},
   "outputs": [
    {
     "name": "stdout",
     "output_type": "stream",
     "text": [
      "MAPE : 13.715988159179688\n"
     ]
    }
   ],
   "source": [
    "def calculate_mape(pred, target) : \n",
    "    abs_errors = torch.abs(pred - target)\n",
    "    relative_errors = abs_errors / target\n",
    "    mape = torch.mean(relative_errors) * 100\n",
    "    \n",
    "    return mape\n",
    "\n",
    "# 예시 데이터 \n",
    "pred = torch.tensor([10.2, 15.4, 7.8, 9.1])\n",
    "targets = torch.tensor([12.0, 11.5, 8.1, 8.9])\n",
    "\n",
    "mape = calculate_mape(pred, targets) \n",
    "print(f\"MAPE : {mape.item()}\")"
   ]
  },
  {
   "cell_type": "markdown",
   "id": "0761f624",
   "metadata": {},
   "source": [
    "### 혼동 행렬 오차 행렬 "
   ]
  },
  {
   "cell_type": "code",
   "execution_count": 8,
   "id": "b9a8289d",
   "metadata": {},
   "outputs": [
    {
     "data": {
      "image/png": "[encoded data removed]",
      "text/plain": [
       "<Figure size 800x600 with 2 Axes>"
      ]
     },
     "metadata": {},
     "output_type": "display_data"
    }
   ],
   "source": [
    "import matplotlib.pyplot as plt\n",
    "import seaborn as sns\n",
    "from sklearn.metrics import confusion_matrix\n",
    "\n",
    "# 실제 레이블 \n",
    "true_labels = [0,1,2,2,0,1,2,0,1,2,2]\n",
    "# 예측 레이블 \n",
    "pred_labels = [0,2,2,2,1,1,2,1,1,1,2]\n",
    "\n",
    "class_labels = ['class0', 'class1', 'class2']\n",
    "\n",
    "cm = confusion_matrix(true_labels, pred_labels)\n",
    "\n",
    "plt.figure(figsize=(8,6))\n",
    "sns.heatmap(cm, annot=True, fmt='d', cmap='Blues', xticklabels=class_labels, yticklabels=class_labels)\n",
    "plt.xlabel('pred')\n",
    "plt.ylabel('true')\n",
    "plt.show()"
   ]
  },
  {
   "cell_type": "code",
   "execution_count": null,
   "id": "a6e684df",
   "metadata": {},
   "outputs": [],
   "source": []
  }
 ],
 "metadata": {
  "kernelspec": {
   "display_name": "capybara",
   "language": "python",
   "name": "capybara"
  },
  "language_info": {
   "codemirror_mode": {
    "name": "ipython",
    "version": 3
   },
   "file_extension": ".py",
   "mimetype": "text/x-python",
   "name": "python",
   "nbconvert_exporter": "python",
   "pygments_lexer": "ipython3",
   "version": "3.8.16"
  }
 },
 "nbformat": 4,
 "nbformat_minor": 5
}
