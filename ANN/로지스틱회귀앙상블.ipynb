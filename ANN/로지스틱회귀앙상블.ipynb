{
 "cells": [
  {
   "cell_type": "markdown",
   "id": "b9610e7a",
   "metadata": {},
   "source": [
    "# 로지스틱 회귀 앙상블 실습"
   ]
  },
  {
   "cell_type": "code",
   "execution_count": 1,
   "id": "9e21b4e4",
   "metadata": {},
   "outputs": [],
   "source": [
    "import torch\n",
    "import torch.nn as nn\n",
    "import torch.optim as optim\n",
    "\n",
    "from torch.utils.data import DataLoader\n",
    "from torchvision.datasets import FashionMNIST\n",
    "from torchvision.transforms import ToTensor\n",
    "from sklearn.model_selection import train_test_split\n",
    "from sklearn.metrics import accuracy_score"
   ]
  },
  {
   "cell_type": "markdown",
   "id": "9948d6bb",
   "metadata": {},
   "source": [
    "### 데이터셋, 데이터 로더 생성"
   ]
  },
  {
   "cell_type": "code",
   "execution_count": 2,
   "id": "de5207c2",
   "metadata": {},
   "outputs": [],
   "source": [
    "dataset = FashionMNIST(root=\"./data\", train=True, transform=ToTensor(), download=False)\n",
    "train_set, val_set = train_test_split(dataset, test_size=0.1, random_state=777)\n",
    "\n",
    "train_loader = DataLoader(train_set, batch_size=100, shuffle=True)\n",
    "test_loader = DataLoader(val_set, batch_size=100, shuffle=False)"
   ]
  },
  {
   "cell_type": "markdown",
   "id": "486d01ef",
   "metadata": {},
   "source": [
    "### 모델 선언"
   ]
  },
  {
   "cell_type": "code",
   "execution_count": 3,
   "id": "186121b6",
   "metadata": {},
   "outputs": [],
   "source": [
    "class LogisticRegression(nn.Module) : \n",
    "    def __init__(self, input_size, num_classes) : \n",
    "        super(LogisticRegression, self).__init__()\n",
    "        self.linear = nn.Linear(input_size, num_classes)\n",
    "    \n",
    "    def forward(self, x) : \n",
    "        out = self.linear(x)\n",
    "        \n",
    "        return out"
   ]
  },
  {
   "cell_type": "markdown",
   "id": "73ab090d",
   "metadata": {},
   "source": [
    "### 하이퍼 파라미터 설정"
   ]
  },
  {
   "cell_type": "code",
   "execution_count": 4,
   "id": "be6fa76b",
   "metadata": {},
   "outputs": [],
   "source": [
    "input_size = 28 * 28 \n",
    "num_classes = 10\n",
    "num_epoch = 100\n",
    "lr =  0.001\n",
    "num_models = 5 # 앙상블에 사용할 모델 개수"
   ]
  },
  {
   "cell_type": "markdown",
   "id": "ba64d87a",
   "metadata": {},
   "source": [
    "### 앙상블"
   ]
  },
  {
   "cell_type": "code",
   "execution_count": 5,
   "id": "9dab822b",
   "metadata": {},
   "outputs": [
    {
     "name": "stdout",
     "output_type": "stream",
     "text": [
      "[LogisticRegression(\n",
      "  (linear): Linear(in_features=784, out_features=10, bias=True)\n",
      "), LogisticRegression(\n",
      "  (linear): Linear(in_features=784, out_features=10, bias=True)\n",
      "), LogisticRegression(\n",
      "  (linear): Linear(in_features=784, out_features=10, bias=True)\n",
      "), LogisticRegression(\n",
      "  (linear): Linear(in_features=784, out_features=10, bias=True)\n",
      "), LogisticRegression(\n",
      "  (linear): Linear(in_features=784, out_features=10, bias=True)\n",
      ")]\n"
     ]
    }
   ],
   "source": [
    "models = [LogisticRegression(input_size, num_classes) for _ in range(num_models)]\n",
    "print(models)"
   ]
  },
  {
   "cell_type": "markdown",
   "id": "4446c91c",
   "metadata": {},
   "source": [
    "### 모델, 손실 함수, 옵티마이저 정의"
   ]
  },
  {
   "cell_type": "code",
   "execution_count": 6,
   "id": "540c9f92",
   "metadata": {},
   "outputs": [
    {
     "name": "stdout",
     "output_type": "stream",
     "text": [
      "[SGD (\n",
      "Parameter Group 0\n",
      "    dampening: 0\n",
      "    differentiable: False\n",
      "    foreach: None\n",
      "    lr: 0.001\n",
      "    maximize: False\n",
      "    momentum: 0\n",
      "    nesterov: False\n",
      "    weight_decay: 0\n",
      "), SGD (\n",
      "Parameter Group 0\n",
      "    dampening: 0\n",
      "    differentiable: False\n",
      "    foreach: None\n",
      "    lr: 0.001\n",
      "    maximize: False\n",
      "    momentum: 0\n",
      "    nesterov: False\n",
      "    weight_decay: 0\n",
      "), SGD (\n",
      "Parameter Group 0\n",
      "    dampening: 0\n",
      "    differentiable: False\n",
      "    foreach: None\n",
      "    lr: 0.001\n",
      "    maximize: False\n",
      "    momentum: 0\n",
      "    nesterov: False\n",
      "    weight_decay: 0\n",
      "), SGD (\n",
      "Parameter Group 0\n",
      "    dampening: 0\n",
      "    differentiable: False\n",
      "    foreach: None\n",
      "    lr: 0.001\n",
      "    maximize: False\n",
      "    momentum: 0\n",
      "    nesterov: False\n",
      "    weight_decay: 0\n",
      "), SGD (\n",
      "Parameter Group 0\n",
      "    dampening: 0\n",
      "    differentiable: False\n",
      "    foreach: None\n",
      "    lr: 0.001\n",
      "    maximize: False\n",
      "    momentum: 0\n",
      "    nesterov: False\n",
      "    weight_decay: 0\n",
      ")]\n"
     ]
    }
   ],
   "source": [
    "criterion = nn.CrossEntropyLoss()\n",
    "optimizers = [optim.SGD(model.parameters(), lr=lr) for model in models]\n",
    "print(optimizers)"
   ]
  },
  {
   "cell_type": "markdown",
   "id": "781acfff",
   "metadata": {},
   "source": [
    "### train loop"
   ]
  },
  {
   "cell_type": "code",
   "execution_count": 7,
   "id": "7dcb61f7",
   "metadata": {},
   "outputs": [
    {
     "name": "stdout",
     "output_type": "stream",
     "text": [
      "Epoch [1/100], Val ACC >> 65.82%\n",
      "Epoch [2/100], Val ACC >> 67.07%\n",
      "Epoch [3/100], Val ACC >> 67.80%\n",
      "Epoch [4/100], Val ACC >> 68.93%\n",
      "Epoch [5/100], Val ACC >> 70.25%\n",
      "Epoch [6/100], Val ACC >> 71.48%\n",
      "Epoch [7/100], Val ACC >> 72.65%\n",
      "Epoch [8/100], Val ACC >> 73.68%\n",
      "Epoch [9/100], Val ACC >> 74.78%\n",
      "Epoch [10/100], Val ACC >> 75.18%\n",
      "Epoch [11/100], Val ACC >> 75.63%\n",
      "Epoch [12/100], Val ACC >> 76.58%\n",
      "Epoch [13/100], Val ACC >> 76.78%\n",
      "Epoch [14/100], Val ACC >> 77.32%\n",
      "Epoch [15/100], Val ACC >> 77.38%\n",
      "Epoch [16/100], Val ACC >> 77.73%\n",
      "Epoch [17/100], Val ACC >> 77.93%\n",
      "Epoch [18/100], Val ACC >> 78.13%\n",
      "Epoch [19/100], Val ACC >> 78.40%\n",
      "Epoch [20/100], Val ACC >> 78.42%\n",
      "Epoch [21/100], Val ACC >> 78.83%\n",
      "Epoch [22/100], Val ACC >> 79.00%\n",
      "Epoch [23/100], Val ACC >> 79.27%\n",
      "Epoch [24/100], Val ACC >> 79.45%\n",
      "Epoch [25/100], Val ACC >> 79.65%\n",
      "Epoch [26/100], Val ACC >> 79.70%\n",
      "Epoch [27/100], Val ACC >> 79.80%\n",
      "Epoch [28/100], Val ACC >> 79.88%\n",
      "Epoch [29/100], Val ACC >> 80.00%\n",
      "Epoch [30/100], Val ACC >> 80.13%\n",
      "Epoch [31/100], Val ACC >> 80.18%\n",
      "Epoch [32/100], Val ACC >> 80.37%\n",
      "Epoch [33/100], Val ACC >> 80.50%\n",
      "Epoch [34/100], Val ACC >> 80.43%\n",
      "Epoch [35/100], Val ACC >> 80.70%\n",
      "Epoch [36/100], Val ACC >> 80.68%\n",
      "Epoch [37/100], Val ACC >> 80.72%\n",
      "Epoch [38/100], Val ACC >> 80.85%\n",
      "Epoch [39/100], Val ACC >> 81.00%\n",
      "Epoch [40/100], Val ACC >> 81.10%\n",
      "Epoch [41/100], Val ACC >> 81.10%\n",
      "Epoch [42/100], Val ACC >> 81.23%\n",
      "Epoch [43/100], Val ACC >> 81.40%\n",
      "Epoch [44/100], Val ACC >> 81.52%\n",
      "Epoch [45/100], Val ACC >> 81.47%\n",
      "Epoch [46/100], Val ACC >> 81.68%\n",
      "Epoch [47/100], Val ACC >> 81.73%\n",
      "Epoch [48/100], Val ACC >> 81.92%\n",
      "Epoch [49/100], Val ACC >> 81.75%\n",
      "Epoch [50/100], Val ACC >> 81.97%\n",
      "Epoch [51/100], Val ACC >> 81.92%\n",
      "Epoch [52/100], Val ACC >> 82.07%\n",
      "Epoch [53/100], Val ACC >> 82.02%\n",
      "Epoch [54/100], Val ACC >> 82.08%\n",
      "Epoch [55/100], Val ACC >> 82.18%\n",
      "Epoch [56/100], Val ACC >> 82.17%\n",
      "Epoch [57/100], Val ACC >> 82.22%\n",
      "Epoch [58/100], Val ACC >> 82.30%\n",
      "Epoch [59/100], Val ACC >> 82.32%\n",
      "Epoch [60/100], Val ACC >> 82.30%\n",
      "Epoch [61/100], Val ACC >> 82.50%\n",
      "Epoch [62/100], Val ACC >> 82.48%\n",
      "Epoch [63/100], Val ACC >> 82.47%\n",
      "Epoch [64/100], Val ACC >> 82.52%\n",
      "Epoch [65/100], Val ACC >> 82.53%\n",
      "Epoch [66/100], Val ACC >> 82.57%\n",
      "Epoch [67/100], Val ACC >> 82.65%\n",
      "Epoch [68/100], Val ACC >> 82.82%\n",
      "Epoch [69/100], Val ACC >> 82.85%\n",
      "Epoch [70/100], Val ACC >> 82.88%\n",
      "Epoch [71/100], Val ACC >> 82.95%\n",
      "Epoch [72/100], Val ACC >> 82.95%\n",
      "Epoch [73/100], Val ACC >> 82.98%\n",
      "Epoch [74/100], Val ACC >> 82.97%\n",
      "Epoch [75/100], Val ACC >> 82.97%\n",
      "Epoch [76/100], Val ACC >> 83.00%\n",
      "Epoch [77/100], Val ACC >> 83.13%\n",
      "Epoch [78/100], Val ACC >> 83.05%\n",
      "Epoch [79/100], Val ACC >> 83.07%\n",
      "Epoch [80/100], Val ACC >> 83.17%\n",
      "Epoch [81/100], Val ACC >> 83.17%\n",
      "Epoch [82/100], Val ACC >> 83.15%\n",
      "Epoch [83/100], Val ACC >> 83.27%\n",
      "Epoch [84/100], Val ACC >> 83.30%\n",
      "Epoch [85/100], Val ACC >> 83.30%\n",
      "Epoch [86/100], Val ACC >> 83.37%\n",
      "Epoch [87/100], Val ACC >> 83.42%\n",
      "Epoch [88/100], Val ACC >> 83.52%\n",
      "Epoch [89/100], Val ACC >> 83.47%\n",
      "Epoch [90/100], Val ACC >> 83.57%\n",
      "Epoch [91/100], Val ACC >> 83.55%\n",
      "Epoch [92/100], Val ACC >> 83.52%\n",
      "Epoch [93/100], Val ACC >> 83.55%\n",
      "Epoch [94/100], Val ACC >> 83.62%\n",
      "Epoch [95/100], Val ACC >> 83.65%\n",
      "Epoch [96/100], Val ACC >> 83.62%\n",
      "Epoch [97/100], Val ACC >> 83.65%\n",
      "Epoch [98/100], Val ACC >> 83.67%\n",
      "Epoch [99/100], Val ACC >> 83.60%\n",
      "Epoch [100/100], Val ACC >> 83.65%\n"
     ]
    }
   ],
   "source": [
    "for epoch in range(num_epoch) : \n",
    "    for i, (images, labels) in enumerate(train_loader) :\n",
    "        # 데이터 로드 \n",
    "        images = images.reshape(-1, input_size)\n",
    "        labels = labels\n",
    "        \n",
    "        # 순전파 및 손실 계산 \n",
    "        for j in range(num_models) : \n",
    "            outputs = models[j](images)\n",
    "            loss = criterion(outputs, labels)\n",
    "            \n",
    "           # 역전파 및 가중치 업데이트\n",
    "            optimizers[j].zero_grad()\n",
    "            loss.backward()\n",
    "            optimizers[j].step()\n",
    "            \n",
    "    # 검증 코드 추가 #\n",
    "    with torch.no_grad() : \n",
    "        total, correct = 0,0 \n",
    "        for images, labels in test_loader : \n",
    "            images = images.reshape(-1, input_size)\n",
    "            \"\"\"\n",
    "            outputs = torch.zeros(images.size()[0], num_classes)\n",
    "            이미지 배치에 대한 출력 텐서 초기화 \n",
    "            >> 후속 단계에서 이미지에 대한 예측값 업데이트 가능\n",
    "            \"\"\"\n",
    "            outputs = torch.zeros(images.size()[0], num_classes)\n",
    "            # 앙상블 모델의 예측값 더하기 \n",
    "            for j in range(num_models) : \n",
    "                outputs += models[j](images)\n",
    "                \n",
    "            _, predicted = torch.max(outputs.data, 1)\n",
    "            total += labels.size(0)\n",
    "            correct += (predicted == labels).sum().item()\n",
    "            \n",
    "        val_acc = 100 * correct / total\n",
    "        print(f\"Epoch [{epoch+1}/{num_epoch}], Val ACC >> {val_acc:.2f}%\")"
   ]
  },
  {
   "cell_type": "code",
   "execution_count": null,
   "id": "e9798ffe",
   "metadata": {},
   "outputs": [],
   "source": []
  }
 ],
 "metadata": {
  "kernelspec": {
   "display_name": "capybara",
   "language": "python",
   "name": "capybara"
  },
  "language_info": {
   "codemirror_mode": {
    "name": "ipython",
    "version": 3
   },
   "file_extension": ".py",
   "mimetype": "text/x-python",
   "name": "python",
   "nbconvert_exporter": "python",
   "pygments_lexer": "ipython3",
   "version": "3.8.16"
  }
 },
 "nbformat": 4,
 "nbformat_minor": 5
}
