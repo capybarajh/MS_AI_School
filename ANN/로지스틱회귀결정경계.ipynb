{
 "cells": [
  {
   "cell_type": "markdown",
   "id": "cd21e5f4",
   "metadata": {},
   "source": [
    "# 로지스틱 회귀의 결정 경계 실습"
   ]
  },
  {
   "cell_type": "code",
   "execution_count": 1,
   "id": "17d21609",
   "metadata": {},
   "outputs": [],
   "source": [
    "import torch\n",
    "import torch.nn.functional as F \n",
    "import numpy as np \n",
    "import matplotlib.pyplot as plt"
   ]
  },
  {
   "cell_type": "markdown",
   "id": "70821ca7",
   "metadata": {},
   "source": [
    "### 임의의 데이터 생성"
   ]
  },
  {
   "cell_type": "code",
   "execution_count": 3,
   "id": "52220b02",
   "metadata": {},
   "outputs": [
    {
     "name": "stdout",
     "output_type": "stream",
     "text": [
      "tensor([[-7.8698e-01, -2.4729e+00],\n",
      "        [-8.9099e-04, -1.8793e+00],\n",
      "        [ 9.7477e-01, -1.2510e+00],\n",
      "        [-8.4568e-01, -1.4798e+00],\n",
      "        [-1.1733e+00,  7.9185e-02],\n",
      "        [ 3.6505e-01,  1.8685e+00],\n",
      "        [-1.8657e-02, -7.9063e-01],\n",
      "        [-5.0836e-01, -3.0504e-01],\n",
      "        [-1.1117e+00, -1.0145e+00],\n",
      "        [-4.1552e-01,  1.0919e+00],\n",
      "        [ 2.0930e+00, -1.4193e+00],\n",
      "        [ 1.7864e+00, -9.5427e-02],\n",
      "        [ 1.9323e+00,  6.6746e-01],\n",
      "        [ 6.7085e-01,  1.6093e-01],\n",
      "        [-1.1225e+00, -5.3607e-01],\n",
      "        [ 8.7884e-01, -1.7214e+00],\n",
      "        [ 4.4781e-01, -3.3718e-01],\n",
      "        [ 9.2225e-01,  1.1241e+00],\n",
      "        [ 3.2202e-01, -1.2022e+00],\n",
      "        [-2.5007e+00, -1.0605e-01],\n",
      "        [ 1.2411e+00,  9.5627e-01],\n",
      "        [-1.8606e-01,  1.7199e+00],\n",
      "        [-5.5835e-01, -2.2982e-01],\n",
      "        [ 5.6223e-02,  1.6565e+00],\n",
      "        [ 1.9094e-01, -6.6767e-01],\n",
      "        [ 1.0742e+00, -1.1687e+00],\n",
      "        [-2.5137e-02, -2.1365e+00],\n",
      "        [ 8.7623e-03, -8.0843e-01],\n",
      "        [ 1.2082e+00,  1.0517e+00],\n",
      "        [-6.8862e-01,  2.3512e-01],\n",
      "        [-4.8339e-02, -1.0326e+00],\n",
      "        [ 7.6533e-01,  9.9942e-01],\n",
      "        [-6.1150e-01, -9.7615e-02],\n",
      "        [ 3.5082e-01, -1.2271e+00],\n",
      "        [ 1.1082e+00,  1.6615e+00],\n",
      "        [-8.1124e-02,  3.8502e-03],\n",
      "        [ 7.5692e-01,  9.0414e-01],\n",
      "        [ 2.1586e-01,  3.1486e-02],\n",
      "        [ 4.0390e-01,  8.2578e-01],\n",
      "        [-1.4625e+00, -1.0522e+00],\n",
      "        [-6.6536e-01,  1.1286e+00],\n",
      "        [-1.1159e+00,  8.5724e-01],\n",
      "        [ 8.8845e-01,  4.9018e-02],\n",
      "        [-1.3475e-01,  1.4185e+00],\n",
      "        [-6.3083e-02,  2.2540e-01],\n",
      "        [ 2.2005e+00, -1.7976e-01],\n",
      "        [-1.2839e+00,  4.9429e-02],\n",
      "        [ 3.3772e-01, -7.7405e-01],\n",
      "        [ 7.5059e-01, -2.9786e+00],\n",
      "        [-6.7324e-01, -1.9745e+00],\n",
      "        [ 1.3280e-01, -5.0768e-01],\n",
      "        [ 7.1767e-01, -8.1668e-01],\n",
      "        [-8.8740e-01,  5.0574e-01],\n",
      "        [ 4.4179e-01, -3.1901e-01],\n",
      "        [ 3.6964e-01,  1.4059e+00],\n",
      "        [-2.0588e+00,  5.8840e-01],\n",
      "        [-2.9326e-01, -3.1193e-01],\n",
      "        [ 2.6224e-01,  1.3010e+00],\n",
      "        [-2.5700e+00, -3.9853e-01],\n",
      "        [-4.7696e-01,  9.8660e-01],\n",
      "        [-8.7346e-01,  4.7296e-03],\n",
      "        [-7.0042e-01,  1.2843e+00],\n",
      "        [ 1.0309e+00,  1.9460e+00],\n",
      "        [-9.1016e-01,  2.8078e-01],\n",
      "        [ 1.7556e+00, -4.0259e-01],\n",
      "        [ 4.1593e-01,  2.1039e-02],\n",
      "        [ 9.1453e-01, -2.4342e-01],\n",
      "        [ 6.7952e-01,  4.2548e-01],\n",
      "        [ 1.6514e+00, -3.7348e-01],\n",
      "        [-2.3704e-01, -1.3274e-01],\n",
      "        [ 4.7825e-01, -2.7660e-01],\n",
      "        [-6.5927e-01, -1.7385e-03],\n",
      "        [-2.8064e-01, -2.4825e-01],\n",
      "        [-6.5535e-01,  4.0828e-01],\n",
      "        [ 3.9042e-01,  1.5339e+00],\n",
      "        [ 1.3446e+00, -3.5523e-01],\n",
      "        [-3.8420e-01,  3.3307e-01],\n",
      "        [-1.1609e+00, -6.2868e-01],\n",
      "        [-5.9222e-01, -1.8638e-01],\n",
      "        [-1.3320e+00,  1.2810e-01],\n",
      "        [-4.8415e-01, -5.7728e-01],\n",
      "        [ 1.0930e+00,  7.7918e-01],\n",
      "        [-2.7325e+00, -5.8450e-01],\n",
      "        [-3.2207e-01, -1.5826e+00],\n",
      "        [-3.6859e-02, -2.0366e+00],\n",
      "        [ 2.5642e+00,  2.0076e+00],\n",
      "        [-8.6769e-01, -3.9754e-01],\n",
      "        [-2.1557e-01,  4.6414e-01],\n",
      "        [ 2.0382e+00,  2.7125e+00],\n",
      "        [-1.1454e+00, -4.8362e-01],\n",
      "        [ 3.4325e-01, -6.4971e-01],\n",
      "        [-2.7049e-01,  7.4841e-01],\n",
      "        [ 2.7196e-01, -2.0080e+00],\n",
      "        [ 2.8225e-01, -7.0739e-01],\n",
      "        [ 4.8050e-01, -1.9883e+00],\n",
      "        [-1.8286e+00, -1.7295e+00],\n",
      "        [-5.0754e-01,  5.0558e-01],\n",
      "        [ 1.1546e+00, -3.8540e-01],\n",
      "        [ 7.3050e-01, -1.0714e+00],\n",
      "        [-7.2717e-01,  2.3635e-01]]) tensor([0., 0., 0., 0., 0., 0., 0., 0., 0., 0., 0., 0., 1., 0., 0., 0., 0., 1.,\n",
      "        0., 0., 1., 0., 0., 0., 0., 0., 0., 0., 1., 0., 0., 1., 0., 0., 1., 0.,\n",
      "        1., 0., 0., 0., 0., 0., 0., 0., 0., 0., 0., 0., 0., 0., 0., 0., 0., 0.,\n",
      "        0., 0., 0., 0., 0., 0., 0., 0., 1., 0., 0., 0., 0., 0., 0., 0., 0., 0.,\n",
      "        0., 0., 0., 0., 0., 0., 0., 0., 0., 1., 0., 0., 0., 1., 0., 0., 1., 0.,\n",
      "        0., 0., 0., 0., 0., 0., 0., 0., 0., 0.])\n"
     ]
    }
   ],
   "source": [
    "x = torch.randn(100, 2)\n",
    "y =((x[:,0] > 0.5) & (x[:,1] >0.5)).float()\n",
    "\n",
    "print(x, y)"
   ]
  },
  {
   "cell_type": "markdown",
   "id": "d695ae49",
   "metadata": {},
   "source": [
    "### 모델 정의"
   ]
  },
  {
   "cell_type": "code",
   "execution_count": 7,
   "id": "c26328d5",
   "metadata": {},
   "outputs": [
    {
     "name": "stdout",
     "output_type": "stream",
     "text": [
      "LogisiticRegression(\n",
      "  (linear): Linear(in_features=2, out_features=1, bias=True)\n",
      ")\n"
     ]
    }
   ],
   "source": [
    "class LogisiticRegression(torch.nn.Module) : \n",
    "    def __init__(self, input_dim, output_dim) : \n",
    "        super(LogisiticRegression, self).__init__()\n",
    "        self.linear = torch.nn.Linear(input_dim, output_dim)\n",
    "        \n",
    "    def forward(self, x) : \n",
    "        out = self.linear(x)\n",
    "        fc = F.sigmoid(out)\n",
    "#         print(\"fc >>>\" ,fc)\n",
    "        return fc\n",
    "    \n",
    "model = LogisiticRegression(input_dim=2, output_dim=1)\n",
    "\n",
    "print(model)"
   ]
  },
  {
   "cell_type": "markdown",
   "id": "cb348c57",
   "metadata": {},
   "source": [
    "### 모델 학습 , 결정 경계 그리기"
   ]
  },
  {
   "cell_type": "code",
   "execution_count": 8,
   "id": "a7e7b69a",
   "metadata": {},
   "outputs": [
    {
     "data": {
      "image/png": "[encoded data removed]",
      "text/plain": [
       "<Figure size 640x480 with 1 Axes>"
      ]
     },
     "metadata": {},
     "output_type": "display_data"
    }
   ],
   "source": [
    "criterion = torch.nn.BCELoss()\n",
    "optimizer = torch.optim.SGD(model.parameters(), lr=0.1)\n",
    "\n",
    "for epoch in range(1000) : \n",
    "    y_pred = model(x)\n",
    "    loss = criterion(y_pred.squeeze(), y)\n",
    "    \n",
    "    optimizer.zero_grad()\n",
    "    loss.backward()\n",
    "    optimizer.step()\n",
    "    \n",
    "# 결정 경계 그리기 \n",
    "plt.scatter(x[:,0], x[:,1], c=y)\n",
    "x_min, x_max = plt.xlim() # x 좌표 최소값 최대값 \n",
    "y_min, y_max = plt.ylim() # Y 좌표 최소값 최대값 \n",
    "\n",
    "xx, yy = np.meshgrid(np.linspace(x_min, x_max, 100), np.linspace(y_min, y_max, 100))\n",
    "\"\"\"\n",
    "np.meshgrid() -> x, y 좌표를 기반으로 격자 포인트 생성\n",
    "\n",
    "xx, yy -> 2차원 배열 가집니다.\n",
    "\"\"\"\n",
    "\n",
    "z = model(torch.tensor(np.c_[xx.ravel(), yy.ravel()], dtype = torch.float32)).detach().numpy()\n",
    "\"\"\"\n",
    " xx yy -> np.c_[] : xx yy 연결-> torch.tensor 변경하고 ravel() -> 2차원 배열 1차원 평면화 -> 변환된 입력 -> 모델 전달 \n",
    " -> .detach().numpy() 예측값을 넘파이 형태로변환 -> z 저장\n",
    "\n",
    "\"\"\"\n",
    "z = z.reshape(xx.shape)\n",
    "plt.contour(xx, yy, z, levels=[0.5], colors='r')\n",
    "\"\"\"\n",
    "plt.contour() -> xx, yy 격자에 대응하는 결정경계 그리는 함수 \n",
    "\"\"\"\n",
    "plt.show()\n"
   ]
  },
  {
   "cell_type": "code",
   "execution_count": null,
   "id": "d0e465aa",
   "metadata": {},
   "outputs": [],
   "source": []
  }
 ],
 "metadata": {
  "kernelspec": {
   "display_name": "capybara",
   "language": "python",
   "name": "capybara"
  },
  "language_info": {
   "codemirror_mode": {
    "name": "ipython",
    "version": 3
   },
   "file_extension": ".py",
   "mimetype": "text/x-python",
   "name": "python",
   "nbconvert_exporter": "python",
   "pygments_lexer": "ipython3",
   "version": "3.8.16"
  }
 },
 "nbformat": 4,
 "nbformat_minor": 5
}
