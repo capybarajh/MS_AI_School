{
 "cells": [
  {
   "cell_type": "markdown",
   "id": "e9d3749e",
   "metadata": {},
   "source": [
    "# SVM 하이퍼파라미터 최적화 - 랜덤 서치"
   ]
  },
  {
   "cell_type": "code",
   "execution_count": 1,
   "id": "02ab31aa",
   "metadata": {},
   "outputs": [],
   "source": [
    "from sklearn.model_selection import RandomizedSearchCV\n",
    "from sklearn.svm import SVC\n",
    "from scipy.stats import loguniform\n",
    "\n",
    "from sklearn.datasets import load_digits\n",
    "from sklearn.model_selection import train_test_split\n",
    "\n",
    "from sklearn.metrics import accuracy_score"
   ]
  },
  {
   "cell_type": "code",
   "execution_count": 2,
   "id": "589d1f61",
   "metadata": {},
   "outputs": [],
   "source": [
    "# 데이터 로드 \n",
    "digits = load_digits()\n",
    "\n",
    "# 독립 변수 , 종속 변수 데이터 지정\n",
    "x = digits.data\n",
    "y = digits.target\n",
    "\n",
    "x_train, x_test, y_train, y_test = train_test_split(x, y, test_size=0.2, random_state=42)"
   ]
  },
  {
   "cell_type": "markdown",
   "id": "159d55e6",
   "metadata": {},
   "source": [
    "### 탐색할 하이퍼파라미터 공간"
   ]
  },
  {
   "cell_type": "code",
   "execution_count": 3,
   "id": "7852eeff",
   "metadata": {},
   "outputs": [],
   "source": [
    "params = {\n",
    "    \"C\" : loguniform(1e-4, 100),\n",
    "    'kernel' : [\"linear\", 'poly', 'rbf', 'sigmoid'],\n",
    "    'gamma' : ['scale', 'auto'] + list(loguniform(1e-4, 10).rvs(10)),\n",
    "    'degree' : range(1,6),\n",
    "    'coef0' : loguniform(1e-4, 10).rvs(10)\n",
    "}"
   ]
  },
  {
   "cell_type": "code",
   "execution_count": 4,
   "id": "a1675e04",
   "metadata": {},
   "outputs": [
    {
     "name": "stdout",
     "output_type": "stream",
     "text": [
      "Fitting 5 folds for each of 100 candidates, totalling 500 fits\n",
      "{'C': 0.0004958998041430936, 'coef0': 0.1312086496050735, 'degree': 3, 'gamma': 'auto', 'kernel': 'poly'}\n",
      "ACC >  0.9861111111111112\n"
     ]
    }
   ],
   "source": [
    "svm_model = SVC()\n",
    "\n",
    "random_search = RandomizedSearchCV(svm_model, params , n_iter=100, cv=5, verbose=2, n_jobs=-1)\n",
    "\n",
    "random_search.fit(x_train, y_train)\n",
    "\n",
    "print(random_search.best_params_)\n",
    "\n",
    "# 최적 모델 저장 \n",
    "best_model = random_search.best_estimator_\n",
    "\n",
    "# 테스트 데이터 에 대한 예측 수행 \n",
    "y_pred = best_model.predict(x_test)\n",
    "\n",
    "print(\"ACC > \" , accuracy_score(y_test, y_pred))"
   ]
  },
  {
   "cell_type": "code",
   "execution_count": null,
   "id": "209ddfd4",
   "metadata": {},
   "outputs": [],
   "source": []
  }
 ],
 "metadata": {
  "kernelspec": {
   "display_name": "capybara",
   "language": "python",
   "name": "capybara"
  },
  "language_info": {
   "codemirror_mode": {
    "name": "ipython",
    "version": 3
   },
   "file_extension": ".py",
   "mimetype": "text/x-python",
   "name": "python",
   "nbconvert_exporter": "python",
   "pygments_lexer": "ipython3",
   "version": "3.8.16"
  }
 },
 "nbformat": 4,
 "nbformat_minor": 5
}
