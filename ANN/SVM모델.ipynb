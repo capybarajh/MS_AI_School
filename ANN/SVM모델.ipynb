{
 "cells": [
  {
   "cell_type": "markdown",
   "id": "46f294a3",
   "metadata": {},
   "source": [
    "# Pytorch를 사용한 선형 SVM 모델 학습 및 결정 경계 시각화 실습"
   ]
  },
  {
   "cell_type": "code",
   "execution_count": 1,
   "id": "5db0c270",
   "metadata": {},
   "outputs": [],
   "source": [
    "import torch\n",
    "import torch.nn as nn\n",
    "import torch.optim as optim\n",
    "from torch.utils.data import DataLoader, TensorDataset"
   ]
  },
  {
   "cell_type": "markdown",
   "id": "30393baf",
   "metadata": {},
   "source": [
    "### 데이터 생성"
   ]
  },
  {
   "cell_type": "code",
   "execution_count": 2,
   "id": "b691970e",
   "metadata": {},
   "outputs": [],
   "source": [
    "x = torch.randn(100, 2)\n",
    "y = torch.where(x[:,0] > x[:,1] , 1, -1).float()\n",
    "\n",
    "dataset = TensorDataset(x, y)\n",
    "loader = DataLoader(dataset, batch_size=36)"
   ]
  },
  {
   "cell_type": "markdown",
   "id": "31c9871f",
   "metadata": {},
   "source": [
    "### SVM 모델 정의"
   ]
  },
  {
   "cell_type": "code",
   "execution_count": 3,
   "id": "ee882b36",
   "metadata": {},
   "outputs": [],
   "source": [
    "class SVM(nn.Module) : \n",
    "    def __init__(self) : \n",
    "        super().__init__()\n",
    "        self.linear = nn.Linear(2,1)\n",
    "        \n",
    "    def forward(self, x) : \n",
    "        return self.linear(x)"
   ]
  },
  {
   "cell_type": "markdown",
   "id": "01fb48f1",
   "metadata": {},
   "source": [
    "### 모델 , 손실 함수, 옵티마이저 생성"
   ]
  },
  {
   "cell_type": "code",
   "execution_count": 4,
   "id": "cf8d7612",
   "metadata": {},
   "outputs": [],
   "source": [
    "model = SVM()\n",
    "criterion = nn.HingeEmbeddingLoss() # 양성 1 음성 -1 클래스로 지정되어 있어야 사용가능 \n",
    "# (주어진 입력과 대상 사이의 경계선 손실값 계산 하는 함수) -> 이진 분류 문제에서 사용 \n",
    "optimizer = optim.SGD(model.parameters(), lr=0.001)"
   ]
  },
  {
   "cell_type": "markdown",
   "id": "1e87b12a",
   "metadata": {},
   "source": [
    "### 모델 학습 loop"
   ]
  },
  {
   "cell_type": "code",
   "execution_count": 5,
   "id": "593a21f5",
   "metadata": {},
   "outputs": [
    {
     "name": "stdout",
     "output_type": "stream",
     "text": [
      "Epoch [10 / 50] , Loss : 0.810490\n",
      "Epoch [20 / 50] , Loss : 0.785919\n",
      "Epoch [30 / 50] , Loss : 0.761349\n",
      "Epoch [40 / 50] , Loss : 0.736779\n",
      "Epoch [50 / 50] , Loss : 0.712209\n",
      "Epoch [60 / 50] , Loss : 0.687638\n",
      "Epoch [70 / 50] , Loss : 0.663068\n",
      "Epoch [80 / 50] , Loss : 0.638498\n",
      "Epoch [90 / 50] , Loss : 0.613928\n",
      "Epoch [100 / 50] , Loss : 0.589465\n",
      "Epoch [110 / 50] , Loss : 0.565165\n",
      "Epoch [120 / 50] , Loss : 0.540864\n",
      "Epoch [130 / 50] , Loss : 0.516563\n",
      "Epoch [140 / 50] , Loss : 0.492624\n",
      "Epoch [150 / 50] , Loss : 0.468726\n",
      "Epoch [160 / 50] , Loss : 0.445143\n",
      "Epoch [170 / 50] , Loss : 0.422278\n",
      "Epoch [180 / 50] , Loss : 0.399412\n",
      "Epoch [190 / 50] , Loss : 0.377494\n",
      "Epoch [200 / 50] , Loss : 0.355866\n",
      "Epoch [210 / 50] , Loss : 0.334849\n",
      "Epoch [220 / 50] , Loss : 0.314420\n",
      "Epoch [230 / 50] , Loss : 0.294362\n",
      "Epoch [240 / 50] , Loss : 0.274304\n",
      "Epoch [250 / 50] , Loss : 0.254247\n",
      "Epoch [260 / 50] , Loss : 0.234189\n",
      "Epoch [270 / 50] , Loss : 0.214131\n",
      "Epoch [280 / 50] , Loss : 0.194407\n",
      "Epoch [290 / 50] , Loss : 0.175085\n",
      "Epoch [300 / 50] , Loss : 0.157358\n",
      "Epoch [310 / 50] , Loss : 0.140000\n",
      "Epoch [320 / 50] , Loss : 0.122650\n",
      "Epoch [330 / 50] , Loss : 0.105425\n",
      "Epoch [340 / 50] , Loss : 0.090121\n",
      "Epoch [350 / 50] , Loss : 0.077146\n",
      "Epoch [360 / 50] , Loss : 0.064812\n",
      "Epoch [370 / 50] , Loss : 0.052531\n",
      "Epoch [380 / 50] , Loss : 0.040576\n",
      "Epoch [390 / 50] , Loss : 0.028915\n",
      "Epoch [400 / 50] , Loss : 0.017326\n",
      "Epoch [410 / 50] , Loss : 0.005738\n",
      "Epoch [420 / 50] , Loss : -0.005850\n",
      "Epoch [430 / 50] , Loss : -0.017382\n",
      "Epoch [440 / 50] , Loss : -0.028858\n",
      "Epoch [450 / 50] , Loss : -0.040334\n",
      "Epoch [460 / 50] , Loss : -0.051811\n",
      "Epoch [470 / 50] , Loss : -0.063287\n",
      "Epoch [480 / 50] , Loss : -0.074661\n",
      "Epoch [490 / 50] , Loss : -0.085883\n",
      "Epoch [500 / 50] , Loss : -0.097104\n",
      "Epoch [510 / 50] , Loss : -0.108326\n",
      "Epoch [520 / 50] , Loss : -0.119547\n",
      "Epoch [530 / 50] , Loss : -0.130769\n",
      "Epoch [540 / 50] , Loss : -0.141991\n",
      "Epoch [550 / 50] , Loss : -0.152938\n",
      "Epoch [560 / 50] , Loss : -0.162800\n",
      "Epoch [570 / 50] , Loss : -0.171639\n",
      "Epoch [580 / 50] , Loss : -0.180261\n",
      "Epoch [590 / 50] , Loss : -0.188356\n",
      "Epoch [600 / 50] , Loss : -0.196424\n",
      "Epoch [610 / 50] , Loss : -0.204492\n",
      "Epoch [620 / 50] , Loss : -0.212560\n",
      "Epoch [630 / 50] , Loss : -0.220628\n",
      "Epoch [640 / 50] , Loss : -0.228697\n",
      "Epoch [650 / 50] , Loss : -0.236765\n",
      "Epoch [660 / 50] , Loss : -0.244833\n",
      "Epoch [670 / 50] , Loss : -0.252901\n",
      "Epoch [680 / 50] , Loss : -0.260970\n",
      "Epoch [690 / 50] , Loss : -0.269038\n",
      "Epoch [700 / 50] , Loss : -0.277107\n",
      "Epoch [710 / 50] , Loss : -0.285175\n",
      "Epoch [720 / 50] , Loss : -0.293244\n",
      "Epoch [730 / 50] , Loss : -0.301312\n",
      "Epoch [740 / 50] , Loss : -0.309381\n",
      "Epoch [750 / 50] , Loss : -0.317450\n",
      "Epoch [760 / 50] , Loss : -0.325518\n",
      "Epoch [770 / 50] , Loss : -0.333587\n",
      "Epoch [780 / 50] , Loss : -0.341655\n",
      "Epoch [790 / 50] , Loss : -0.349724\n",
      "Epoch [800 / 50] , Loss : -0.357792\n",
      "Epoch [810 / 50] , Loss : -0.365861\n",
      "Epoch [820 / 50] , Loss : -0.373929\n",
      "Epoch [830 / 50] , Loss : -0.381953\n",
      "Epoch [840 / 50] , Loss : -0.389932\n",
      "Epoch [850 / 50] , Loss : -0.397911\n",
      "Epoch [860 / 50] , Loss : -0.405890\n",
      "Epoch [870 / 50] , Loss : -0.413869\n",
      "Epoch [880 / 50] , Loss : -0.421848\n",
      "Epoch [890 / 50] , Loss : -0.429827\n",
      "Epoch [900 / 50] , Loss : -0.437806\n",
      "Epoch [910 / 50] , Loss : -0.445784\n",
      "Epoch [920 / 50] , Loss : -0.453763\n",
      "Epoch [930 / 50] , Loss : -0.461742\n",
      "Epoch [940 / 50] , Loss : -0.469721\n",
      "Epoch [950 / 50] , Loss : -0.477700\n",
      "Epoch [960 / 50] , Loss : -0.485679\n",
      "Epoch [970 / 50] , Loss : -0.493657\n",
      "Epoch [980 / 50] , Loss : -0.501636\n",
      "Epoch [990 / 50] , Loss : -0.509614\n",
      "Epoch [1000 / 50] , Loss : -0.517593\n"
     ]
    }
   ],
   "source": [
    "for epoch in range(1000) : \n",
    "    for inputs, targets in loader : \n",
    "        output = model(inputs)\n",
    "        loss = criterion(output.squeeze() , targets)\n",
    "        \n",
    "        optimizer.zero_grad()\n",
    "        loss.backward()\n",
    "        optimizer.step()\n",
    "        \n",
    "    if (epoch+1) % 10 == 0 : \n",
    "        print(f\"Epoch [{epoch + 1} / 50] , Loss : {loss.item():4f}\")"
   ]
  },
  {
   "cell_type": "markdown",
   "id": "4b62d8ff",
   "metadata": {},
   "source": [
    "### 시각화"
   ]
  },
  {
   "cell_type": "code",
   "execution_count": 6,
   "id": "626c1c72",
   "metadata": {},
   "outputs": [
    {
     "data": {
      "image/png": "[encoded data removed]",
      "text/plain": [
       "<Figure size 640x480 with 1 Axes>"
      ]
     },
     "metadata": {},
     "output_type": "display_data"
    }
   ],
   "source": [
    "# 결정 경계 시각화\n",
    "import matplotlib.pyplot as plt\n",
    "import numpy as np\n",
    "\n",
    "w = list(model.parameters())[0][0]\n",
    "b = list(model.parameters())[1].item()\n",
    "slope = (-w[0] / w[1]).detach().numpy()\n",
    "intercept = (-b / w[1]).detach().numpy()\n",
    "x_range = np.linspace(-3, 3, 100)\n",
    "y_range = slope * x_range + intercept\n",
    "\n",
    "plt.scatter(x[:, 0], x[:, 1], c=y, cmap=plt.cm.coolwarm)\n",
    "plt.plot(x_range, y_range, 'k-')\n",
    "plt.xlim(-3, 3)\n",
    "plt.ylim(-3, 3)\n",
    "plt.show()"
   ]
  },
  {
   "cell_type": "code",
   "execution_count": null,
   "id": "f5b7a515",
   "metadata": {},
   "outputs": [],
   "source": []
  }
 ],
 "metadata": {
  "kernelspec": {
   "display_name": "capybara",
   "language": "python",
   "name": "capybara"
  },
  "language_info": {
   "codemirror_mode": {
    "name": "ipython",
    "version": 3
   },
   "file_extension": ".py",
   "mimetype": "text/x-python",
   "name": "python",
   "nbconvert_exporter": "python",
   "pygments_lexer": "ipython3",
   "version": "3.8.16"
  }
 },
 "nbformat": 4,
 "nbformat_minor": 5
}
