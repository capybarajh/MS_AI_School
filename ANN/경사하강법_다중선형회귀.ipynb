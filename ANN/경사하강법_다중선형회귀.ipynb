{
 "cells": [
  {
   "cell_type": "markdown",
   "id": "f3159e0a",
   "metadata": {},
   "source": [
    "# 다중 선형 - 실습 : 경사 하강법을 이용한 다중 선형 회귀 구현"
   ]
  },
  {
   "cell_type": "code",
   "execution_count": 1,
   "id": "de4a5c38",
   "metadata": {},
   "outputs": [],
   "source": [
    "import numpy as np"
   ]
  },
  {
   "cell_type": "markdown",
   "id": "808cdd5d",
   "metadata": {},
   "source": [
    "### 데이터 생성"
   ]
  },
  {
   "cell_type": "code",
   "execution_count": 2,
   "id": "df67d1b5",
   "metadata": {},
   "outputs": [],
   "source": [
    "x1 = np.array([1,2,3,4,5])\n",
    "x2 = np.array([0,1,0,1,0])\n",
    "\n",
    "y = np.array([3,5,7,9,11])"
   ]
  },
  {
   "cell_type": "code",
   "execution_count": 6,
   "id": "c6c613c9",
   "metadata": {},
   "outputs": [],
   "source": [
    "def gradient_descent(x1, x2, y, lr, iterations) : \n",
    "    \n",
    "    # 초기값 설정 \n",
    "    n = len(y)\n",
    "    bata_0 = 0 \n",
    "    bata_1 = 0\n",
    "    bata_2 = 0 \n",
    "    \n",
    "    # 경사하강법 수행 \n",
    "    for i in range(iterations) : \n",
    "        y_pred = bata_0 + bata_1 * x1 + bata_2 * x2\n",
    "        \n",
    "        error = y_pred - y # 수정 해주시고요 \n",
    "        \n",
    "        # 업데이트 \n",
    "        bata_0 -= lr * (1/n) * np.sum(error)\n",
    "        bata_1 -= lr * (1/n) * np.sum(error * x1)\n",
    "        bata_2 -= lr * (1/n) * np.sum(error * x2)\n",
    "        \n",
    "    return bata_0, bata_1 , bata_2"
   ]
  },
  {
   "cell_type": "code",
   "execution_count": 7,
   "id": "8e9916f6",
   "metadata": {},
   "outputs": [
    {
     "name": "stdout",
     "output_type": "stream",
     "text": [
      "bata_0 >>  0.8907546215358821\n",
      "bata_1 >>  2.0237699271134932\n",
      "bata_2 >>  0.057888309859129156\n"
     ]
    }
   ],
   "source": [
    "bata_0, bata_1, bata_2 = gradient_descent(x1, x2, y, 0.01, 1000)\n",
    "print(\"bata_0 >> \", bata_0)\n",
    "print(\"bata_1 >> \", bata_1)\n",
    "print(\"bata_2 >> \", bata_2)"
   ]
  },
  {
   "cell_type": "code",
   "execution_count": 9,
   "id": "3a70e2d9",
   "metadata": {},
   "outputs": [
    {
     "name": "stdout",
     "output_type": "stream",
     "text": [
      "Predicted y value >>  2.9145245486493754\n"
     ]
    }
   ],
   "source": [
    "x1_new = 1\n",
    "x2_new = 0\n",
    "\n",
    "#### 예측 되어야하는 값 3 \n",
    "\n",
    "y_pred_temp = bata_0 + bata_1 * x1_new + bata_2 * x2_new\n",
    "\n",
    "print(\"Predicted y value >> \", y_pred_temp)"
   ]
  },
  {
   "cell_type": "code",
   "execution_count": null,
   "id": "1eab273e",
   "metadata": {},
   "outputs": [],
   "source": []
  }
 ],
 "metadata": {
  "kernelspec": {
   "display_name": "capybara",
   "language": "python",
   "name": "capybara"
  },
  "language_info": {
   "codemirror_mode": {
    "name": "ipython",
    "version": 3
   },
   "file_extension": ".py",
   "mimetype": "text/x-python",
   "name": "python",
   "nbconvert_exporter": "python",
   "pygments_lexer": "ipython3",
   "version": "3.8.16"
  }
 },
 "nbformat": 4,
 "nbformat_minor": 5
}
