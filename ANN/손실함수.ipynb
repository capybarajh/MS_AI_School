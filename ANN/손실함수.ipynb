{
 "cells": [
  {
   "cell_type": "markdown",
   "id": "3a715e35",
   "metadata": {},
   "source": [
    "# 평균 제곱 오차 간단한 실습"
   ]
  },
  {
   "cell_type": "code",
   "execution_count": 3,
   "id": "b181c496",
   "metadata": {},
   "outputs": [],
   "source": [
    "import numpy as np"
   ]
  },
  {
   "cell_type": "code",
   "execution_count": 4,
   "id": "9920b41c",
   "metadata": {},
   "outputs": [
    {
     "name": "stdout",
     "output_type": "stream",
     "text": [
      "0.0\n"
     ]
    }
   ],
   "source": [
    "def mean_squred_error(y_true, y_pred) : \n",
    "    mean_temp = np.mean((y_true - y_pred)**2)\n",
    "    \n",
    "    return mean_temp\n",
    "\n",
    "\"\"\"\n",
    "예시 y_true = [1,2,3,4] y_pred = [2,3,5,6]\n",
    "\"\"\"\n",
    "y_true = np.array([1,2,3,4])\n",
    "y_pred = np.array([1,2,3,4])\n",
    "\n",
    "mean_value = mean_squred_error(y_true, y_pred)\n",
    "print(mean_value)"
   ]
  },
  {
   "cell_type": "markdown",
   "id": "56f468fc",
   "metadata": {},
   "source": [
    "# Binary Cross Entropy Loss 간단한 실습"
   ]
  },
  {
   "cell_type": "code",
   "execution_count": 5,
   "id": "983f6cc8",
   "metadata": {},
   "outputs": [
    {
     "name": "stdout",
     "output_type": "stream",
     "text": [
      "n value >>  4\n",
      "0.1738072166964861\n"
     ]
    }
   ],
   "source": [
    "def binary_cross_entropy_loss(y_true_temp, y_pred_temp):\n",
    "    epsilon = 1e-7 # 1e-5\n",
    "    n = y_true_temp.shape[0]\n",
    "    print(\"n value >> \", n)\n",
    "    loss = -np.mean(y_true_temp * np.log(y_pred_temp + epsilon) + (1-y_true_temp) * np.log(1 - y_pred_temp + epsilon))\n",
    "    return loss\n",
    "    \n",
    "\n",
    "y_true_temp = np.array([1,0,1,1])\n",
    "y_pred_temp = np.array([0.99, 0.1, 0.8, 0.7])\n",
    "\n",
    "loss = binary_cross_entropy_loss(y_true_temp, y_pred_temp)\n",
    "print(loss)"
   ]
  },
  {
   "cell_type": "markdown",
   "id": "427324fc",
   "metadata": {},
   "source": [
    "# Cross Entropy Loss 간단한 실습"
   ]
  },
  {
   "cell_type": "code",
   "execution_count": 7,
   "id": "f863b203",
   "metadata": {},
   "outputs": [
    {
     "name": "stdout",
     "output_type": "stream",
     "text": [
      "n_value 3\n",
      "0.42432189193762915\n"
     ]
    }
   ],
   "source": [
    "def cross_entropy_loss(y_true_01, y_pred_01, c) : \n",
    "    \"\"\"\n",
    "    y_true_01 => 실제값 (크기 : (n, c))\n",
    "    y_pred_01 => 예측값 (크기 : (n, c))\n",
    "    c         => 클래스 개수 \n",
    "    \"\"\"\n",
    "    n_temp = y_true_01.shape[0]\n",
    "    print(\"n_value\" , n_temp)\n",
    "    ce_loss = -1 / n_temp * np.sum(y_true_01 * np.log(y_pred_01))\n",
    "    \n",
    "    return ce_loss\n",
    "\n",
    "y_true_01 = np.array([[1,0,0], [0,1,0], [0,0,1]]) # 실제값 \n",
    "y_pred_01 = np.array([[0.7, 0.9, 0.1], [0.1,0.8,0.1], [0.2,0.3,0.5]]) # 예측값 \n",
    "c = 3\n",
    "\n",
    "ce_loss_value = cross_entropy_loss(y_true_01, y_pred_01, c)\n",
    "print(ce_loss_value)"
   ]
  },
  {
   "cell_type": "code",
   "execution_count": null,
   "id": "f2cebaec",
   "metadata": {},
   "outputs": [],
   "source": []
  }
 ],
 "metadata": {
  "kernelspec": {
   "display_name": "capybara",
   "language": "python",
   "name": "capybara"
  },
  "language_info": {
   "codemirror_mode": {
    "name": "ipython",
    "version": 3
   },
   "file_extension": ".py",
   "mimetype": "text/x-python",
   "name": "python",
   "nbconvert_exporter": "python",
   "pygments_lexer": "ipython3",
   "version": "3.8.16"
  }
 },
 "nbformat": 4,
 "nbformat_minor": 5
}
