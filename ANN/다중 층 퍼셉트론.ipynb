{
 "cells": [
  {
   "cell_type": "code",
   "execution_count": 1,
   "id": "a44b43d6",
   "metadata": {},
   "outputs": [],
   "source": [
    "import torch\n",
    "import torch.nn as nn\n",
    "import torch.optim as optim\n",
    "from torchvision import datasets, transforms"
   ]
  },
  {
   "cell_type": "code",
   "execution_count": 2,
   "id": "a9834860",
   "metadata": {},
   "outputs": [
    {
     "name": "stdout",
     "output_type": "stream",
     "text": [
      "Downloading http://yann.lecun.com/exdb/mnist/train-images-idx3-ubyte.gz\n",
      "Downloading http://yann.lecun.com/exdb/mnist/train-images-idx3-ubyte.gz to ./data2\\MNIST\\raw\\train-images-idx3-ubyte.gz\n"
     ]
    },
    {
     "name": "stderr",
     "output_type": "stream",
     "text": [
      "100%|██████████████████████████████████████████████████████████████████| 9912422/9912422 [00:00<00:00, 30158359.50it/s]\n"
     ]
    },
    {
     "name": "stdout",
     "output_type": "stream",
     "text": [
      "Extracting ./data2\\MNIST\\raw\\train-images-idx3-ubyte.gz to ./data2\\MNIST\\raw\n",
      "\n",
      "Downloading http://yann.lecun.com/exdb/mnist/train-labels-idx1-ubyte.gz\n",
      "Downloading http://yann.lecun.com/exdb/mnist/train-labels-idx1-ubyte.gz to ./data2\\MNIST\\raw\\train-labels-idx1-ubyte.gz\n"
     ]
    },
    {
     "name": "stderr",
     "output_type": "stream",
     "text": [
      "100%|██████████████████████████████████████████████████████████████████████| 28881/28881 [00:00<00:00, 28766491.05it/s]\n"
     ]
    },
    {
     "name": "stdout",
     "output_type": "stream",
     "text": [
      "Extracting ./data2\\MNIST\\raw\\train-labels-idx1-ubyte.gz to ./data2\\MNIST\\raw\n",
      "\n",
      "Downloading http://yann.lecun.com/exdb/mnist/t10k-images-idx3-ubyte.gz\n",
      "Downloading http://yann.lecun.com/exdb/mnist/t10k-images-idx3-ubyte.gz to ./data2\\MNIST\\raw\\t10k-images-idx3-ubyte.gz\n"
     ]
    },
    {
     "name": "stderr",
     "output_type": "stream",
     "text": [
      "100%|██████████████████████████████████████████████████████████████████| 1648877/1648877 [00:00<00:00, 12235253.50it/s]\n"
     ]
    },
    {
     "name": "stdout",
     "output_type": "stream",
     "text": [
      "Extracting ./data2\\MNIST\\raw\\t10k-images-idx3-ubyte.gz to ./data2\\MNIST\\raw\n",
      "\n",
      "Downloading http://yann.lecun.com/exdb/mnist/t10k-labels-idx1-ubyte.gz\n",
      "Downloading http://yann.lecun.com/exdb/mnist/t10k-labels-idx1-ubyte.gz to ./data2\\MNIST\\raw\\t10k-labels-idx1-ubyte.gz\n"
     ]
    },
    {
     "name": "stderr",
     "output_type": "stream",
     "text": [
      "100%|█████████████████████████████████████████████████████████████████████████| 4542/4542 [00:00<00:00, 4607141.18it/s]"
     ]
    },
    {
     "name": "stdout",
     "output_type": "stream",
     "text": [
      "Extracting ./data2\\MNIST\\raw\\t10k-labels-idx1-ubyte.gz to ./data2\\MNIST\\raw\n",
      "\n"
     ]
    },
    {
     "name": "stderr",
     "output_type": "stream",
     "text": [
      "\n"
     ]
    }
   ],
   "source": [
    "# 학습 데아터 로딩\n",
    "train_loader = torch.utils.data.DataLoader(\n",
    "    datasets.MNIST('./data2', train=True, download=True,\n",
    "                  transform=transforms.Compose([\n",
    "                      transforms.ToTensor(),\n",
    "                      transforms.Normalize((0.1307,), (0.3081,))\n",
    "                  ])),\n",
    "    batch_size=64, shuffle=True)\n",
    "\n",
    "test_loader = torch.utils.data.DataLoader(\n",
    "    datasets.MNIST('./data2', train=False, download=True,\n",
    "    transform=transforms.Compose([\n",
    "    transforms.ToTensor(),\n",
    "    transforms.Normalize((0.1307,), (0.3081,))\n",
    "    ])),\n",
    "    batch_size=1000, shuffle=True)"
   ]
  },
  {
   "cell_type": "code",
   "execution_count": 3,
   "id": "75555328",
   "metadata": {},
   "outputs": [],
   "source": [
    "# 모델 정의\n",
    "class MLP(nn.Module):\n",
    "    def __init__(self):\n",
    "        super(MLP, self).__init__()\n",
    "        self.fc1 = nn.Linear(784, 256)\n",
    "        self.fc2 = nn.Linear(256, 128)\n",
    "        self.fc3 = nn.Linear(128, 10)\n",
    "        \n",
    "    def forward(self, x):\n",
    "        x = x.view(-1, 784)\n",
    "        x = torch.relu(self.fc1(x))\n",
    "        x = torch.relu(self.fc2(x))\n",
    "        x = self.fc3(x)\n",
    "        return x\n",
    "\n",
    "model = MLP()\n",
    "\n",
    "# 손실함수 및 최적화 알고리즘 정의\n",
    "criterion = nn.CrossEntropyLoss()\n",
    "optimizer = optim.SGD(model.parameters(), lr=0.01)"
   ]
  },
  {
   "cell_type": "code",
   "execution_count": 4,
   "id": "a36ad3aa",
   "metadata": {},
   "outputs": [
    {
     "name": "stdout",
     "output_type": "stream",
     "text": [
      "[1,   100] loss: 2.151\n",
      "[1,   200] loss: 1.537\n",
      "[1,   300] loss: 0.889\n",
      "[1,   400] loss: 0.622\n",
      "[1,   500] loss: 0.500\n",
      "[1,   600] loss: 0.452\n",
      "[1,   700] loss: 0.416\n",
      "[1,   800] loss: 0.378\n",
      "[1,   900] loss: 0.358\n",
      "[2,   100] loss: 0.345\n",
      "[2,   200] loss: 0.323\n",
      "[2,   300] loss: 0.323\n",
      "[2,   400] loss: 0.313\n",
      "[2,   500] loss: 0.302\n",
      "[2,   600] loss: 0.300\n",
      "[2,   700] loss: 0.283\n",
      "[2,   800] loss: 0.271\n",
      "[2,   900] loss: 0.281\n",
      "[3,   100] loss: 0.268\n",
      "[3,   200] loss: 0.266\n",
      "[3,   300] loss: 0.267\n",
      "[3,   400] loss: 0.241\n",
      "[3,   500] loss: 0.253\n",
      "[3,   600] loss: 0.250\n",
      "[3,   700] loss: 0.226\n",
      "[3,   800] loss: 0.246\n",
      "[3,   900] loss: 0.237\n",
      "[4,   100] loss: 0.237\n",
      "[4,   200] loss: 0.221\n",
      "[4,   300] loss: 0.228\n",
      "[4,   400] loss: 0.209\n",
      "[4,   500] loss: 0.210\n",
      "[4,   600] loss: 0.206\n",
      "[4,   700] loss: 0.214\n",
      "[4,   800] loss: 0.206\n",
      "[4,   900] loss: 0.198\n",
      "[5,   100] loss: 0.185\n",
      "[5,   200] loss: 0.191\n",
      "[5,   300] loss: 0.185\n",
      "[5,   400] loss: 0.189\n",
      "[5,   500] loss: 0.188\n",
      "[5,   600] loss: 0.185\n",
      "[5,   700] loss: 0.181\n",
      "[5,   800] loss: 0.185\n",
      "[5,   900] loss: 0.182\n",
      "[6,   100] loss: 0.159\n",
      "[6,   200] loss: 0.161\n",
      "[6,   300] loss: 0.177\n",
      "[6,   400] loss: 0.154\n",
      "[6,   500] loss: 0.165\n",
      "[6,   600] loss: 0.163\n",
      "[6,   700] loss: 0.160\n",
      "[6,   800] loss: 0.162\n",
      "[6,   900] loss: 0.160\n",
      "[7,   100] loss: 0.149\n",
      "[7,   200] loss: 0.149\n",
      "[7,   300] loss: 0.151\n",
      "[7,   400] loss: 0.140\n",
      "[7,   500] loss: 0.151\n",
      "[7,   600] loss: 0.152\n",
      "[7,   700] loss: 0.144\n",
      "[7,   800] loss: 0.140\n",
      "[7,   900] loss: 0.131\n",
      "[8,   100] loss: 0.132\n",
      "[8,   200] loss: 0.134\n",
      "[8,   300] loss: 0.121\n",
      "[8,   400] loss: 0.123\n",
      "[8,   500] loss: 0.133\n",
      "[8,   600] loss: 0.145\n",
      "[8,   700] loss: 0.123\n",
      "[8,   800] loss: 0.127\n",
      "[8,   900] loss: 0.132\n",
      "[9,   100] loss: 0.116\n",
      "[9,   200] loss: 0.123\n",
      "[9,   300] loss: 0.116\n",
      "[9,   400] loss: 0.126\n",
      "[9,   500] loss: 0.127\n",
      "[9,   600] loss: 0.116\n",
      "[9,   700] loss: 0.116\n",
      "[9,   800] loss: 0.104\n",
      "[9,   900] loss: 0.116\n",
      "[10,   100] loss: 0.101\n",
      "[10,   200] loss: 0.107\n",
      "[10,   300] loss: 0.108\n",
      "[10,   400] loss: 0.111\n",
      "[10,   500] loss: 0.109\n",
      "[10,   600] loss: 0.106\n",
      "[10,   700] loss: 0.104\n",
      "[10,   800] loss: 0.108\n",
      "[10,   900] loss: 0.106\n"
     ]
    }
   ],
   "source": [
    "# 학습 실행\n",
    "for epoch in range(10):\n",
    "    running_loss = 0.0\n",
    "    for i, (inputs, labels) in enumerate(train_loader, 0):\n",
    "        optimizer.zero_grad()\n",
    "        outputs = model(inputs)\n",
    "        loss = criterion(outputs, labels)\n",
    "        loss.backward()\n",
    "        optimizer.step()\n",
    "        \n",
    "        running_loss += loss.item()\n",
    "        if i % 100 == 99:\n",
    "            print('[%d, %5d] loss: %.3f' % (epoch + 1, i+1, running_loss / 100))\n",
    "            running_loss = 0.0"
   ]
  },
  {
   "cell_type": "code",
   "execution_count": 5,
   "id": "8f85a22f",
   "metadata": {},
   "outputs": [
    {
     "name": "stdout",
     "output_type": "stream",
     "text": [
      "Accuracy of the network on the 10000 test images: 96 %\n"
     ]
    }
   ],
   "source": [
    "correct = 0\n",
    "total = 0\n",
    "with torch.no_grad():\n",
    "    for inputs, labels in test_loader:\n",
    "        outputs = model(inputs)\n",
    "        _, predicted = torch.max(outputs.data, 1)\n",
    "        total += labels.size(0)\n",
    "        correct += (predicted == labels).sum().item()\n",
    "        \n",
    "    print('Accuracy of the network on the 10000 test images: %d %%' % (100 * correct / total))"
   ]
  },
  {
   "cell_type": "code",
   "execution_count": null,
   "id": "7ffbeabb",
   "metadata": {},
   "outputs": [],
   "source": []
  }
 ],
 "metadata": {
  "kernelspec": {
   "display_name": "capybara",
   "language": "python",
   "name": "capybara"
  },
  "language_info": {
   "codemirror_mode": {
    "name": "ipython",
    "version": 3
   },
   "file_extension": ".py",
   "mimetype": "text/x-python",
   "name": "python",
   "nbconvert_exporter": "python",
   "pygments_lexer": "ipython3",
   "version": "3.8.16"
  }
 },
 "nbformat": 4,
 "nbformat_minor": 5
}
