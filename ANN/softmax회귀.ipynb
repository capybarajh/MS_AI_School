{
 "cells": [
  {
   "cell_type": "markdown",
   "id": "8ab4f3dc",
   "metadata": {},
   "source": [
    "# Pytorc를 사용하여 소프트맥스 회귀 모델을 학습하고 예측하는 실습\n",
    "\n",
    "- Iris 데이터셋 사용하여 진행"
   ]
  },
  {
   "cell_type": "code",
   "execution_count": 1,
   "id": "fa4fe6e2",
   "metadata": {},
   "outputs": [],
   "source": [
    "import torch\n",
    "import torch.nn as nn\n",
    "import torch.optim as optim\n",
    "\n",
    "from torch.utils.data import DataLoader, TensorDataset\n",
    "from sklearn.datasets import load_iris\n",
    "from sklearn.model_selection import train_test_split"
   ]
  },
  {
   "cell_type": "markdown",
   "id": "fadd08d2",
   "metadata": {},
   "source": [
    "### 데이터 로드"
   ]
  },
  {
   "cell_type": "code",
   "execution_count": 2,
   "id": "f3b8f8b6",
   "metadata": {},
   "outputs": [],
   "source": [
    "iris = load_iris()\n",
    "# print(iris)\n",
    "\n",
    "x = iris.data\n",
    "y = iris.target\n",
    "# print(x,y)\n",
    "\n",
    "x_train, x_test , y_train, y_test = train_test_split(x,y, test_size=0.1, random_state=777)\n",
    "\n",
    "# convert data to Pytorch tensor \n",
    "x_train = torch.from_numpy(x_train).float()\n",
    "y_train = torch.from_numpy(y_train).long()\n",
    "x_test = torch.from_numpy(x_test).float()\n",
    "y_test = torch.from_numpy(y_test).long()"
   ]
  },
  {
   "cell_type": "markdown",
   "id": "0ab4865d",
   "metadata": {},
   "source": [
    "### 데이터셋 데이터 로더 정의"
   ]
  },
  {
   "cell_type": "code",
   "execution_count": 3,
   "id": "04611af6",
   "metadata": {},
   "outputs": [],
   "source": [
    "train_dataset = TensorDataset(x_train, y_train) \n",
    "# TensorDataset() -> 동일한 크기를 가진 텐서들을 첫번째 차원을 기준으로 결합해서 -> 데이터셋 생성\n",
    "train_loader = DataLoader(train_dataset, batch_size=10, shuffle=True)"
   ]
  },
  {
   "cell_type": "markdown",
   "id": "1f9be9b7",
   "metadata": {},
   "source": [
    "### 모델 구현"
   ]
  },
  {
   "cell_type": "code",
   "execution_count": 4,
   "id": "1a62eaae",
   "metadata": {},
   "outputs": [],
   "source": [
    "class SoftmaxRegression(nn.Module) : \n",
    "    def __init__(self, input_size, num_classes) : \n",
    "        super(SoftmaxRegression, self).__init__()\n",
    "        self.linear = nn.Linear(input_size, num_classes)\n",
    "        \n",
    "    def forward(self, x) : \n",
    "        out = self.linear(x)\n",
    "        \n",
    "        return out"
   ]
  },
  {
   "cell_type": "markdown",
   "id": "11532faa",
   "metadata": {},
   "source": [
    "### 하이퍼파라미터 설정"
   ]
  },
  {
   "cell_type": "code",
   "execution_count": 5,
   "id": "15d4c257",
   "metadata": {},
   "outputs": [],
   "source": [
    "input_size = 4 \n",
    "num_classes = 3 \n",
    "lr = 0.01 \n",
    "num_epochs = 100"
   ]
  },
  {
   "cell_type": "markdown",
   "id": "b8901507",
   "metadata": {},
   "source": [
    "### 옵티마이저 loss 함수 모델 호출"
   ]
  },
  {
   "cell_type": "code",
   "execution_count": 6,
   "id": "b6951aa2",
   "metadata": {},
   "outputs": [],
   "source": [
    "model = SoftmaxRegression(input_size, num_classes)\n",
    "criterion = nn.CrossEntropyLoss()\n",
    "optimizer = optim.SGD(model.parameters(), lr=lr)"
   ]
  },
  {
   "cell_type": "markdown",
   "id": "794d6e34",
   "metadata": {},
   "source": [
    "### Train the model"
   ]
  },
  {
   "cell_type": "code",
   "execution_count": 7,
   "id": "e1a037b2",
   "metadata": {},
   "outputs": [
    {
     "name": "stdout",
     "output_type": "stream",
     "text": [
      "Epoch [1/100] , Step [10/14], Loss : 1.8096\n",
      "Epoch [2/100] , Step [10/14], Loss : 1.1018\n",
      "Epoch [3/100] , Step [10/14], Loss : 1.0225\n",
      "Epoch [4/100] , Step [10/14], Loss : 0.9533\n",
      "Epoch [5/100] , Step [10/14], Loss : 0.8666\n",
      "Epoch [6/100] , Step [10/14], Loss : 0.8471\n",
      "Epoch [7/100] , Step [10/14], Loss : 0.7664\n",
      "Epoch [8/100] , Step [10/14], Loss : 0.7123\n",
      "Epoch [9/100] , Step [10/14], Loss : 0.6132\n",
      "Epoch [10/100] , Step [10/14], Loss : 0.7057\n",
      "Epoch [11/100] , Step [10/14], Loss : 0.6545\n",
      "Epoch [12/100] , Step [10/14], Loss : 0.6022\n",
      "Epoch [13/100] , Step [10/14], Loss : 0.5658\n",
      "Epoch [14/100] , Step [10/14], Loss : 0.5427\n",
      "Epoch [15/100] , Step [10/14], Loss : 0.5473\n",
      "Epoch [16/100] , Step [10/14], Loss : 0.6233\n",
      "Epoch [17/100] , Step [10/14], Loss : 0.4612\n",
      "Epoch [18/100] , Step [10/14], Loss : 0.5911\n",
      "Epoch [19/100] , Step [10/14], Loss : 0.4988\n",
      "Epoch [20/100] , Step [10/14], Loss : 0.6461\n",
      "Epoch [21/100] , Step [10/14], Loss : 0.5837\n",
      "Epoch [22/100] , Step [10/14], Loss : 0.4628\n",
      "Epoch [23/100] , Step [10/14], Loss : 0.5063\n",
      "Epoch [24/100] , Step [10/14], Loss : 0.4770\n",
      "Epoch [25/100] , Step [10/14], Loss : 0.5383\n",
      "Epoch [26/100] , Step [10/14], Loss : 0.4319\n",
      "Epoch [27/100] , Step [10/14], Loss : 0.3985\n",
      "Epoch [28/100] , Step [10/14], Loss : 0.4320\n",
      "Epoch [29/100] , Step [10/14], Loss : 0.5104\n",
      "Epoch [30/100] , Step [10/14], Loss : 0.4916\n",
      "Epoch [31/100] , Step [10/14], Loss : 0.3917\n",
      "Epoch [32/100] , Step [10/14], Loss : 0.5288\n",
      "Epoch [33/100] , Step [10/14], Loss : 0.3826\n",
      "Epoch [34/100] , Step [10/14], Loss : 0.3004\n",
      "Epoch [35/100] , Step [10/14], Loss : 0.4397\n",
      "Epoch [36/100] , Step [10/14], Loss : 0.4080\n",
      "Epoch [37/100] , Step [10/14], Loss : 0.4018\n",
      "Epoch [38/100] , Step [10/14], Loss : 0.4616\n",
      "Epoch [39/100] , Step [10/14], Loss : 0.5411\n",
      "Epoch [40/100] , Step [10/14], Loss : 0.4599\n",
      "Epoch [41/100] , Step [10/14], Loss : 0.3647\n",
      "Epoch [42/100] , Step [10/14], Loss : 0.3823\n",
      "Epoch [43/100] , Step [10/14], Loss : 0.6115\n",
      "Epoch [44/100] , Step [10/14], Loss : 0.3908\n",
      "Epoch [45/100] , Step [10/14], Loss : 0.5323\n",
      "Epoch [46/100] , Step [10/14], Loss : 0.3991\n",
      "Epoch [47/100] , Step [10/14], Loss : 0.2715\n",
      "Epoch [48/100] , Step [10/14], Loss : 0.3967\n",
      "Epoch [49/100] , Step [10/14], Loss : 0.5794\n",
      "Epoch [50/100] , Step [10/14], Loss : 0.4888\n",
      "Epoch [51/100] , Step [10/14], Loss : 0.4586\n",
      "Epoch [52/100] , Step [10/14], Loss : 0.4638\n",
      "Epoch [53/100] , Step [10/14], Loss : 0.4186\n",
      "Epoch [54/100] , Step [10/14], Loss : 0.4708\n",
      "Epoch [55/100] , Step [10/14], Loss : 0.4058\n",
      "Epoch [56/100] , Step [10/14], Loss : 0.4088\n",
      "Epoch [57/100] , Step [10/14], Loss : 0.2848\n",
      "Epoch [58/100] , Step [10/14], Loss : 0.4400\n",
      "Epoch [59/100] , Step [10/14], Loss : 0.3846\n",
      "Epoch [60/100] , Step [10/14], Loss : 0.4082\n",
      "Epoch [61/100] , Step [10/14], Loss : 0.3684\n",
      "Epoch [62/100] , Step [10/14], Loss : 0.3620\n",
      "Epoch [63/100] , Step [10/14], Loss : 0.3740\n",
      "Epoch [64/100] , Step [10/14], Loss : 0.4905\n",
      "Epoch [65/100] , Step [10/14], Loss : 0.3415\n",
      "Epoch [66/100] , Step [10/14], Loss : 0.4638\n",
      "Epoch [67/100] , Step [10/14], Loss : 0.3681\n",
      "Epoch [68/100] , Step [10/14], Loss : 0.1835\n",
      "Epoch [69/100] , Step [10/14], Loss : 0.5008\n",
      "Epoch [70/100] , Step [10/14], Loss : 0.3355\n",
      "Epoch [71/100] , Step [10/14], Loss : 0.4123\n",
      "Epoch [72/100] , Step [10/14], Loss : 0.4009\n",
      "Epoch [73/100] , Step [10/14], Loss : 0.3997\n",
      "Epoch [74/100] , Step [10/14], Loss : 0.1455\n",
      "Epoch [75/100] , Step [10/14], Loss : 0.3052\n",
      "Epoch [76/100] , Step [10/14], Loss : 0.3020\n",
      "Epoch [77/100] , Step [10/14], Loss : 0.3040\n",
      "Epoch [78/100] , Step [10/14], Loss : 0.5096\n",
      "Epoch [79/100] , Step [10/14], Loss : 0.4062\n",
      "Epoch [80/100] , Step [10/14], Loss : 0.4803\n",
      "Epoch [81/100] , Step [10/14], Loss : 0.4459\n",
      "Epoch [82/100] , Step [10/14], Loss : 0.3044\n",
      "Epoch [83/100] , Step [10/14], Loss : 0.4109\n",
      "Epoch [84/100] , Step [10/14], Loss : 0.2156\n",
      "Epoch [85/100] , Step [10/14], Loss : 0.3894\n",
      "Epoch [86/100] , Step [10/14], Loss : 0.3521\n",
      "Epoch [87/100] , Step [10/14], Loss : 0.2423\n",
      "Epoch [88/100] , Step [10/14], Loss : 0.4659\n",
      "Epoch [89/100] , Step [10/14], Loss : 0.2652\n",
      "Epoch [90/100] , Step [10/14], Loss : 0.3807\n",
      "Epoch [91/100] , Step [10/14], Loss : 0.3749\n",
      "Epoch [92/100] , Step [10/14], Loss : 0.3881\n",
      "Epoch [93/100] , Step [10/14], Loss : 0.3782\n",
      "Epoch [94/100] , Step [10/14], Loss : 0.3299\n",
      "Epoch [95/100] , Step [10/14], Loss : 0.2097\n",
      "Epoch [96/100] , Step [10/14], Loss : 0.3358\n",
      "Epoch [97/100] , Step [10/14], Loss : 0.2180\n",
      "Epoch [98/100] , Step [10/14], Loss : 0.3457\n",
      "Epoch [99/100] , Step [10/14], Loss : 0.4664\n",
      "Epoch [100/100] , Step [10/14], Loss : 0.4654\n"
     ]
    }
   ],
   "source": [
    "total_step = len(train_loader) \n",
    "for epoch in range(num_epochs) : \n",
    "    for i, (inputs, labels) in enumerate(train_loader) : \n",
    "        # Forward pass \n",
    "        outputs= model(inputs)\n",
    "        outputs = outputs.float()\n",
    "        loss = criterion(outputs, labels)\n",
    "        \n",
    "        # Backward pass\n",
    "        optimizer.zero_grad()\n",
    "        loss.backward()\n",
    "        optimizer.step()\n",
    "        \n",
    "        # print\n",
    "        if (i+1) % 10 == 0 :\n",
    "            print(\"Epoch [{}/{}] , Step [{}/{}], Loss : {:.4f}\".format(\n",
    "                epoch+1, num_epochs, i+1, total_step, loss.item()\n",
    "            ))"
   ]
  },
  {
   "cell_type": "code",
   "execution_count": 8,
   "id": "79f4223e",
   "metadata": {},
   "outputs": [
    {
     "name": "stdout",
     "output_type": "stream",
     "text": [
      "Test ACC >> 100.00%\n"
     ]
    }
   ],
   "source": [
    "model.eval()\n",
    "with torch.no_grad() : \n",
    "    outputs = model(x_test) \n",
    "    _, predicted = torch.max(outputs.data, 1)\n",
    "    acc = (predicted == y_test).sum().item() / len(y_test)\n",
    "    print(\"Test ACC >> {:.2f}%\".format(acc * 100))"
   ]
  },
  {
   "cell_type": "code",
   "execution_count": null,
   "id": "1d70ce2c",
   "metadata": {},
   "outputs": [],
   "source": []
  }
 ],
 "metadata": {
  "kernelspec": {
   "display_name": "capybara",
   "language": "python",
   "name": "capybara"
  },
  "language_info": {
   "codemirror_mode": {
    "name": "ipython",
    "version": 3
   },
   "file_extension": ".py",
   "mimetype": "text/x-python",
   "name": "python",
   "nbconvert_exporter": "python",
   "pygments_lexer": "ipython3",
   "version": "3.8.16"
  }
 },
 "nbformat": 4,
 "nbformat_minor": 5
}
