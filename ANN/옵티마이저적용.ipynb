{
 "cells": [
  {
   "cell_type": "markdown",
   "id": "9d32c3c2",
   "metadata": {},
   "source": [
    "# 선형 회귀 모델의 학습에서 다양한 옵티마이저를 적용해보기"
   ]
  },
  {
   "cell_type": "code",
   "execution_count": 1,
   "id": "3258309a",
   "metadata": {},
   "outputs": [],
   "source": [
    "import torch\n",
    "import torch.nn as nn\n",
    "import torch.optim as optim\n",
    "\n",
    "from sklearn.datasets import load_boston\n",
    "from sklearn.preprocessing import StandardScaler\n",
    "from sklearn.model_selection import train_test_split"
   ]
  },
  {
   "cell_type": "markdown",
   "id": "d021277f",
   "metadata": {},
   "source": [
    "### Boston data loader "
   ]
  },
  {
   "cell_type": "code",
   "execution_count": 2,
   "id": "5a638f2c",
   "metadata": {
    "scrolled": true
   },
   "outputs": [
    {
     "name": "stdout",
     "output_type": "stream",
     "text": [
      "x_train len >>  455\n",
      "x_test len >>  51\n",
      "y_train len >>  455\n",
      "y_test len >>  51\n",
      "[[-0.41620579  0.370669   -1.13908197 ... -1.64394538  0.38984838\n",
      "  -1.13023008]\n",
      " [-0.2770909  -0.48772236 -0.43725801 ...  1.17646583  0.44105193\n",
      "   0.85042548]\n",
      " [-0.40721363 -0.48772236 -0.37597609 ...  1.13022958  0.42657898\n",
      "  -0.69849483]\n",
      " ...\n",
      " [-0.41877066  2.94584308 -1.3316823  ... -0.67298414  0.37570436\n",
      "  -0.93398678]\n",
      " [ 0.87825441 -0.48772236  1.01599907 ...  0.80657583 -2.70626713\n",
      "   1.48821619]\n",
      " [-0.39389588 -0.48772236 -0.37597609 ...  1.13022958 -3.13442533\n",
      "  -0.28358043]]\n"
     ]
    },
    {
     "name": "stderr",
     "output_type": "stream",
     "text": [
      "/opt/homebrew/Caskroom/miniforge/base/envs/AI/lib/python3.8/site-packages/sklearn/utils/deprecation.py:87: FutureWarning: Function load_boston is deprecated; `load_boston` is deprecated in 1.0 and will be removed in 1.2.\n",
      "\n",
      "    The Boston housing prices dataset has an ethical problem. You can refer to\n",
      "    the documentation of this function for further details.\n",
      "\n",
      "    The scikit-learn maintainers therefore strongly discourage the use of this\n",
      "    dataset unless the purpose of the code is to study and educate about\n",
      "    ethical issues in data science and machine learning.\n",
      "\n",
      "    In this special case, you can fetch the dataset from the original\n",
      "    source::\n",
      "\n",
      "        import pandas as pd\n",
      "        import numpy as np\n",
      "\n",
      "\n",
      "        data_url = \"http://lib.stat.cmu.edu/datasets/boston\"\n",
      "        raw_df = pd.read_csv(data_url, sep=\"\\s+\", skiprows=22, header=None)\n",
      "        data = np.hstack([raw_df.values[::2, :], raw_df.values[1::2, :2]])\n",
      "        target = raw_df.values[1::2, 2]\n",
      "\n",
      "    Alternative datasets include the California housing dataset (i.e.\n",
      "    :func:`~sklearn.datasets.fetch_california_housing`) and the Ames housing\n",
      "    dataset. You can load the datasets as follows::\n",
      "\n",
      "        from sklearn.datasets import fetch_california_housing\n",
      "        housing = fetch_california_housing()\n",
      "\n",
      "    for the California housing dataset and::\n",
      "\n",
      "        from sklearn.datasets import fetch_openml\n",
      "        housing = fetch_openml(name=\"house_prices\", as_frame=True)\n",
      "\n",
      "    for the Ames housing dataset.\n",
      "    \n",
      "  warnings.warn(msg, category=FutureWarning)\n"
     ]
    }
   ],
   "source": [
    "boston_dataset = load_boston()\n",
    "x_data = boston_dataset.data   # 학습 데이터 \n",
    "y_data = boston_dataset.target # 라벨 데이터 \n",
    "\n",
    "# 데이터 스케일 \n",
    "scaler = StandardScaler()\n",
    "x_data = scaler.fit_transform(x_data)\n",
    "\n",
    "# 데이터 분할 \n",
    "x_train, x_test, y_train, y_test = train_test_split(x_data, y_data, test_size=0.1, random_state=42)\n",
    "print(\"x_train len >> \", len(x_train))\n",
    "print(\"x_test len >> \", len(x_test))\n",
    "print(\"y_train len >> \", len(y_train))\n",
    "print(\"y_test len >> \", len(y_test))\n",
    "print(x_train)"
   ]
  },
  {
   "cell_type": "markdown",
   "id": "10be76db",
   "metadata": {},
   "source": [
    "### 모델 생성 및 하이퍼파라미터 설정"
   ]
  },
  {
   "cell_type": "code",
   "execution_count": 3,
   "id": "80f211ca",
   "metadata": {},
   "outputs": [],
   "source": [
    "# 하이퍼 파라미터 설정 \n",
    "input_dim = x_data.shape[1] # 13\n",
    "output_dim = 1\n",
    "lr = 0.000005\n",
    "epochs = 2000\n",
    "\n",
    "# 모델 생성 \n",
    "model = nn.Linear(input_dim, output_dim)"
   ]
  },
  {
   "cell_type": "markdown",
   "id": "f254d1fd",
   "metadata": {},
   "source": [
    "### 다양한 옵티마이저 설정 \n"
   ]
  },
  {
   "cell_type": "code",
   "execution_count": 4,
   "id": "12d983a0",
   "metadata": {},
   "outputs": [],
   "source": [
    "optimizers = {\"SGD\" : optim.SGD(model.parameters(), lr=lr),\n",
    "              \"Momentum\" : optim.SGD(model.parameters(), lr=lr, momentum=0.9),\n",
    "              \"Adagrad\" : optim.Adagrad(model.parameters(), lr=lr),\n",
    "              \"RMSprop\" : optim.RMSprop(model.parameters(), lr=lr),\n",
    "              \"Adam\" : optim.Adam(model.parameters(), lr=lr)}"
   ]
  },
  {
   "cell_type": "markdown",
   "id": "43f670d8",
   "metadata": {},
   "source": [
    "### 모델 학습"
   ]
  },
  {
   "cell_type": "code",
   "execution_count": 5,
   "id": "7c4299b3",
   "metadata": {},
   "outputs": [
    {
     "name": "stdout",
     "output_type": "stream",
     "text": [
      "SGD SGD (\n",
      "Parameter Group 0\n",
      "    dampening: 0\n",
      "    differentiable: False\n",
      "    foreach: None\n",
      "    lr: 5e-06\n",
      "    maximize: False\n",
      "    momentum: 0\n",
      "    nesterov: False\n",
      "    weight_decay: 0\n",
      ")\n",
      "Momentum SGD (\n",
      "Parameter Group 0\n",
      "    dampening: 0\n",
      "    differentiable: False\n",
      "    foreach: None\n",
      "    lr: 5e-06\n",
      "    maximize: False\n",
      "    momentum: 0.9\n",
      "    nesterov: False\n",
      "    weight_decay: 0\n",
      ")\n",
      "Adagrad Adagrad (\n",
      "Parameter Group 0\n",
      "    eps: 1e-10\n",
      "    foreach: None\n",
      "    initial_accumulator_value: 0\n",
      "    lr: 5e-06\n",
      "    lr_decay: 0\n",
      "    maximize: False\n",
      "    weight_decay: 0\n",
      ")\n",
      "RMSprop RMSprop (\n",
      "Parameter Group 0\n",
      "    alpha: 0.99\n",
      "    centered: False\n",
      "    differentiable: False\n",
      "    eps: 1e-08\n",
      "    foreach: None\n",
      "    lr: 5e-06\n",
      "    maximize: False\n",
      "    momentum: 0\n",
      "    weight_decay: 0\n",
      ")\n",
      "Adam Adam (\n",
      "Parameter Group 0\n",
      "    amsgrad: False\n",
      "    betas: (0.9, 0.999)\n",
      "    capturable: False\n",
      "    differentiable: False\n",
      "    eps: 1e-08\n",
      "    foreach: None\n",
      "    fused: False\n",
      "    lr: 5e-06\n",
      "    maximize: False\n",
      "    weight_decay: 0\n",
      ")\n"
     ]
    }
   ],
   "source": [
    "for optimizer_name, optimizer in optimizers.items() : \n",
    "    print(optimizer_name, optimizer)\n",
    "    \n",
    "    \n",
    "#     criterion = nn.MSELoss()\n",
    "#     optimizer.zero_grad()\n",
    "    \n",
    "#     for epoch in range(epochs) : \n",
    "#         inputs = torch.tensor(x_train, dtype=torch.float32)\n",
    "#         labels = torch.tensor(y_train, dtype=torch.float32) \n",
    "# #         print(inputs)\n",
    "# #         print(labels)\n",
    "        \n",
    "#         # Forward pass\n",
    "#         outputs = model(inputs)\n",
    "#         loss = criterion(outputs, labels)\n",
    "        \n",
    "#         # Backward and optimize \n",
    "#         loss.backward()\n",
    "#         optimizer.step()\n",
    "        \n",
    "#         # print progress \n",
    "#         if (epoch + 1) % 100 == 0 :\n",
    "#             print(f\"{optimizer_name} - EPOCH [{epoch+1}/{epochs}, Loss : {loss.item():.4f}]\")\n",
    "        "
   ]
  },
  {
   "cell_type": "code",
   "execution_count": null,
   "id": "5e3b70ff",
   "metadata": {},
   "outputs": [],
   "source": []
  }
 ],
 "metadata": {
  "kernelspec": {
   "display_name": "AI",
   "language": "python",
   "name": "ai"
  },
  "language_info": {
   "codemirror_mode": {
    "name": "ipython",
    "version": 3
   },
   "file_extension": ".py",
   "mimetype": "text/x-python",
   "name": "python",
   "nbconvert_exporter": "python",
   "pygments_lexer": "ipython3",
   "version": "3.8.16"
  }
 },
 "nbformat": 4,
 "nbformat_minor": 5
}
