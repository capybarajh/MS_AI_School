{
 "cells": [
  {
   "cell_type": "markdown",
   "id": "e46ba1ff",
   "metadata": {},
   "source": [
    "# SVM을 활용한 이미지 분류"
   ]
  },
  {
   "cell_type": "code",
   "execution_count": 10,
   "id": "ae91dc42",
   "metadata": {},
   "outputs": [],
   "source": [
    "import torch\n",
    "import torchvision\n",
    "import torchvision.transforms as transforms\n",
    "from sklearn.svm import SVC\n",
    "from tqdm import tqdm\n",
    "import matplotlib.pyplot as plt"
   ]
  },
  {
   "cell_type": "markdown",
   "id": "010012b0",
   "metadata": {},
   "source": [
    "### 데이터 로드"
   ]
  },
  {
   "cell_type": "code",
   "execution_count": 3,
   "id": "4b40e822",
   "metadata": {},
   "outputs": [],
   "source": [
    "transform = transforms.Compose([\n",
    "    transforms.ToTensor(),\n",
    "    transforms.Normalize((0.5,), (0.3,))\n",
    "])\n",
    "\n",
    "train_dataset = torchvision.datasets.MNIST(root=\"./dataset\", train=True, download=False, transform=transform)\n",
    "test_dataset = torchvision.datasets.MNIST(root=\"./dataset\" , train=False, download=False, transform=transform)\n",
    "\n",
    "train_loader = torch.utils.data.DataLoader(train_dataset, batch_size=1000, shuffle=True, num_workers=2)\n",
    "test_loader = torch.utils.data.DataLoader(test_dataset, batch_size=1000, shuffle=False, num_workers=2)"
   ]
  },
  {
   "cell_type": "markdown",
   "id": "2945ffb5",
   "metadata": {},
   "source": [
    "### 특징 추출"
   ]
  },
  {
   "cell_type": "code",
   "execution_count": 4,
   "id": "eb803664",
   "metadata": {},
   "outputs": [],
   "source": [
    "train_features = []\n",
    "train_labels = []\n",
    "\n",
    "for i, data in enumerate(train_loader, 0) : \n",
    "    inputs, labels = data \n",
    "    inputs = inputs.view(inputs.shape[0], -1)\n",
    "    train_features.append(inputs)\n",
    "    train_labels.append(labels)\n",
    "\"\"\"\n",
    "train_loader 미니배치 데이터 -> 2차원으로 펼친 후 -> train_feature, train_labels 각 리스트에 저장 -> 최종 텐서 변환 (훈련 데이터 사용가능)\n",
    "\"\"\"    \n",
    "train_features = torch.cat(train_features, dim=0)\n",
    "train_labels = torch.cat(train_labels, dim=0)\n",
    "\n",
    "test_features = []\n",
    "test_labels = []\n",
    "for i, data in enumerate(test_loader, 0) : \n",
    "    inputs, labels = data\n",
    "    inputs = inputs.view(inputs.shape[0], -1)\n",
    "    test_features.append(inputs)\n",
    "    test_labels.append(labels)\n",
    "    \n",
    "test_features = torch.cat(test_features, dim=0)\n",
    "test_labels = torch.cat(test_labels, dim=0)"
   ]
  },
  {
   "cell_type": "markdown",
   "id": "7227240d",
   "metadata": {},
   "source": [
    "### SVM을 활용한 이미지 분류 "
   ]
  },
  {
   "cell_type": "code",
   "execution_count": 5,
   "id": "c9f26814",
   "metadata": {},
   "outputs": [
    {
     "name": "stdout",
     "output_type": "stream",
     "text": [
      "SVM MODEL TRAIN AND TEST\n",
      "ACC >> 0.9337\n",
      "Training Time : 9681.36 seconds\n"
     ]
    }
   ],
   "source": [
    "import time \n",
    "print(\"SVM MODEL TRAIN AND TEST\")\n",
    "start_time = time.time()\n",
    "model = SVC(C=1.0, kernel='rbf', gamma=0.01)\n",
    "model.fit(train_features.numpy(), train_labels.numpy())\n",
    "acc = model.score(test_features.numpy(), test_labels.numpy())\n",
    "\n",
    "end_tiem = time.time()\n",
    "print(\"ACC >>\" , acc)\n",
    "train_tiem = end_tiem - start_time\n",
    "print(\"Training Time : {:.2f} seconds\".format(train_tiem))"
   ]
  },
  {
   "cell_type": "code",
   "execution_count": 11,
   "id": "d98e86b4",
   "metadata": {},
   "outputs": [
    {
     "data": {
      "image/png": "[encoded data removed]",
      "text/plain": [
       "<Figure size 1000x100 with 10 Axes>"
      ]
     },
     "metadata": {},
     "output_type": "display_data"
    }
   ],
   "source": [
    "# 예측 결과 시각화\n",
    "def plot_images(images, labels, preds):\n",
    "    fig, axes = plt.subplots(1, 10, figsize=(10, 1))\n",
    "    \n",
    "    for i, ax in enumerate(axes):\n",
    "        ax.imshow(images[i].reshape((28, 28)), cmap='gray')\n",
    "        title = 'label: {}\\npred: {}'.format(labels[i], preds[i])\n",
    "        ax.set_title(title)\n",
    "        ax.axis('off')\n",
    "    plt.subplots_adjust(top=0.5, bottom=0, hspace=0, wspace=0.5)\n",
    "    plt.show()\n",
    "\n",
    "# 테스트 이미지 가져오기\n",
    "test_images, test_labels = next(iter(test_loader))\n",
    "test_images = test_images.view(test_images.shape[0], -1)\n",
    "\n",
    "# 모델 예측\n",
    "test_preds = model.predict(test_images.numpy())\n",
    "\n",
    "# 결과 시각화\n",
    "plot_images(test_images.numpy(), test_labels.numpy(), test_preds)"
   ]
  },
  {
   "cell_type": "code",
   "execution_count": null,
   "id": "12f14891",
   "metadata": {},
   "outputs": [],
   "source": []
  }
 ],
 "metadata": {
  "kernelspec": {
   "display_name": "capybara",
   "language": "python",
   "name": "capybara"
  },
  "language_info": {
   "codemirror_mode": {
    "name": "ipython",
    "version": 3
   },
   "file_extension": ".py",
   "mimetype": "text/x-python",
   "name": "python",
   "nbconvert_exporter": "python",
   "pygments_lexer": "ipython3",
   "version": "3.8.16"
  }
 },
 "nbformat": 4,
 "nbformat_minor": 5
}
