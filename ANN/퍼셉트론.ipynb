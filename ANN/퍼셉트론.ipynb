{
 "cells": [
  {
   "cell_type": "code",
   "execution_count": 1,
   "id": "8d7f32d1",
   "metadata": {},
   "outputs": [
    {
     "name": "stdout",
     "output_type": "stream",
     "text": [
      "Epoch 1000/10000, Loss: 0.0556\n",
      "Epoch 2000/10000, Loss: 0.0312\n",
      "Epoch 3000/10000, Loss: 0.0209\n",
      "Epoch 4000/10000, Loss: 0.0155\n",
      "Epoch 5000/10000, Loss: 0.0122\n",
      "Epoch 6000/10000, Loss: 0.0100\n",
      "Epoch 7000/10000, Loss: 0.0084\n",
      "Epoch 8000/10000, Loss: 0.0073\n",
      "Epoch 9000/10000, Loss: 0.0064\n",
      "Epoch 10000/10000, Loss: 0.0057\n"
     ]
    }
   ],
   "source": [
    "import torch\n",
    "\n",
    "# 훈련 데이터\n",
    "x = torch.Tensor([[0,0], [0,1], [1,0], [1,1]])\n",
    "y = torch.Tensor([[0], [0], [0], [1]])\n",
    "\n",
    "# 모델 초기화\n",
    "w = torch.randn(2, 1, requires_grad=True)\n",
    "b = torch.randn(1, requires_grad=True)\n",
    "\n",
    "# 하이퍼파라미터 설정\n",
    "lr = 0.1\n",
    "epochs = 10000\n",
    "\n",
    "# 훈련\n",
    "for epoch in range(epochs):\n",
    "    # 순전파\n",
    "    y_pred = torch.sigmoid(x.mm(w) + b)\n",
    "    \n",
    "    # 손실 함수 계산\n",
    "    loss = torch.mean((y - y_pred)**2)\n",
    "    \n",
    "    # 기울기 계산 및 가중치 갱신\n",
    "    loss.backward()\n",
    "    with torch.no_grad():\n",
    "        w -= lr * w.grad\n",
    "        b -= lr * b.grad\n",
    "        \n",
    "        # 가중치 변화율 초기화\n",
    "        w.grad.zero_()\n",
    "        b.grad.zero_()\n",
    "        \n",
    "    if (epoch+1) % 1000 == 0:\n",
    "        print(f'Epoch {epoch+1}/{epochs}, Loss: {loss.item():.4f}')"
   ]
  },
  {
   "cell_type": "code",
   "execution_count": 2,
   "id": "ebd6956f",
   "metadata": {},
   "outputs": [
    {
     "name": "stdout",
     "output_type": "stream",
     "text": [
      "Accuracy: 1.0000\n"
     ]
    }
   ],
   "source": [
    "# 모델 평가\n",
    "with torch.no_grad():\n",
    "    y_pred = torch.sigmoid(x.mm(w) + b)\n",
    "    y_pred = torch.where(y_pred > 0.5, 1, 0)\n",
    "    accuracy = (y_pred == y).float().mean()\n",
    "    \n",
    "print(f'Accuracy: {accuracy.item():.4f}')"
   ]
  },
  {
   "cell_type": "code",
   "execution_count": null,
   "id": "0bc65ca7",
   "metadata": {},
   "outputs": [],
   "source": []
  }
 ],
 "metadata": {
  "kernelspec": {
   "display_name": "capybara",
   "language": "python",
   "name": "capybara"
  },
  "language_info": {
   "codemirror_mode": {
    "name": "ipython",
    "version": 3
   },
   "file_extension": ".py",
   "mimetype": "text/x-python",
   "name": "python",
   "nbconvert_exporter": "python",
   "pygments_lexer": "ipython3",
   "version": "3.8.16"
  }
 },
 "nbformat": 4,
 "nbformat_minor": 5
}
