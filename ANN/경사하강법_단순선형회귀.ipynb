{
 "cells": [
  {
   "cell_type": "markdown",
   "id": "5f7df1a0",
   "metadata": {},
   "source": [
    "# 인공신경망 - 경사 하강법을 이용한 선형 회귀 모델 구현 실습"
   ]
  },
  {
   "cell_type": "code",
   "execution_count": 1,
   "id": "72548002",
   "metadata": {},
   "outputs": [],
   "source": [
    "import numpy as np\n",
    "import matplotlib.pyplot as plt"
   ]
  },
  {
   "cell_type": "markdown",
   "id": "98bbddc2",
   "metadata": {},
   "source": [
    "### 데이터, 타겟 데이터 생성 , y=2x + 1 관계를 따르는 데이터 생성"
   ]
  },
  {
   "cell_type": "code",
   "execution_count": 2,
   "id": "90f7e890",
   "metadata": {},
   "outputs": [],
   "source": [
    "x = np.array([1,2,3,4,5])\n",
    "y = np.array([3,5,7,9,11])"
   ]
  },
  {
   "cell_type": "markdown",
   "id": "fa94ebea",
   "metadata": {},
   "source": [
    "### 모델 예측값과 실제값 사이의 오차를 계산하는 함수 정의"
   ]
  },
  {
   "cell_type": "code",
   "execution_count": 3,
   "id": "8393d897",
   "metadata": {},
   "outputs": [],
   "source": [
    "def compute_error(w0, w1, x, y) : \n",
    "    y_pred = w0 + w1 * x\n",
    "    error = y - y_pred\n",
    "    \n",
    "    return error"
   ]
  },
  {
   "cell_type": "markdown",
   "id": "48a9784e",
   "metadata": {},
   "source": [
    "### 경사 하강법을 수행하는 함수 정의"
   ]
  },
  {
   "cell_type": "code",
   "execution_count": 4,
   "id": "e7f78c31",
   "metadata": {},
   "outputs": [],
   "source": [
    "def gradient_descent(x, y, lr=0.05, iterations=1000): \n",
    "    n = len(x)\n",
    "    # w0 -> 절편 값 / w1 -> 기울기 값 \n",
    "    w0, w1 = 0, 0\n",
    "    \n",
    "    for i in range(iterations) : \n",
    "        error = compute_error(w0, w1, x, y)\n",
    "        w0 -= lr * (-2.0 / n) * np.sum(error) \n",
    "        w1 -= lr * (-2.0 / n) * np.sum(error * x)\n",
    "        \n",
    "    return w0, w1"
   ]
  },
  {
   "cell_type": "markdown",
   "id": "cac107eb",
   "metadata": {},
   "source": [
    "### 경사 하강법을 이용한 선형 회귀 모델 구현 시각화"
   ]
  },
  {
   "cell_type": "code",
   "execution_count": 5,
   "id": "f171007f",
   "metadata": {},
   "outputs": [
    {
     "name": "stdout",
     "output_type": "stream",
     "text": [
      "0.9999999836757114 2.0000000045215662\n"
     ]
    }
   ],
   "source": [
    "# 모델 학습 \n",
    "w0, w1 = gradient_descent(x, y)\n",
    "print(w0, w1)"
   ]
  },
  {
   "cell_type": "code",
   "execution_count": 6,
   "id": "2b0b5893",
   "metadata": {},
   "outputs": [
    {
     "data": {
      "image/png": "[encoded data removed]",
      "text/plain": [
       "<Figure size 640x480 with 1 Axes>"
      ]
     },
     "metadata": {},
     "output_type": "display_data"
    }
   ],
   "source": [
    "plt.scatter(x, y)\n",
    "plt.plot(x, w0+w1 * x, color='red')\n",
    "plt.show()"
   ]
  },
  {
   "cell_type": "code",
   "execution_count": null,
   "id": "6e62a370",
   "metadata": {},
   "outputs": [],
   "source": []
  }
 ],
 "metadata": {
  "kernelspec": {
   "display_name": "capybara",
   "language": "python",
   "name": "capybara"
  },
  "language_info": {
   "codemirror_mode": {
    "name": "ipython",
    "version": 3
   },
   "file_extension": ".py",
   "mimetype": "text/x-python",
   "name": "python",
   "nbconvert_exporter": "python",
   "pygments_lexer": "ipython3",
   "version": "3.8.16"
  }
 },
 "nbformat": 4,
 "nbformat_minor": 5
}
