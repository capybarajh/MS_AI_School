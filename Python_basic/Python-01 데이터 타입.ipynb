{
 "cells": [
  {
   "cell_type": "code",
   "execution_count": 1,
   "id": "ad959be0",
   "metadata": {},
   "outputs": [
    {
     "name": "stdout",
     "output_type": "stream",
     "text": [
      "Hello world\n"
     ]
    }
   ],
   "source": [
    "print(\"Hello world\")"
   ]
  },
  {
   "cell_type": "code",
   "execution_count": 2,
   "id": "a30e8db7",
   "metadata": {},
   "outputs": [
    {
     "name": "stdout",
     "output_type": "stream",
     "text": [
      "2 100\n"
     ]
    }
   ],
   "source": [
    "# 변수 규칙\n",
    "a = 1\n",
    "b = 2\n",
    "# 2a = 3 항상 변수는 문자로 시작해야한다.\n",
    "student_count = 100 # 가급적 풀 워드로 짓는다.\n",
    "address = '' # 가급적 정확한 영어로 짓는다.\n",
    "print(a * b, student_count)"
   ]
  },
  {
   "cell_type": "code",
   "execution_count": 3,
   "id": "474d954d",
   "metadata": {},
   "outputs": [
    {
     "name": "stdout",
     "output_type": "stream",
     "text": [
      "1\n"
     ]
    }
   ],
   "source": [
    "# 대소문자를 구별한다.\n",
    "friend = 1\n",
    "Friend = 10\n",
    "print(friend)"
   ]
  },
  {
   "cell_type": "code",
   "execution_count": 4,
   "id": "7040937a",
   "metadata": {},
   "outputs": [
    {
     "ename": "SyntaxError",
     "evalue": "invalid syntax (1697368483.py, line 2)",
     "output_type": "error",
     "traceback": [
      "\u001b[1;36m  Cell \u001b[1;32mIn[4], line 2\u001b[1;36m\u001b[0m\n\u001b[1;33m    for = 1\u001b[0m\n\u001b[1;37m        ^\u001b[0m\n\u001b[1;31mSyntaxError\u001b[0m\u001b[1;31m:\u001b[0m invalid syntax\n"
     ]
    }
   ],
   "source": [
    "# 예약어는 사용할 수 없다.\n",
    "for = 1"
   ]
  },
  {
   "cell_type": "code",
   "execution_count": 5,
   "id": "28ccd57d",
   "metadata": {},
   "outputs": [
    {
     "name": "stdout",
     "output_type": "stream",
     "text": [
      "2023 4\n"
     ]
    }
   ],
   "source": [
    "# 숫자형\n",
    "year = 2023\n",
    "month = 4\n",
    "print(year, month)"
   ]
  },
  {
   "cell_type": "code",
   "execution_count": 6,
   "id": "f2d60891",
   "metadata": {},
   "outputs": [
    {
     "name": "stdout",
     "output_type": "stream",
     "text": [
      "<class 'int'>\n"
     ]
    }
   ],
   "source": [
    "print(type(year))"
   ]
  },
  {
   "cell_type": "code",
   "execution_count": 7,
   "id": "63d92e2f",
   "metadata": {},
   "outputs": [
    {
     "name": "stdout",
     "output_type": "stream",
     "text": [
      "<class 'str'>\n"
     ]
    }
   ],
   "source": [
    "y = '이천이십삼년'\n",
    "print(type(y))"
   ]
  },
  {
   "cell_type": "code",
   "execution_count": 8,
   "id": "56b86627",
   "metadata": {},
   "outputs": [
    {
     "name": "stdout",
     "output_type": "stream",
     "text": [
      "8\n",
      "2\n",
      "16\n"
     ]
    }
   ],
   "source": [
    "# 8진수\n",
    "# 정수 앞에 0o를 붙이면 8진수\n",
    "print(0o10)\n",
    "# 정수 앞에 0b를 붙이면 2진수\n",
    "# 정수 앞에 0x를 붙이면 16진수\n",
    "print(0b10)\n",
    "print(0x10)"
   ]
  },
  {
   "cell_type": "code",
   "execution_count": 9,
   "id": "1ca1e811",
   "metadata": {},
   "outputs": [
    {
     "name": "stdout",
     "output_type": "stream",
     "text": [
      "0o46\n",
      "0x26\n",
      "0b100110\n"
     ]
    }
   ],
   "source": [
    "# 다음은 10진수를 받아서 각 진수로 변환하는 방법 (결과가 문자형)\n",
    "\n",
    "print(oct(38)) # 10진수 38을 8진수로 변환\n",
    "print(hex(38)) # 10진수 38을 16진수로 변환\n",
    "print(bin(38)) # 10진수 38을 2진수로 변환"
   ]
  },
  {
   "cell_type": "code",
   "execution_count": 10,
   "id": "f134f59a",
   "metadata": {},
   "outputs": [
    {
     "name": "stdout",
     "output_type": "stream",
     "text": [
      "<class 'int'>\n",
      "<class 'int'>\n"
     ]
    }
   ],
   "source": [
    "# 파이썬의 정수 타입\n",
    "print(type(1)) # int\n",
    "print(type(2**31)) # 2의 31승 파이썬 3.0 int 형으로 정수형 통합"
   ]
  },
  {
   "cell_type": "code",
   "execution_count": 11,
   "id": "1d6e5946",
   "metadata": {},
   "outputs": [
    {
     "name": "stdout",
     "output_type": "stream",
     "text": [
      "<class 'float'>\n",
      "<class 'float'>\n",
      "<class 'complex'>\n",
      "(3-4j)\n",
      "-4.0\n",
      "3.0\n",
      "(3+4j)\n"
     ]
    }
   ],
   "source": [
    "# 실수의 표현\n",
    "print(type(3.14))\n",
    "print(type(314e-2)) # 314e-2 = 3.14\n",
    "print(type(3 - 4j)) # 복소수\n",
    "x = 3 - 4j\n",
    "print(3 - 4j)\n",
    "print(x.imag) # imag는 허수부\n",
    "print(x.real) # real는 실수부\n",
    "print(x.conjugate()) # conjuage는 전체를 확인"
   ]
  },
  {
   "cell_type": "code",
   "execution_count": 12,
   "id": "d3dcc9b9",
   "metadata": {},
   "outputs": [
    {
     "name": "stdout",
     "output_type": "stream",
     "text": [
      "12.56\n",
      "6.0\n"
     ]
    }
   ],
   "source": [
    "# 원의 넓이와 삼각형 넓이 구하기\n",
    "r = 2\n",
    "circle_area = r ** 2 * 3.14\n",
    "print(circle_area)\n",
    "\n",
    "x = 3\n",
    "y = 4\n",
    "triangle_area = x * y / 2\n",
    "print(triangle_area)"
   ]
  },
  {
   "cell_type": "code",
   "execution_count": 13,
   "id": "9d51f68a",
   "metadata": {},
   "outputs": [
    {
     "name": "stdout",
     "output_type": "stream",
     "text": [
      "Hello world\n",
      "Hello world\n",
      "Welcome to 'Python World'\n"
     ]
    }
   ],
   "source": [
    "# 문자형 실습\n",
    "print('Hello world')\n",
    "print(\"Hello world\")\n",
    "print(\"Welcome to 'Python World'\")\n",
    "# 따옴표와 쌍다옴표 출력 결과 같지만 강조할 때는 섞어서 씀"
   ]
  },
  {
   "cell_type": "code",
   "execution_count": 14,
   "id": "2f14ef63",
   "metadata": {},
   "outputs": [
    {
     "name": "stdout",
     "output_type": "stream",
     "text": [
      "\n",
      "항상 태양을 바라보아라\n",
      "그리하면 너는 그림자를 볼 수 없을 것이다.\n",
      "\n",
      "                    - 헬렌켈러\n",
      "\n"
     ]
    }
   ],
   "source": [
    "print('''\n",
    "항상 태양을 바라보아라\n",
    "그리하면 너는 그림자를 볼 수 없을 것이다.\n",
    "\n",
    "                    - 헬렌켈러\n",
    "''')"
   ]
  },
  {
   "cell_type": "code",
   "execution_count": 15,
   "id": "3eb0f020",
   "metadata": {},
   "outputs": [
    {
     "name": "stdout",
     "output_type": "stream",
     "text": [
      "\t탭 \n",
      "다음줄\n"
     ]
    }
   ],
   "source": [
    "print('\\t탭 \\n다음줄')"
   ]
  },
  {
   "cell_type": "code",
   "execution_count": 16,
   "id": "c94676e0",
   "metadata": {},
   "outputs": [
    {
     "name": "stdout",
     "output_type": "stream",
     "text": [
      "python\n",
      "python\n"
     ]
    }
   ],
   "source": [
    "print('py' 'thon')\n",
    "print('py' + 'thon')"
   ]
  },
  {
   "cell_type": "code",
   "execution_count": 17,
   "id": "70042e96",
   "metadata": {},
   "outputs": [
    {
     "name": "stdout",
     "output_type": "stream",
     "text": [
      "pypypy\n"
     ]
    }
   ],
   "source": [
    "print('py' * 3)"
   ]
  },
  {
   "cell_type": "code",
   "execution_count": 18,
   "id": "de76fbee",
   "metadata": {},
   "outputs": [],
   "source": [
    "a = 'Python'"
   ]
  },
  {
   "cell_type": "code",
   "execution_count": 19,
   "id": "99f890ef",
   "metadata": {},
   "outputs": [
    {
     "name": "stdout",
     "output_type": "stream",
     "text": [
      "P\n",
      "y\n",
      "t\n"
     ]
    }
   ],
   "source": [
    "print(a[0])\n",
    "print(a[0+1])\n",
    "print(a[2])"
   ]
  },
  {
   "cell_type": "code",
   "execution_count": 20,
   "id": "807f81da",
   "metadata": {},
   "outputs": [
    {
     "ename": "TypeError",
     "evalue": "'str' object does not support item assignment",
     "output_type": "error",
     "traceback": [
      "\u001b[1;31m---------------------------------------------------------------------------\u001b[0m",
      "\u001b[1;31mTypeError\u001b[0m                                 Traceback (most recent call last)",
      "Cell \u001b[1;32mIn[20], line 1\u001b[0m\n\u001b[1;32m----> 1\u001b[0m a[\u001b[38;5;241m0\u001b[39m] \u001b[38;5;241m=\u001b[39m \u001b[38;5;124m'\u001b[39m\u001b[38;5;124mA\u001b[39m\u001b[38;5;124m'\u001b[39m\n",
      "\u001b[1;31mTypeError\u001b[0m: 'str' object does not support item assignment"
     ]
    }
   ],
   "source": [
    "a[0] = 'A' # index read-only 속성이라 수정은 불가능합니다."
   ]
  },
  {
   "cell_type": "code",
   "execution_count": 22,
   "id": "c5bd1c43",
   "metadata": {},
   "outputs": [
    {
     "name": "stdout",
     "output_type": "stream",
     "text": [
      "P\n",
      "yth\n",
      "Py\n",
      "thon\n",
      "on\n",
      "Python\n",
      "Pto\n"
     ]
    }
   ],
   "source": [
    "# index를 이용해서 범위를 설정할 수 있다.\n",
    "print(a[0:1])\n",
    "print(a[1:4])\n",
    "print(a[:2])   # 생략은 해당 방향의 끝을 나타낸다.\n",
    "print(a[2:])\n",
    "print(a[-2:])\n",
    "print(a[:])\n",
    "print(a[::2]) # p부터 시작해서 2씩 증가"
   ]
  },
  {
   "cell_type": "code",
   "execution_count": 23,
   "id": "9c0b5c8f",
   "metadata": {},
   "outputs": [
    {
     "name": "stdout",
     "output_type": "stream",
     "text": [
      "3.14\n",
      "49\n",
      "23.0\n"
     ]
    }
   ],
   "source": [
    "# 데이터 타입의 변환\n",
    "print(str(3.14)) # 문자형으로 변환\n",
    "print(int('49')) # 정수형으로 변환\n",
    "print(float(23)) # 실수형으로 변환"
   ]
  },
  {
   "cell_type": "code",
   "execution_count": null,
   "id": "9793d698",
   "metadata": {},
   "outputs": [],
   "source": []
  }
 ],
 "metadata": {
  "kernelspec": {
   "display_name": "Python 3 (ipykernel)",
   "language": "python",
   "name": "python3"
  },
  "language_info": {
   "codemirror_mode": {
    "name": "ipython",
    "version": 3
   },
   "file_extension": ".py",
   "mimetype": "text/x-python",
   "name": "python",
   "nbconvert_exporter": "python",
   "pygments_lexer": "ipython3",
   "version": "3.10.9"
  }
 },
 "nbformat": 4,
 "nbformat_minor": 5
}
