{
 "cells": [
  {
   "cell_type": "code",
   "execution_count": 1,
   "id": "182bbbde",
   "metadata": {},
   "outputs": [
    {
     "name": "stdout",
     "output_type": "stream",
     "text": [
      "['red', 'green', 'gold']\n",
      "<class 'list'>\n"
     ]
    }
   ],
   "source": [
    "# List\n",
    "colors = ['red', 'green', 'gold']\n",
    "print(colors)\n",
    "print(type(colors))"
   ]
  },
  {
   "cell_type": "code",
   "execution_count": 2,
   "id": "609ab27a",
   "metadata": {},
   "outputs": [
    {
     "name": "stdout",
     "output_type": "stream",
     "text": [
      "['red', 'green', 'gold', 'blue']\n"
     ]
    }
   ],
   "source": [
    "colors.append('blue')\n",
    "print(colors)"
   ]
  },
  {
   "cell_type": "code",
   "execution_count": 3,
   "id": "1f4b0d53",
   "metadata": {},
   "outputs": [
    {
     "name": "stdout",
     "output_type": "stream",
     "text": [
      "['red', 'black', 'green', 'gold', 'blue']\n"
     ]
    }
   ],
   "source": [
    "colors.insert(1,'black')\n",
    "print(colors)"
   ]
  },
  {
   "cell_type": "code",
   "execution_count": 4,
   "id": "b1cb191d",
   "metadata": {},
   "outputs": [
    {
     "name": "stdout",
     "output_type": "stream",
     "text": [
      "['red', 'black', 'green', 'gold', 'blue', 'white', 'gray']\n"
     ]
    }
   ],
   "source": [
    "colors.extend(['white','gray'])\n",
    "print(colors)"
   ]
  },
  {
   "cell_type": "code",
   "execution_count": 5,
   "id": "047a3ab0",
   "metadata": {},
   "outputs": [
    {
     "name": "stdout",
     "output_type": "stream",
     "text": [
      "['red', 'black', 'green', 'gold', 'blue', 'white', 'gray', 'red']\n"
     ]
    }
   ],
   "source": [
    "colors += ['red']\n",
    "# colors = colors + ['red'] 위랑 같은 문장\n",
    "print(colors)"
   ]
  },
  {
   "cell_type": "code",
   "execution_count": 6,
   "id": "cec15e0e",
   "metadata": {},
   "outputs": [],
   "source": [
    "colors += 'red' # r, e, d 가 따로따로 들어감"
   ]
  },
  {
   "cell_type": "code",
   "execution_count": 7,
   "id": "a7f01911",
   "metadata": {},
   "outputs": [
    {
     "name": "stdout",
     "output_type": "stream",
     "text": [
      "['red', 'black', 'green', 'gold', 'blue', 'white', 'gray', 'red', 'r', 'e', 'd']\n"
     ]
    }
   ],
   "source": [
    "print(colors)"
   ]
  },
  {
   "cell_type": "code",
   "execution_count": 8,
   "id": "36ab9d9a",
   "metadata": {},
   "outputs": [
    {
     "name": "stdout",
     "output_type": "stream",
     "text": [
      "0\n",
      "7\n",
      "2\n"
     ]
    }
   ],
   "source": [
    "print(colors.index('red'))\n",
    "print(colors.index('red',1)) # 다음 red 인덱스를 찾는 명령어\n",
    "print(colors.count('red'))"
   ]
  },
  {
   "cell_type": "code",
   "execution_count": 9,
   "id": "56099c90",
   "metadata": {},
   "outputs": [
    {
     "data": {
      "text/plain": [
       "'d'"
      ]
     },
     "execution_count": 9,
     "metadata": {},
     "output_type": "execute_result"
    }
   ],
   "source": [
    "colors.pop()"
   ]
  },
  {
   "cell_type": "code",
   "execution_count": 10,
   "id": "0730ff6a",
   "metadata": {},
   "outputs": [
    {
     "data": {
      "text/plain": [
       "'e'"
      ]
     },
     "execution_count": 10,
     "metadata": {},
     "output_type": "execute_result"
    }
   ],
   "source": [
    "colors.pop()"
   ]
  },
  {
   "cell_type": "code",
   "execution_count": 11,
   "id": "a1659ee6",
   "metadata": {},
   "outputs": [
    {
     "data": {
      "text/plain": [
       "'black'"
      ]
     },
     "execution_count": 11,
     "metadata": {},
     "output_type": "execute_result"
    }
   ],
   "source": [
    "colors.pop(1)"
   ]
  },
  {
   "cell_type": "code",
   "execution_count": 12,
   "id": "27ab8258",
   "metadata": {},
   "outputs": [
    {
     "name": "stdout",
     "output_type": "stream",
     "text": [
      "['red', 'green', 'gold', 'blue', 'white', 'gray', 'red', 'r']\n"
     ]
    }
   ],
   "source": [
    "print(colors)"
   ]
  },
  {
   "cell_type": "code",
   "execution_count": 13,
   "id": "6cc04aae",
   "metadata": {},
   "outputs": [
    {
     "name": "stdout",
     "output_type": "stream",
     "text": [
      "['red', 'green', 'blue', 'white', 'gray', 'red', 'r']\n"
     ]
    }
   ],
   "source": [
    "# remove는 해당 값을 삭제할 수 있습니다.\n",
    "colors.remove('gold')\n",
    "print(colors)"
   ]
  },
  {
   "cell_type": "code",
   "execution_count": 14,
   "id": "70e176aa",
   "metadata": {},
   "outputs": [
    {
     "name": "stdout",
     "output_type": "stream",
     "text": [
      "['blue', 'gray', 'green', 'r', 'red', 'red', 'white']\n",
      "['white', 'red', 'red', 'r', 'green', 'gray', 'blue']\n"
     ]
    }
   ],
   "source": [
    "# sort는 알파벳 순서대로 정렬한다.\n",
    "colors.sort()\n",
    "print(colors)\n",
    "colors.reverse()\n",
    "print(colors)"
   ]
  },
  {
   "cell_type": "code",
   "execution_count": 15,
   "id": "61b8d735",
   "metadata": {},
   "outputs": [],
   "source": [
    "# 리스트는 가장 무거운 객체\n",
    "\n",
    "# 세트(set) - 리스트보다 가벼운 객체\n",
    "a = {1,2,3}\n",
    "b = {3,4,5}"
   ]
  },
  {
   "cell_type": "code",
   "execution_count": 16,
   "id": "1979587b",
   "metadata": {},
   "outputs": [
    {
     "name": "stdout",
     "output_type": "stream",
     "text": [
      "{1, 2, 3} {3, 4, 5}\n",
      "<class 'set'>\n"
     ]
    }
   ],
   "source": [
    "print(a, b)\n",
    "print(type(a))"
   ]
  },
  {
   "cell_type": "code",
   "execution_count": 17,
   "id": "7edeae1b",
   "metadata": {},
   "outputs": [
    {
     "name": "stdout",
     "output_type": "stream",
     "text": [
      "{1, 2, 3, 4, 5}\n",
      "{3}\n"
     ]
    }
   ],
   "source": [
    "# 합집합, 교집합을 구할 수 있다.\n",
    "print(a.union(b)) # 합집합\n",
    "print(a.intersection(b)) # 교집합"
   ]
  },
  {
   "cell_type": "code",
   "execution_count": 18,
   "id": "9f5d945d",
   "metadata": {},
   "outputs": [
    {
     "name": "stdout",
     "output_type": "stream",
     "text": [
      "{1, 2}\n",
      "{1, 2, 3, 4, 5}\n",
      "{3}\n"
     ]
    }
   ],
   "source": [
    "print(a-b) # 차집합\n",
    "print(a|b) # 합집합\n",
    "print(a&b) # 교집합"
   ]
  },
  {
   "cell_type": "code",
   "execution_count": 19,
   "id": "b4c7b400",
   "metadata": {},
   "outputs": [
    {
     "name": "stdout",
     "output_type": "stream",
     "text": [
      "<class 'tuple'>\n"
     ]
    }
   ],
   "source": [
    "# 튜플(tuple) : 제일 가벼운 객체\n",
    "t = (1,2,3)\n",
    "print(type(t))"
   ]
  },
  {
   "cell_type": "code",
   "execution_count": 20,
   "id": "d81ff3b7",
   "metadata": {},
   "outputs": [
    {
     "name": "stdout",
     "output_type": "stream",
     "text": [
      "1 2\n"
     ]
    }
   ],
   "source": [
    "(a, b) = (1, 2)\n",
    "print(a, b)"
   ]
  },
  {
   "cell_type": "code",
   "execution_count": 21,
   "id": "2c425b9e",
   "metadata": {},
   "outputs": [
    {
     "name": "stdout",
     "output_type": "stream",
     "text": [
      "20 10\n"
     ]
    }
   ],
   "source": [
    "a = 10\n",
    "b = 20\n",
    "a, b = b, a # 튜플 괄호는 생략가능\n",
    "print(a, b)"
   ]
  },
  {
   "cell_type": "code",
   "execution_count": 22,
   "id": "3bd01800",
   "metadata": {},
   "outputs": [
    {
     "name": "stdout",
     "output_type": "stream",
     "text": [
      "<class 'set'>\n",
      "<class 'list'>\n",
      "<class 'tuple'>\n",
      "<class 'set'>\n"
     ]
    }
   ],
   "source": [
    "# 타입의 전환도 무척 간단하다.\n",
    "a = set((1,2,3))\n",
    "print(type(a))\n",
    "b = list(a)\n",
    "print(type(b))\n",
    "c = tuple(b)\n",
    "print(type(c))\n",
    "d = set(c)\n",
    "print(type(d))"
   ]
  },
  {
   "cell_type": "code",
   "execution_count": 23,
   "id": "d940149b",
   "metadata": {},
   "outputs": [
    {
     "name": "stdout",
     "output_type": "stream",
     "text": [
      "True\n"
     ]
    }
   ],
   "source": [
    "# in 연산자를 통해서 해당 값이 있는지 확인 가능하다.\n",
    "a = set((1,2,3))\n",
    "print(1 in a) # in 연산자는 데이터 타입에 상관없이 사용할 수 있다."
   ]
  },
  {
   "cell_type": "code",
   "execution_count": 24,
   "id": "926f8579",
   "metadata": {},
   "outputs": [
    {
     "name": "stdout",
     "output_type": "stream",
     "text": [
      "{'a': 1, 'b': 2, 'c': 3}\n",
      "<class 'dict'>\n"
     ]
    }
   ],
   "source": [
    "# 사전 (Dictionary)\n",
    "\n",
    "d = dict(a=1, b=2, c=3)\n",
    "print(d)\n",
    "print(type(d))"
   ]
  },
  {
   "cell_type": "code",
   "execution_count": 25,
   "id": "da6210a0",
   "metadata": {},
   "outputs": [
    {
     "name": "stdout",
     "output_type": "stream",
     "text": [
      "{'apple': 'red', 'banana': 'yellow'}\n"
     ]
    }
   ],
   "source": [
    "color = {'apple':'red', 'banana':'yellow'}\n",
    "print(color)"
   ]
  },
  {
   "cell_type": "code",
   "execution_count": 26,
   "id": "74803d60",
   "metadata": {},
   "outputs": [
    {
     "name": "stdout",
     "output_type": "stream",
     "text": [
      "red\n"
     ]
    }
   ],
   "source": [
    "print(color['apple'])\n",
    "# print(color[0]) # dict 타입은 인덱스 없다. set타입도 없음\n",
    "# print(color['cherry'])  # 없는 것을 물어도 예외가 발생된다."
   ]
  },
  {
   "cell_type": "code",
   "execution_count": 27,
   "id": "7f2b91e4",
   "metadata": {},
   "outputs": [
    {
     "name": "stdout",
     "output_type": "stream",
     "text": [
      "{'apple': 'red', 'banana': 'yellow', 'cherry': 'red'}\n"
     ]
    }
   ],
   "source": [
    "color['cherry'] = 'red'\n",
    "print(color)"
   ]
  },
  {
   "cell_type": "code",
   "execution_count": 28,
   "id": "d3371ba5",
   "metadata": {},
   "outputs": [
    {
     "name": "stdout",
     "output_type": "stream",
     "text": [
      "{'apple': 'green', 'banana': 'yellow', 'cherry': 'red'}\n"
     ]
    }
   ],
   "source": [
    "color['apple'] = 'green'\n",
    "print(color)"
   ]
  },
  {
   "cell_type": "code",
   "execution_count": 29,
   "id": "43eff937",
   "metadata": {},
   "outputs": [
    {
     "name": "stdout",
     "output_type": "stream",
     "text": [
      "dict_keys(['apple', 'banana', 'cherry'])\n",
      "dict_values(['green', 'yellow', 'red'])\n",
      "dict_items([('apple', 'green'), ('banana', 'yellow'), ('cherry', 'red')])\n"
     ]
    }
   ],
   "source": [
    "print(color.keys())\n",
    "print(color.values())\n",
    "print(color.items())"
   ]
  },
  {
   "cell_type": "code",
   "execution_count": 30,
   "id": "36d7ee70",
   "metadata": {},
   "outputs": [
    {
     "name": "stdout",
     "output_type": "stream",
     "text": [
      "apple\n",
      "banana\n",
      "cherry\n",
      "green\n",
      "yellow\n",
      "red\n",
      "('apple', 'green')\n",
      "('banana', 'yellow')\n",
      "('cherry', 'red')\n",
      "apple green\n",
      "banana yellow\n",
      "cherry red\n"
     ]
    }
   ],
   "source": [
    "# for 문을 사용해서 데이터 가져와보기\n",
    "for k in color.keys():\n",
    "    print(k)\n",
    "for tmp in color.values():\n",
    "    print(tmp)\n",
    "for i in color.items():\n",
    "    print(i)\n",
    "for (k, v) in color.items():\n",
    "    print(k, v)"
   ]
  },
  {
   "cell_type": "code",
   "execution_count": 31,
   "id": "894ef467",
   "metadata": {},
   "outputs": [
    {
     "name": "stdout",
     "output_type": "stream",
     "text": [
      "{'apple': 'green', 'banana': 'yellow'}\n"
     ]
    }
   ],
   "source": [
    "# Dict에서 불필요한 아이템의 삭제\n",
    "\n",
    "del color['cherry']\n",
    "print(color)"
   ]
  },
  {
   "cell_type": "code",
   "execution_count": 32,
   "id": "fd1f9dc1",
   "metadata": {},
   "outputs": [
    {
     "name": "stdout",
     "output_type": "stream",
     "text": [
      "{}\n"
     ]
    }
   ],
   "source": [
    "color.clear()\n",
    "print(color)"
   ]
  },
  {
   "cell_type": "code",
   "execution_count": 33,
   "id": "e1e35fa0",
   "metadata": {},
   "outputs": [
    {
     "name": "stdout",
     "output_type": "stream",
     "text": [
      "{'age': 40.5, 'job': [1, 2, 3], 'name': {'Kim': 2}, 'Cho': 1}\n"
     ]
    }
   ],
   "source": [
    "# 데이터 타입은 서로 혼용해서 사용하는 것이 가능하다.\n",
    "d = {'age': 40.5, 'job': [1,2,3], 'name': {'Kim':2}, 'Cho':1}\n",
    "print(d)"
   ]
  },
  {
   "cell_type": "code",
   "execution_count": 34,
   "id": "6c30ffce",
   "metadata": {},
   "outputs": [
    {
     "name": "stdout",
     "output_type": "stream",
     "text": [
      "<class 'bool'>\n"
     ]
    }
   ],
   "source": [
    "# bool 타입\n",
    "isRight = False\n",
    "print(type(isRight))"
   ]
  },
  {
   "cell_type": "code",
   "execution_count": 35,
   "id": "e8cbb168",
   "metadata": {},
   "outputs": [
    {
     "name": "stdout",
     "output_type": "stream",
     "text": [
      "True\n",
      "False\n",
      "True\n"
     ]
    }
   ],
   "source": [
    "print(1<2)\n",
    "print(1==2)\n",
    "print(1!=2)"
   ]
  },
  {
   "cell_type": "code",
   "execution_count": 36,
   "id": "b8573deb",
   "metadata": {},
   "outputs": [
    {
     "name": "stdout",
     "output_type": "stream",
     "text": [
      "False\n",
      "True\n",
      "True\n",
      "False\n",
      "False\n"
     ]
    }
   ],
   "source": [
    "# 논리 연산자\n",
    "print(True and False)\n",
    "print(True & True)\n",
    "print(True or False)\n",
    "print(False & False)\n",
    "print(not True)"
   ]
  },
  {
   "cell_type": "code",
   "execution_count": 37,
   "id": "e2db24af",
   "metadata": {},
   "outputs": [
    {
     "name": "stdout",
     "output_type": "stream",
     "text": [
      "[1, 2, 3]\n"
     ]
    }
   ],
   "source": [
    "# 얕은 복사와 깊은 복사\n",
    "\n",
    "a = [1,2,3]\n",
    "b = a\n",
    "print(b)"
   ]
  },
  {
   "cell_type": "code",
   "execution_count": 38,
   "id": "944f3386",
   "metadata": {},
   "outputs": [
    {
     "name": "stdout",
     "output_type": "stream",
     "text": [
      "[38, 2, 3]\n",
      "[38, 2, 3]\n"
     ]
    }
   ],
   "source": [
    "a[0] = 38\n",
    "print(a)\n",
    "print(b)"
   ]
  },
  {
   "cell_type": "code",
   "execution_count": 39,
   "id": "48241029",
   "metadata": {},
   "outputs": [
    {
     "name": "stdout",
     "output_type": "stream",
     "text": [
      "[38, 2, 3] [1, 2, 3]\n"
     ]
    }
   ],
   "source": [
    "# Call by value\n",
    "a = [1,2,3]\n",
    "b = a[:] # deep copy\n",
    "a[0] = 38\n",
    "print(a, b)"
   ]
  },
  {
   "cell_type": "code",
   "execution_count": 40,
   "id": "99e8d6dd",
   "metadata": {},
   "outputs": [
    {
     "name": "stdout",
     "output_type": "stream",
     "text": [
      "[38, 2, 3] [1, 2, 3]\n"
     ]
    }
   ],
   "source": [
    "# copy module을 사용하는 법\n",
    "\n",
    "import copy\n",
    "\n",
    "a = [1,2,3]\n",
    "b = copy.deepcopy(a)\n",
    "a[0] = 38\n",
    "print(a, b)"
   ]
  },
  {
   "cell_type": "code",
   "execution_count": null,
   "id": "4e972fc6",
   "metadata": {},
   "outputs": [],
   "source": []
  }
 ],
 "metadata": {
  "kernelspec": {
   "display_name": "Python 3 (ipykernel)",
   "language": "python",
   "name": "python3"
  },
  "language_info": {
   "codemirror_mode": {
    "name": "ipython",
    "version": 3
   },
   "file_extension": ".py",
   "mimetype": "text/x-python",
   "name": "python",
   "nbconvert_exporter": "python",
   "pygments_lexer": "ipython3",
   "version": "3.10.9"
  }
 },
 "nbformat": 4,
 "nbformat_minor": 5
}
