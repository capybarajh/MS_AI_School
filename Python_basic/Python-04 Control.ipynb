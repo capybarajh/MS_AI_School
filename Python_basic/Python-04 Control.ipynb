{
 "cells": [
  {
   "cell_type": "code",
   "execution_count": 1,
   "id": "87a4ee9f",
   "metadata": {},
   "outputs": [
    {
     "name": "stdout",
     "output_type": "stream",
     "text": [
      "value is bigger than 5\n"
     ]
    }
   ],
   "source": [
    "# 조건에 따라서 다른 결과를 얻기 위해서 사용하는 것\n",
    "\n",
    "value = 10\n",
    "if value > 5:\n",
    "    print('value is bigger than 5')"
   ]
  },
  {
   "cell_type": "code",
   "execution_count": 2,
   "id": "f8a99567",
   "metadata": {},
   "outputs": [
    {
     "name": "stdout",
     "output_type": "stream",
     "text": [
      "banana\n"
     ]
    }
   ],
   "source": [
    "money = 10\n",
    "if money > 100:\n",
    "    item = 'apple'\n",
    "else:\n",
    "    item = 'banana'\n",
    "    \n",
    "print(item)"
   ]
  },
  {
   "cell_type": "code",
   "execution_count": 3,
   "id": "4997b757",
   "metadata": {},
   "outputs": [
    {
     "name": "stdout",
     "output_type": "stream",
     "text": [
      "input your score:67\n",
      "Your score is 67\n",
      "Your grade is D\n"
     ]
    }
   ],
   "source": [
    "# 성적처리\n",
    "\n",
    "score = int(input(('input your score:')))\n",
    "\n",
    "if 90 <= score <= 100:\n",
    "    grade = 'A'\n",
    "elif 80 <= score < 90:\n",
    "    grade = 'B'\n",
    "elif 70 <= score < 80:\n",
    "    grade = 'C'\n",
    "elif 60 <= score < 70:\n",
    "    grade = 'D'\n",
    "else:\n",
    "    grade = 'F'\n",
    "    \n",
    "print('Your score is ' + str(score))\n",
    "print('Your grade is ' + grade)"
   ]
  },
  {
   "cell_type": "code",
   "execution_count": 4,
   "id": "a3f61962",
   "metadata": {},
   "outputs": [
    {
     "name": "stdout",
     "output_type": "stream",
     "text": [
      "True\n",
      "False\n",
      "True\n",
      "False\n",
      "True\n",
      "True\n",
      "False\n",
      "False\n"
     ]
    }
   ],
   "source": [
    "# 조건식의 참과 거짓\n",
    "\n",
    "print(bool(True))\n",
    "print(bool(False))\n",
    "print(bool(123)) # 0을 제외한 숫자를 넣으면 true가 나옴\n",
    "print(bool(0))\n",
    "print(bool(-1))\n",
    "print(bool('apple'))\n",
    "print(bool(''))\n",
    "print(bool()) # 내용이 없어도 False가 나옴"
   ]
  },
  {
   "cell_type": "code",
   "execution_count": 5,
   "id": "c5835490",
   "metadata": {},
   "outputs": [
    {
     "name": "stdout",
     "output_type": "stream",
     "text": [
      "5\n",
      "4\n",
      "3\n",
      "2\n",
      "1\n"
     ]
    }
   ],
   "source": [
    "# 반복문 (while and for)\n",
    "\n",
    "value = 5\n",
    "while value > 0:\n",
    "    print(value)\n",
    "    value -= 1"
   ]
  },
  {
   "cell_type": "code",
   "execution_count": 6,
   "id": "540176fd",
   "metadata": {},
   "outputs": [
    {
     "name": "stdout",
     "output_type": "stream",
     "text": [
      "Apple\n",
      "100\n",
      "15.23\n"
     ]
    }
   ],
   "source": [
    "l = ['Apple',100,15.23]\n",
    "for i in l:\n",
    "    print(i)"
   ]
  },
  {
   "cell_type": "code",
   "execution_count": 7,
   "id": "920427ca",
   "metadata": {},
   "outputs": [
    {
     "name": "stdout",
     "output_type": "stream",
     "text": [
      "2 * 1 = 2\n",
      "2 * 2 = 4\n",
      "2 * 3 = 6\n",
      "2 * 4 = 8\n",
      "2 * 5 = 10\n",
      "2 * 6 = 12\n",
      "2 * 7 = 14\n",
      "2 * 8 = 16\n",
      "2 * 9 = 18\n"
     ]
    }
   ],
   "source": [
    "loop1 = [2,3,4,5,6,7,8,9]\n",
    "loop2 = [1,2,3,4,5,6,7,8,9]\n",
    "\n",
    "for i in loop2:\n",
    "    print(\"2 * \" + str(i) + \" = \" + str(2*i))"
   ]
  },
  {
   "cell_type": "code",
   "execution_count": 8,
   "id": "dc097095",
   "metadata": {},
   "outputs": [
    {
     "name": "stdout",
     "output_type": "stream",
     "text": [
      "2 * 1 = 2\n",
      "2 * 2 = 4\n",
      "2 * 3 = 6\n",
      "2 * 4 = 8\n",
      "2 * 5 = 10\n",
      "2 * 6 = 12\n",
      "2 * 7 = 14\n",
      "2 * 8 = 16\n",
      "2 * 9 = 18\n"
     ]
    }
   ],
   "source": [
    "for i in loop2:\n",
    "    print(\"2 * {0} = {1}\".format(i, i*2))"
   ]
  },
  {
   "cell_type": "code",
   "execution_count": 10,
   "id": "5f0de87d",
   "metadata": {},
   "outputs": [
    {
     "name": "stdout",
     "output_type": "stream",
     "text": [
      "2 단-------------\n",
      "2 * 1 = 2\n",
      "2 * 2 = 4\n",
      "2 * 3 = 6\n",
      "2 * 4 = 8\n",
      "2 * 5 = 10\n",
      "2 * 6 = 12\n",
      "2 * 7 = 14\n",
      "2 * 8 = 16\n",
      "2 * 9 = 18\n",
      "3 단-------------\n",
      "3 * 1 = 3\n",
      "3 * 2 = 6\n",
      "3 * 3 = 9\n",
      "3 * 4 = 12\n",
      "3 * 5 = 15\n",
      "3 * 6 = 18\n",
      "3 * 7 = 21\n",
      "3 * 8 = 24\n",
      "3 * 9 = 27\n",
      "4 단-------------\n",
      "4 * 1 = 4\n",
      "4 * 2 = 8\n",
      "4 * 3 = 12\n",
      "4 * 4 = 16\n",
      "4 * 5 = 20\n",
      "4 * 6 = 24\n",
      "4 * 7 = 28\n",
      "4 * 8 = 32\n",
      "4 * 9 = 36\n",
      "5 단-------------\n",
      "5 * 1 = 5\n",
      "5 * 2 = 10\n",
      "5 * 3 = 15\n",
      "5 * 4 = 20\n",
      "5 * 5 = 25\n",
      "5 * 6 = 30\n",
      "5 * 7 = 35\n",
      "5 * 8 = 40\n",
      "5 * 9 = 45\n",
      "6 단-------------\n",
      "6 * 1 = 6\n",
      "6 * 2 = 12\n",
      "6 * 3 = 18\n",
      "6 * 4 = 24\n",
      "6 * 5 = 30\n",
      "6 * 6 = 36\n",
      "6 * 7 = 42\n",
      "6 * 8 = 48\n",
      "6 * 9 = 54\n",
      "7 단-------------\n",
      "7 * 1 = 7\n",
      "7 * 2 = 14\n",
      "7 * 3 = 21\n",
      "7 * 4 = 28\n",
      "7 * 5 = 35\n",
      "7 * 6 = 42\n",
      "7 * 7 = 49\n",
      "7 * 8 = 56\n",
      "7 * 9 = 63\n",
      "8 단-------------\n",
      "8 * 1 = 8\n",
      "8 * 2 = 16\n",
      "8 * 3 = 24\n",
      "8 * 4 = 32\n",
      "8 * 5 = 40\n",
      "8 * 6 = 48\n",
      "8 * 7 = 56\n",
      "8 * 8 = 64\n",
      "8 * 9 = 72\n",
      "9 단-------------\n",
      "9 * 1 = 9\n",
      "9 * 2 = 18\n",
      "9 * 3 = 27\n",
      "9 * 4 = 36\n",
      "9 * 5 = 45\n",
      "9 * 6 = 54\n",
      "9 * 7 = 63\n",
      "9 * 8 = 72\n",
      "9 * 9 = 81\n"
     ]
    }
   ],
   "source": [
    "loop1 = [2,3,4,5,6,7,8,9]\n",
    "loop2 = [1,2,3,4,5,6,7,8,9]\n",
    "for i in loop1:\n",
    "    print('{0} 단-------------'.format(i))\n",
    "    for j in loop2:\n",
    "        print(\"{0} * {1} = {2}\".format(i, j, i*j))"
   ]
  },
  {
   "cell_type": "code",
   "execution_count": 11,
   "id": "23e7d4bb",
   "metadata": {},
   "outputs": [],
   "source": [
    "L = [1,2,3,4,5,6,7,8,9,10]"
   ]
  },
  {
   "cell_type": "code",
   "execution_count": 14,
   "id": "5fc55a05",
   "metadata": {},
   "outputs": [
    {
     "name": "stdout",
     "output_type": "stream",
     "text": [
      "Item:1\n",
      "Item:2\n",
      "Item:3\n",
      "Item:4\n",
      "Item:5\n"
     ]
    }
   ],
   "source": [
    "# break문을 사용하면 반복문을 중간에 멈출 수 있습니다.\n",
    "\n",
    "for i in L:\n",
    "    if i>5:\n",
    "        break\n",
    "    print('Item:{0}'.format(i))"
   ]
  },
  {
   "cell_type": "code",
   "execution_count": 17,
   "id": "71071975",
   "metadata": {},
   "outputs": [
    {
     "name": "stdout",
     "output_type": "stream",
     "text": [
      "Item 1\n",
      "Item 3\n",
      "Item 5\n",
      "Item 7\n",
      "Item 9\n"
     ]
    }
   ],
   "source": [
    "# continue문을 사용하면 해당 반복만 건너뛴다.\n",
    "for i in L:\n",
    "    if i % 2 == 0:\n",
    "        continue\n",
    "    print('Item {0}'.format(i))"
   ]
  },
  {
   "cell_type": "code",
   "execution_count": 21,
   "id": "3591e38a",
   "metadata": {},
   "outputs": [
    {
     "name": "stdout",
     "output_type": "stream",
     "text": [
      "[0, 1, 2, 3, 4, 5, 6, 7, 8, 9]\n",
      "[5, 6, 7, 8, 9]\n",
      "[10, 9, 8, 7, 6, 5, 4, 3, 2, 1]\n",
      "[0, 2, 4, 6, 8]\n"
     ]
    }
   ],
   "source": [
    "# range 함수를 사용하면 특정 범위의 숫자를 생성할 수 있다.\n",
    "print(list(range(10)))\n",
    "print(list(range(5,10)))\n",
    "print(list(range(10,0,-1))) # -1의 위치는 증가값\n",
    "print(list(range(0,10,2)))"
   ]
  },
  {
   "cell_type": "code",
   "execution_count": 22,
   "id": "a3f32817",
   "metadata": {},
   "outputs": [
    {
     "name": "stdout",
     "output_type": "stream",
     "text": [
      "Apple\n",
      "Orange\n",
      "Banana\n"
     ]
    }
   ],
   "source": [
    "L =['Apple', 'Orange', 'Banana']\n",
    "\n",
    "for i in L:\n",
    "    print(i)"
   ]
  },
  {
   "cell_type": "code",
   "execution_count": 23,
   "id": "7da78500",
   "metadata": {},
   "outputs": [],
   "source": [
    "l = list(range(1,6))"
   ]
  },
  {
   "cell_type": "code",
   "execution_count": 25,
   "id": "cedcead1",
   "metadata": {},
   "outputs": [
    {
     "data": {
      "text/plain": [
       "[1, 4, 9, 16, 25]"
      ]
     },
     "execution_count": 25,
     "metadata": {},
     "output_type": "execute_result"
    }
   ],
   "source": [
    "[i**2 for i in l]"
   ]
  },
  {
   "cell_type": "code",
   "execution_count": null,
   "id": "5d8e12d4",
   "metadata": {},
   "outputs": [],
   "source": []
  }
 ],
 "metadata": {
  "kernelspec": {
   "display_name": "Python 3 (ipykernel)",
   "language": "python",
   "name": "python3"
  },
  "language_info": {
   "codemirror_mode": {
    "name": "ipython",
    "version": 3
   },
   "file_extension": ".py",
   "mimetype": "text/x-python",
   "name": "python",
   "nbconvert_exporter": "python",
   "pygments_lexer": "ipython3",
   "version": "3.10.9"
  }
 },
 "nbformat": 4,
 "nbformat_minor": 5
}
