{
 "cells": [
  {
   "cell_type": "code",
   "execution_count": 1,
   "id": "cb450930",
   "metadata": {},
   "outputs": [],
   "source": [
    "# Class의 사용법\n",
    "\n",
    "class MyClass:\n",
    "    pass # 구현못하고 임시로 뭔가 동작시킬 때 쓰는 코드(빈 클래스에서 주로 사용)"
   ]
  },
  {
   "cell_type": "code",
   "execution_count": 2,
   "id": "008960bd",
   "metadata": {},
   "outputs": [
    {
     "name": "stdout",
     "output_type": "stream",
     "text": [
      "<class '__main__.MyClass'>\n"
     ]
    }
   ],
   "source": [
    "print(MyClass)"
   ]
  },
  {
   "cell_type": "code",
   "execution_count": 3,
   "id": "248287b2",
   "metadata": {},
   "outputs": [
    {
     "name": "stdout",
     "output_type": "stream",
     "text": [
      "2061970975744\n"
     ]
    }
   ],
   "source": [
    "print(id(MyClass))"
   ]
  },
  {
   "cell_type": "code",
   "execution_count": 4,
   "id": "52a41474",
   "metadata": {},
   "outputs": [],
   "source": [
    "class Person:\n",
    "    Name = 'Default Name'\n",
    "    \n",
    "    def Print(self):\n",
    "        print('My Name is {0}'.format(self.Name))"
   ]
  },
  {
   "cell_type": "code",
   "execution_count": 5,
   "id": "ece97487",
   "metadata": {},
   "outputs": [],
   "source": [
    "p1 = Person()"
   ]
  },
  {
   "cell_type": "code",
   "execution_count": 6,
   "id": "47b17955",
   "metadata": {},
   "outputs": [
    {
     "name": "stdout",
     "output_type": "stream",
     "text": [
      "My Name is 윤하\n"
     ]
    }
   ],
   "source": [
    "p1.Name = '윤하'\n",
    "p1.Print()"
   ]
  },
  {
   "cell_type": "code",
   "execution_count": 7,
   "id": "1dfe8cfd",
   "metadata": {},
   "outputs": [],
   "source": [
    "p1 = Person()\n",
    "p2 = Person()"
   ]
  },
  {
   "cell_type": "code",
   "execution_count": 8,
   "id": "a1d190f7",
   "metadata": {},
   "outputs": [
    {
     "name": "stdout",
     "output_type": "stream",
     "text": [
      "My Name is 박보검\n",
      "My Name is 민아\n"
     ]
    }
   ],
   "source": [
    "p1.Name = '박보검'\n",
    "p2.Name = '민아'\n",
    "p1.Print()\n",
    "p2.Print()"
   ]
  },
  {
   "cell_type": "code",
   "execution_count": 9,
   "id": "85c4048f",
   "metadata": {},
   "outputs": [],
   "source": [
    "Person.Title = 'New Title'"
   ]
  },
  {
   "cell_type": "code",
   "execution_count": 10,
   "id": "f0a7bd20",
   "metadata": {},
   "outputs": [
    {
     "name": "stdout",
     "output_type": "stream",
     "text": [
      "New Title\n",
      "New Title\n"
     ]
    }
   ],
   "source": [
    "print(p1.Title)\n",
    "print(p2.Title)"
   ]
  },
  {
   "cell_type": "code",
   "execution_count": 11,
   "id": "b24110fc",
   "metadata": {},
   "outputs": [],
   "source": [
    "p1.Age = 30"
   ]
  },
  {
   "cell_type": "code",
   "execution_count": 12,
   "id": "a289c84e",
   "metadata": {},
   "outputs": [
    {
     "name": "stdout",
     "output_type": "stream",
     "text": [
      "30\n"
     ]
    },
    {
     "ename": "AttributeError",
     "evalue": "'Person' object has no attribute 'Age'",
     "output_type": "error",
     "traceback": [
      "\u001b[1;31m---------------------------------------------------------------------------\u001b[0m",
      "\u001b[1;31mAttributeError\u001b[0m                            Traceback (most recent call last)",
      "Cell \u001b[1;32mIn[12], line 2\u001b[0m\n\u001b[0;32m      1\u001b[0m \u001b[38;5;28mprint\u001b[39m(p1\u001b[38;5;241m.\u001b[39mAge)\n\u001b[1;32m----> 2\u001b[0m \u001b[38;5;28mprint\u001b[39m(\u001b[43mp2\u001b[49m\u001b[38;5;241;43m.\u001b[39;49m\u001b[43mAge\u001b[49m)\n",
      "\u001b[1;31mAttributeError\u001b[0m: 'Person' object has no attribute 'Age'"
     ]
    }
   ],
   "source": [
    "print(p1.Age)\n",
    "print(p2.Age)"
   ]
  },
  {
   "cell_type": "code",
   "execution_count": 13,
   "id": "16b6cf1e",
   "metadata": {},
   "outputs": [],
   "source": [
    "# Class의 상속\n",
    "class Person:\n",
    "    pass"
   ]
  },
  {
   "cell_type": "code",
   "execution_count": 14,
   "id": "033b1cf6",
   "metadata": {},
   "outputs": [],
   "source": [
    "class Student(Person):\n",
    "    pass"
   ]
  },
  {
   "cell_type": "code",
   "execution_count": 15,
   "id": "2d54da13",
   "metadata": {},
   "outputs": [],
   "source": [
    "class Bird:\n",
    "    pass"
   ]
  },
  {
   "cell_type": "code",
   "execution_count": 16,
   "id": "c30c6d4d",
   "metadata": {},
   "outputs": [],
   "source": [
    "p = Person()\n",
    "s = Student()"
   ]
  },
  {
   "cell_type": "code",
   "execution_count": 17,
   "id": "de17e554",
   "metadata": {},
   "outputs": [
    {
     "data": {
      "text/plain": [
       "True"
      ]
     },
     "execution_count": 17,
     "metadata": {},
     "output_type": "execute_result"
    }
   ],
   "source": [
    "# isinstance 인스턴스 관계를 확인하는 함수\n",
    "isinstance(p, Person)\n",
    "isinstance(s, Person)\n",
    "isinstance(s, object)\n",
    "isinstance(int, object)"
   ]
  },
  {
   "cell_type": "code",
   "execution_count": 18,
   "id": "7437b0ee",
   "metadata": {},
   "outputs": [],
   "source": [
    "# 생성자 소멸자 메소드\n",
    "class MyClass:\n",
    "    def __init__(self):                         # 생성자\n",
    "        print('class is created')"
   ]
  },
  {
   "cell_type": "code",
   "execution_count": 19,
   "id": "15e63018",
   "metadata": {},
   "outputs": [
    {
     "name": "stdout",
     "output_type": "stream",
     "text": [
      "class is created\n"
     ]
    }
   ],
   "source": [
    "my = MyClass()\n",
    "del my"
   ]
  },
  {
   "cell_type": "code",
   "execution_count": 20,
   "id": "f642bde4",
   "metadata": {},
   "outputs": [],
   "source": [
    "class Person:\n",
    "    Name = ''\n",
    "    Age = 0\n",
    "    def __init__(self, name, age):\n",
    "        self.Name = name\n",
    "        self.Age = age\n",
    "    def __del__(self):\n",
    "        print('{0} 잘살다 갑니다.'.format(self.Name))\n",
    "    def PrintName(self):\n",
    "        print(self.Name)\n",
    "        print(self.Age)"
   ]
  },
  {
   "cell_type": "code",
   "execution_count": 21,
   "id": "dfa79ed1",
   "metadata": {},
   "outputs": [
    {
     "name": "stdout",
     "output_type": "stream",
     "text": [
      "황비홍\n",
      "40\n",
      "황비홍 잘살다 갑니다.\n"
     ]
    }
   ],
   "source": [
    "p = Person('황비홍',40)\n",
    "p.PrintName()\n",
    "del p"
   ]
  },
  {
   "cell_type": "code",
   "execution_count": 22,
   "id": "73d413c0",
   "metadata": {},
   "outputs": [],
   "source": [
    "# 정적(Static) 메소드\n",
    "class CounterManager:\n",
    "    InsCount = 0\n",
    "    \n",
    "    def __init__(self):\n",
    "        CounterManager.InsCount += 1\n",
    "    def PrintInstanceCount():                  # 정적 메소드로 전환\n",
    "        print('Instance Count:', CounterManager.InsCount)\n",
    "    \n",
    "    StaticCount = staticmethod(PrintInstanceCount)"
   ]
  },
  {
   "cell_type": "code",
   "execution_count": 23,
   "id": "11e77c68",
   "metadata": {},
   "outputs": [],
   "source": [
    "a = CounterManager()\n",
    "b = CounterManager()\n",
    "c = CounterManager()"
   ]
  },
  {
   "cell_type": "code",
   "execution_count": 24,
   "id": "16cdd271",
   "metadata": {},
   "outputs": [
    {
     "name": "stdout",
     "output_type": "stream",
     "text": [
      "Instance Count: 3\n"
     ]
    }
   ],
   "source": [
    "CounterManager.PrintInstanceCount()    # class 직접 사용하는 것은 금기"
   ]
  },
  {
   "cell_type": "code",
   "execution_count": 25,
   "id": "551d4440",
   "metadata": {},
   "outputs": [
    {
     "name": "stdout",
     "output_type": "stream",
     "text": [
      "Instance Count: 4\n"
     ]
    }
   ],
   "source": [
    "p = CounterManager()\n",
    "p.StaticCount()"
   ]
  },
  {
   "cell_type": "code",
   "execution_count": 26,
   "id": "dd760549",
   "metadata": {},
   "outputs": [],
   "source": [
    "# 상속의 심화\n",
    "class Person:\n",
    "    \n",
    "    def __init__(self, name, phone):\n",
    "        self.Name = name\n",
    "        self.Phone = phone\n",
    "        \n",
    "    def PrintInfo(self):\n",
    "        print('Info(Name: {0}, Phone {1}'.format(self.Name, self.Phone))\n",
    "        \n",
    "    def PrintPersonData(self):\n",
    "        print('Person(Name: {0}, Phone {1}'.format(self.Name, self.Phone))"
   ]
  },
  {
   "cell_type": "code",
   "execution_count": 27,
   "id": "7a85d5bc",
   "metadata": {},
   "outputs": [],
   "source": [
    "class Student(Person):\n",
    "    def __init__(self, name, phone, subject, studentID):\n",
    "        self.Name = name\n",
    "        self.Phone = phone\n",
    "        self.Subject = subject\n",
    "        self.StudentID = studentID"
   ]
  },
  {
   "cell_type": "code",
   "execution_count": 28,
   "id": "ff8505ee",
   "metadata": {},
   "outputs": [],
   "source": [
    "p = Person('박보검', '010-1111-1111')\n",
    "s = Student('민아', '010-2222-2222','학생회장','0001')"
   ]
  },
  {
   "cell_type": "code",
   "execution_count": 29,
   "id": "30ab80f4",
   "metadata": {},
   "outputs": [
    {
     "name": "stdout",
     "output_type": "stream",
     "text": [
      "{'Name': '박보검', 'Phone': '010-1111-1111'}\n",
      "{'Name': '민아', 'Phone': '010-2222-2222', 'Subject': '학생회장', 'StudentID': '0001'}\n"
     ]
    }
   ],
   "source": [
    "print(p.__dict__)\n",
    "print(s.__dict__)"
   ]
  },
  {
   "cell_type": "code",
   "execution_count": 30,
   "id": "741de76e",
   "metadata": {},
   "outputs": [
    {
     "name": "stdout",
     "output_type": "stream",
     "text": [
      "Info(Name: 민아, Phone 010-2222-2222\n"
     ]
    }
   ],
   "source": [
    "s.PrintInfo()"
   ]
  },
  {
   "cell_type": "code",
   "execution_count": 31,
   "id": "8b12a22d",
   "metadata": {},
   "outputs": [
    {
     "data": {
      "text/plain": [
       "True"
      ]
     },
     "execution_count": 31,
     "metadata": {},
     "output_type": "execute_result"
    }
   ],
   "source": [
    "# 상속관계를 확인\n",
    "issubclass(Student, Person)"
   ]
  },
  {
   "cell_type": "code",
   "execution_count": 32,
   "id": "1d64b2fb",
   "metadata": {},
   "outputs": [
    {
     "data": {
      "text/plain": [
       "False"
      ]
     },
     "execution_count": 32,
     "metadata": {},
     "output_type": "execute_result"
    }
   ],
   "source": [
    "issubclass(Person, Student)"
   ]
  },
  {
   "cell_type": "code",
   "execution_count": 33,
   "id": "550d8e38",
   "metadata": {},
   "outputs": [],
   "source": [
    "class Student(Person):\n",
    "    def __init__(self, name, phone, subject, studentID):\n",
    "        self.Name = name\n",
    "        self.Phone = phone\n",
    "        self.Subject = subject\n",
    "        self.StudentID = studentID\n",
    "        \n",
    "        Person.__init__(self, name, phone)\n",
    "        \n",
    "    def PrintStudentData(self):\n",
    "        print('Student(Name {0}, StudentID {1})'.format(self.Name, self.StudentID))\n",
    "        \n",
    "    def PrintPersonData(self):\n",
    "        print('{0}님의 전공은 {1}입니다'.format(self.Name, self.Subject))"
   ]
  },
  {
   "cell_type": "code",
   "execution_count": 34,
   "id": "73a8da36",
   "metadata": {},
   "outputs": [
    {
     "name": "stdout",
     "output_type": "stream",
     "text": [
      "Student(Name 민아, StudentID 0001)\n"
     ]
    }
   ],
   "source": [
    "s = Student('민아', '010-2222-2222', 'Computer', '0001')\n",
    "s.PrintStudentData()"
   ]
  },
  {
   "cell_type": "code",
   "execution_count": 35,
   "id": "3f653b65",
   "metadata": {},
   "outputs": [],
   "source": [
    "# 다중 상속\n",
    "\n",
    "class Tiger:\n",
    "    def Jump(self):\n",
    "        print('호랑이 점프')"
   ]
  },
  {
   "cell_type": "code",
   "execution_count": 36,
   "id": "ae9a15d1",
   "metadata": {},
   "outputs": [],
   "source": [
    "class Lion:\n",
    "    def Bite(self):\n",
    "        print('사자의 물기')"
   ]
  },
  {
   "cell_type": "code",
   "execution_count": 37,
   "id": "34e57458",
   "metadata": {},
   "outputs": [],
   "source": [
    "class Liger(Tiger, Lion):\n",
    "    def Play(self):\n",
    "        print('라이거의 놀기')"
   ]
  },
  {
   "cell_type": "code",
   "execution_count": 38,
   "id": "ed954a3c",
   "metadata": {},
   "outputs": [
    {
     "name": "stdout",
     "output_type": "stream",
     "text": [
      "호랑이 점프\n",
      "None\n",
      "사자의 물기\n",
      "None\n",
      "라이거의 놀기\n",
      "None\n"
     ]
    }
   ],
   "source": [
    "l = Liger()\n",
    "print(l.Jump())\n",
    "print(l.Bite())\n",
    "print(l.Play())"
   ]
  },
  {
   "cell_type": "code",
   "execution_count": null,
   "id": "df896dc9",
   "metadata": {},
   "outputs": [],
   "source": []
  }
 ],
 "metadata": {
  "kernelspec": {
   "display_name": "Python 3 (ipykernel)",
   "language": "python",
   "name": "python3"
  },
  "language_info": {
   "codemirror_mode": {
    "name": "ipython",
    "version": 3
   },
   "file_extension": ".py",
   "mimetype": "text/x-python",
   "name": "python",
   "nbconvert_exporter": "python",
   "pygments_lexer": "ipython3",
   "version": "3.10.9"
  }
 },
 "nbformat": 4,
 "nbformat_minor": 5
}
