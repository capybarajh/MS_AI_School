{
 "cells": [
  {
   "cell_type": "code",
   "execution_count": 1,
   "id": "4b267789",
   "metadata": {},
   "outputs": [],
   "source": [
    "# Function\n",
    "def Times(a,b):\n",
    "    result = a * b\n",
    "    return result"
   ]
  },
  {
   "cell_type": "code",
   "execution_count": 2,
   "id": "efda2c63",
   "metadata": {},
   "outputs": [
    {
     "name": "stdout",
     "output_type": "stream",
     "text": [
      "<function Times at 0x0000017B458BD120>\n"
     ]
    }
   ],
   "source": [
    "print(Times)"
   ]
  },
  {
   "cell_type": "code",
   "execution_count": 3,
   "id": "a8957c60",
   "metadata": {},
   "outputs": [
    {
     "name": "stdout",
     "output_type": "stream",
     "text": [
      "200\n"
     ]
    }
   ],
   "source": [
    "print(Times(10,20))"
   ]
  },
  {
   "cell_type": "code",
   "execution_count": 4,
   "id": "d4bc3bd4",
   "metadata": {},
   "outputs": [
    {
     "name": "stdout",
     "output_type": "stream",
     "text": [
      "1628959396128\n"
     ]
    }
   ],
   "source": [
    "# 메모리 주소를 확인하는 명령\n",
    "print(id(Times))"
   ]
  },
  {
   "cell_type": "code",
   "execution_count": 5,
   "id": "1dcf520c",
   "metadata": {},
   "outputs": [
    {
     "data": {
      "text/plain": [
       "{'__name__': '__main__',\n",
       " '__doc__': 'Automatically created module for IPython interactive environment',\n",
       " '__package__': None,\n",
       " '__loader__': None,\n",
       " '__spec__': None,\n",
       " '__builtin__': <module 'builtins' (built-in)>,\n",
       " '__builtins__': <module 'builtins' (built-in)>,\n",
       " '_ih': ['',\n",
       "  '# Function\\ndef Times(a,b):\\n    result = a * b\\n    return result',\n",
       "  'print(Times)',\n",
       "  'print(Times(10,20))',\n",
       "  '# 메모리 주소를 확인하는 명령\\nprint(id(Times))',\n",
       "  'globals()'],\n",
       " '_oh': {},\n",
       " '_dh': [WindowsPath('C:/Users/ljh29/OneDrive/바탕 화면/MS AI School/Python')],\n",
       " 'In': ['',\n",
       "  '# Function\\ndef Times(a,b):\\n    result = a * b\\n    return result',\n",
       "  'print(Times)',\n",
       "  'print(Times(10,20))',\n",
       "  '# 메모리 주소를 확인하는 명령\\nprint(id(Times))',\n",
       "  'globals()'],\n",
       " 'Out': {},\n",
       " 'get_ipython': <bound method InteractiveShell.get_ipython of <ipykernel.zmqshell.ZMQInteractiveShell object at 0x0000017B4546ADA0>>,\n",
       " 'exit': <IPython.core.autocall.ZMQExitAutocall at 0x17b45468f70>,\n",
       " 'quit': <IPython.core.autocall.ZMQExitAutocall at 0x17b45468f70>,\n",
       " 'open': <function io.open(file, mode='r', buffering=-1, encoding=None, errors=None, newline=None, closefd=True, opener=None)>,\n",
       " '_': '',\n",
       " '__': '',\n",
       " '___': '',\n",
       " '_i': '# 메모리 주소를 확인하는 명령\\nprint(id(Times))',\n",
       " '_ii': 'print(Times(10,20))',\n",
       " '_iii': 'print(Times)',\n",
       " '_i1': '# Function\\ndef Times(a,b):\\n    result = a * b\\n    return result',\n",
       " 'Times': <function __main__.Times(a, b)>,\n",
       " '_i2': 'print(Times)',\n",
       " '_i3': 'print(Times(10,20))',\n",
       " '_i4': '# 메모리 주소를 확인하는 명령\\nprint(id(Times))',\n",
       " '_i5': 'globals()'}"
      ]
     },
     "execution_count": 5,
     "metadata": {},
     "output_type": "execute_result"
    }
   ],
   "source": [
    "globals()"
   ]
  },
  {
   "cell_type": "code",
   "execution_count": 6,
   "id": "98b1efb5",
   "metadata": {},
   "outputs": [
    {
     "name": "stdout",
     "output_type": "stream",
     "text": [
      "200\n"
     ]
    }
   ],
   "source": [
    "myTimes = Times\n",
    "print(myTimes(10,20))"
   ]
  },
  {
   "cell_type": "code",
   "execution_count": 7,
   "id": "a33bb100",
   "metadata": {},
   "outputs": [
    {
     "name": "stdout",
     "output_type": "stream",
     "text": [
      "1628959396128\n"
     ]
    }
   ],
   "source": [
    "print(id(myTimes))"
   ]
  },
  {
   "cell_type": "code",
   "execution_count": 8,
   "id": "fc8b71a5",
   "metadata": {},
   "outputs": [],
   "source": [
    "a = 10\n",
    "b = 20\n",
    "def sum1(x, y):\n",
    "    return x+y"
   ]
  },
  {
   "cell_type": "code",
   "execution_count": 9,
   "id": "7c122409",
   "metadata": {},
   "outputs": [
    {
     "name": "stdout",
     "output_type": "stream",
     "text": [
      "30\n"
     ]
    }
   ],
   "source": [
    "print(sum1(a,b))"
   ]
  },
  {
   "cell_type": "code",
   "execution_count": 12,
   "id": "5d5bd4e0",
   "metadata": {},
   "outputs": [
    {
     "name": "stdout",
     "output_type": "stream",
     "text": [
      "(20, 20)\n",
      "11\n"
     ]
    }
   ],
   "source": [
    "# 변수의 범위\n",
    "\n",
    "g = 10\n",
    "x = 20\n",
    "\n",
    "def sum2(x, y):\n",
    "    global g # 바깥의 g와는 구별의 의미로 global이란 말을 씀\n",
    "    g = g + 1\n",
    "    return x, y\n",
    "\n",
    "print(sum2(x, 20))\n",
    "print(g)"
   ]
  },
  {
   "cell_type": "code",
   "execution_count": 14,
   "id": "aa7a425b",
   "metadata": {},
   "outputs": [
    {
     "name": "stdout",
     "output_type": "stream",
     "text": [
      "20000\n",
      "2000\n",
      "200\n",
      "2000\n"
     ]
    }
   ],
   "source": [
    "# 함수의 인자 (Parameter)\n",
    "\n",
    "def Times(a=10, b=20): # 디폴트 값을 지정\n",
    "    return a * b\n",
    "\n",
    "print(Times(100, 200))\n",
    "print(Times(100))\n",
    "print(Times())\n",
    "print(Times(b = 200))"
   ]
  },
  {
   "cell_type": "code",
   "execution_count": 17,
   "id": "2054faf9",
   "metadata": {},
   "outputs": [
    {
     "name": "stdout",
     "output_type": "stream",
     "text": [
      "https://naver.com:8080\n"
     ]
    }
   ],
   "source": [
    "def connectURL(protocol='https', server='naver.com', port='80'):\n",
    "    address = protocol + '://' + server + ':' + port\n",
    "    return address\n",
    "\n",
    "print(connectURL(port='8080'))"
   ]
  },
  {
   "cell_type": "code",
   "execution_count": 19,
   "id": "b518d11f",
   "metadata": {},
   "outputs": [
    {
     "name": "stdout",
     "output_type": "stream",
     "text": [
      "<class 'tuple'>\n",
      "(1, 2, 3, 4, 5)\n",
      "<class 'tuple'>\n",
      "(1, 2, 3)\n"
     ]
    }
   ],
   "source": [
    "# 가변인자 함수\n",
    "def test(*args):\n",
    "    print(type(args))\n",
    "    print(args)\n",
    "    \n",
    "test(1,2,3,4,5)\n",
    "test(1,2,3)"
   ]
  },
  {
   "cell_type": "code",
   "execution_count": null,
   "id": "5529065b",
   "metadata": {},
   "outputs": [],
   "source": []
  }
 ],
 "metadata": {
  "kernelspec": {
   "display_name": "Python 3 (ipykernel)",
   "language": "python",
   "name": "python3"
  },
  "language_info": {
   "codemirror_mode": {
    "name": "ipython",
    "version": 3
   },
   "file_extension": ".py",
   "mimetype": "text/x-python",
   "name": "python",
   "nbconvert_exporter": "python",
   "pygments_lexer": "ipython3",
   "version": "3.10.9"
  }
 },
 "nbformat": 4,
 "nbformat_minor": 5
}
