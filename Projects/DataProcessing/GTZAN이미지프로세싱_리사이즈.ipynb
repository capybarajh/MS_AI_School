{
 "cells": [
  {
   "cell_type": "markdown",
   "id": "f05f765e",
   "metadata": {},
   "source": [
    "# GTZAN Dataset image 프로세싱 - 비율 유지하고 리사이즈 작업 진행하기"
   ]
  },
  {
   "cell_type": "code",
   "execution_count": 1,
   "id": "c10f2fa4",
   "metadata": {},
   "outputs": [],
   "source": [
    "from PIL import Image\n",
    "import os\n",
    "import glob"
   ]
  },
  {
   "cell_type": "code",
   "execution_count": 5,
   "id": "577f1a83",
   "metadata": {},
   "outputs": [
    {
     "name": "stdout",
     "output_type": "stream",
     "text": [
      "./data\\mel_spec_0-10.png\n",
      "<PIL.PngImagePlugin.PngImageFile image mode=RGBA size=1003x351 at 0x21B659DE0D0>\n",
      "./data\\mel_spec_0-10_aug_noise.png\n",
      "<PIL.PngImagePlugin.PngImageFile image mode=RGBA size=1003x351 at 0x21B657A32B0>\n",
      "./data\\mel_spec_0-10_aug_stretched.png\n",
      "<PIL.PngImagePlugin.PngImageFile image mode=RGBA size=1003x351 at 0x21B65950B80>\n",
      "./data\\mel_spec_original.png\n",
      "<PIL.PngImagePlugin.PngImageFile image mode=RGBA size=1012x351 at 0x21B657A3CD0>\n"
     ]
    },
    {
     "name": "stderr",
     "output_type": "stream",
     "text": [
      "C:\\Users\\ljh29\\AppData\\Local\\Temp\\ipykernel_15684\\1362637778.py:21: DeprecationWarning: ANTIALIAS is deprecated and will be removed in Pillow 10 (2023-07-01). Use LANCZOS or Resampling.LANCZOS instead.\n",
      "  img = img.resize((new_size[0], new_size[1]), Image.ANTIALIAS)\n"
     ]
    },
    {
     "name": "stdout",
     "output_type": "stream",
     "text": [
      "./data\\MFCC.png\n",
      "<PIL.PngImagePlugin.PngImageFile image mode=RGBA size=2969x1168 at 0x21B65950B80>\n",
      "./data\\spectrogram.png\n",
      "<PIL.PngImagePlugin.PngImageFile image mode=RGBA size=640x480 at 0x21B657A32B0>\n",
      "./data\\STFT_0-10.png\n",
      "<PIL.PngImagePlugin.PngImageFile image mode=RGBA size=1003x351 at 0x21B659DE0A0>\n",
      "./data\\STFT_0-10_aug_noise.png\n",
      "<PIL.PngImagePlugin.PngImageFile image mode=RGBA size=1003x351 at 0x21B657A32B0>\n",
      "./data\\STFT_0-10_aug_stretch.png\n",
      "<PIL.PngImagePlugin.PngImageFile image mode=RGBA size=1003x351 at 0x21B659DE1C0>\n",
      "./data\\STFT_original.png\n",
      "<PIL.PngImagePlugin.PngImageFile image mode=RGBA size=1012x351 at 0x21B657A32B0>\n",
      "./data\\waveshow_0-10.png\n",
      "<PIL.PngImagePlugin.PngImageFile image mode=RGBA size=930x308 at 0x21B659DE0A0>\n",
      "./data\\waveshow_0-10_aug_noise.png\n",
      "<PIL.PngImagePlugin.PngImageFile image mode=RGBA size=930x308 at 0x21B657A32B0>\n",
      "./data\\waveshow_0-10_aug_stretch.png\n",
      "<PIL.PngImagePlugin.PngImageFile image mode=RGBA size=930x308 at 0x21B659DE250>\n",
      "./data\\waveshow_original.png\n",
      "<PIL.PngImagePlugin.PngImageFile image mode=RGBA size=973x351 at 0x21B657A32B0>\n"
     ]
    }
   ],
   "source": [
    "def expend2square(pil_image, background_color) : \n",
    "    width, heigth = pil_image.size\n",
    "    \n",
    "    if width == heigth : \n",
    "        return pil_image\n",
    "    \n",
    "    elif width > heigth : \n",
    "        result = Image.new(pil_image.mode, (width, width), background_color)\n",
    "        result.paste(pil_image, (0, (width - heigth) // 2))\n",
    "        \n",
    "        return result\n",
    "        \n",
    "    else : \n",
    "        result = Image.new(pil_image.mode, (heigth, heigth), background_color)\n",
    "        resutl.paste(pil_image, ((heigth - width) // 2, 0))\n",
    "        \n",
    "        return result\n",
    "\n",
    "def resize_with_padding(pil_image, new_size, background_color) : \n",
    "    img = expend2square(pil_image, background_color)\n",
    "    img = img.resize((new_size[0], new_size[1]), Image.ANTIALIAS)\n",
    "    \n",
    "    return img \n",
    "\n",
    "img_path_list = glob.glob(os.path.join(\"./data\", \"*.png\"))\n",
    "\n",
    "# 폴더 하나 생성\n",
    "os.makedirs(\"./data2\", exist_ok=True)\n",
    "\n",
    "for i ,img_path in enumerate(img_path_list) : \n",
    "    print(img_path)\n",
    "    img = Image.open(img_path)\n",
    "    print(img)\n",
    "    img_new = resize_with_padding(img, (255,255), (0,0,0))\n",
    "    \n",
    "    save_file_name = f\"./data2/{str(i).zfill(4)}_resize_img.png\"\n",
    "    img_new.save(save_file_name, \"png\")"
   ]
  },
  {
   "cell_type": "code",
   "execution_count": null,
   "id": "ba2dfb1a",
   "metadata": {},
   "outputs": [],
   "source": []
  }
 ],
 "metadata": {
  "kernelspec": {
   "display_name": "capybara",
   "language": "python",
   "name": "capybara"
  },
  "language_info": {
   "codemirror_mode": {
    "name": "ipython",
    "version": 3
   },
   "file_extension": ".py",
   "mimetype": "text/x-python",
   "name": "python",
   "nbconvert_exporter": "python",
   "pygments_lexer": "ipython3",
   "version": "3.8.16"
  }
 },
 "nbformat": 4,
 "nbformat_minor": 5
}
