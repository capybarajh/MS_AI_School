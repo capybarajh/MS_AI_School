{
 "cells": [
  {
   "cell_type": "markdown",
   "id": "3326abee",
   "metadata": {},
   "source": [
    "# 데이터 전처리 : 이상행동 구간에 프레임 추출 30프레임 기준"
   ]
  },
  {
   "cell_type": "code",
   "execution_count": 2,
   "id": "d6b2d2d8",
   "metadata": {},
   "outputs": [],
   "source": [
    "import cv2\n",
    "import os\n",
    "import json\n",
    "import glob\n",
    "from tqdm import tqdm"
   ]
  },
  {
   "cell_type": "markdown",
   "id": "a419bbed",
   "metadata": {},
   "source": [
    "### 동영상, JSON 파일 읽기"
   ]
  },
  {
   "cell_type": "code",
   "execution_count": 10,
   "id": "85ca9b1d",
   "metadata": {},
   "outputs": [
    {
     "name": "stderr",
     "output_type": "stream",
     "text": [
      "\r",
      "  0%|                                                                                           | 0/11 [00:00<?, ?it/s]"
     ]
    },
    {
     "name": "stdout",
     "output_type": "stream",
     "text": [
      "00:01:05.432 00:01:53.714\n",
      "1961 3408\n"
     ]
    },
    {
     "name": "stderr",
     "output_type": "stream",
     "text": [
      "\r",
      "  9%|███████▌                                                                           | 1/11 [00:08<01:22,  8.22s/it]"
     ]
    },
    {
     "name": "stdout",
     "output_type": "stream",
     "text": [
      "00:01:03.163 00:01:51.411\n",
      "1893 3339\n"
     ]
    },
    {
     "name": "stderr",
     "output_type": "stream",
     "text": [
      "\r",
      " 18%|███████████████                                                                    | 2/11 [00:17<01:17,  8.57s/it]"
     ]
    },
    {
     "name": "stdout",
     "output_type": "stream",
     "text": [
      "00:01:02.229 00:01:50.244\n",
      "1865 3304\n"
     ]
    },
    {
     "name": "stderr",
     "output_type": "stream",
     "text": [
      "\r",
      " 27%|██████████████████████▋                                                            | 3/11 [00:25<01:09,  8.64s/it]"
     ]
    },
    {
     "name": "stdout",
     "output_type": "stream",
     "text": [
      "00:01:00.327 00:01:47.841\n",
      "1808 3232\n"
     ]
    },
    {
     "name": "stderr",
     "output_type": "stream",
     "text": [
      "\r",
      " 36%|██████████████████████████████▏                                                    | 4/11 [00:34<01:01,  8.72s/it]"
     ]
    },
    {
     "name": "stdout",
     "output_type": "stream",
     "text": [
      "00:01:10.470 00:01:53.981\n",
      "2112 3416\n"
     ]
    },
    {
     "name": "stderr",
     "output_type": "stream",
     "text": [
      "\r",
      " 45%|█████████████████████████████████████▋                                             | 5/11 [00:42<00:50,  8.37s/it]"
     ]
    },
    {
     "name": "stdout",
     "output_type": "stream",
     "text": [
      "00:01:03.730 00:01:51.144\n",
      "1910 3331\n"
     ]
    },
    {
     "name": "stderr",
     "output_type": "stream",
     "text": [
      "\r",
      " 55%|█████████████████████████████████████████████▎                                     | 6/11 [00:49<00:40,  8.04s/it]"
     ]
    },
    {
     "name": "stdout",
     "output_type": "stream",
     "text": [
      "00:01:05.732 00:01:53.247\n",
      "1970 3394\n"
     ]
    },
    {
     "name": "stderr",
     "output_type": "stream",
     "text": [
      "\r",
      " 64%|████████████████████████████████████████████████████▊                              | 7/11 [00:56<00:30,  7.64s/it]"
     ]
    },
    {
     "name": "stdout",
     "output_type": "stream",
     "text": [
      "00:00:59.459 00:01:50.744\n",
      "1782 3319\n"
     ]
    },
    {
     "name": "stderr",
     "output_type": "stream",
     "text": [
      "\r",
      " 73%|████████████████████████████████████████████████████████████▎                      | 8/11 [01:05<00:24,  8.14s/it]"
     ]
    },
    {
     "name": "stdout",
     "output_type": "stream",
     "text": [
      "00:00:56.390 00:01:50.344\n",
      "1690 3307\n"
     ]
    },
    {
     "name": "stderr",
     "output_type": "stream",
     "text": [
      "\r",
      " 82%|███████████████████████████████████████████████████████████████████▉               | 9/11 [01:14<00:16,  8.44s/it]"
     ]
    },
    {
     "name": "stdout",
     "output_type": "stream",
     "text": [
      "00:00:59.193 00:01:54.548\n",
      "1774 3433\n"
     ]
    },
    {
     "name": "stderr",
     "output_type": "stream",
     "text": [
      "\r",
      " 91%|██████████████████████████████████████████████████████████████████████████▌       | 10/11 [01:24<00:08,  8.90s/it]"
     ]
    },
    {
     "name": "stdout",
     "output_type": "stream",
     "text": [
      "00:01:05.065 00:01:54.081\n",
      "1950 3419\n"
     ]
    },
    {
     "name": "stderr",
     "output_type": "stream",
     "text": [
      "100%|██████████████████████████████████████████████████████████████████████████████████| 11/11 [01:31<00:00,  8.36s/it]\n"
     ]
    }
   ],
   "source": [
    "# ./raw_data/json/Stealing_Courier/*.json\n",
    "json_dir = \"./raw_data/json/Stealing_Courier/\"\n",
    "json_path_list = glob.glob(os.path.join(json_dir, \"*.json\"))\n",
    "\n",
    "vidoe_dir = \"./raw_data/video/Stealing_Courier/\"\n",
    "\n",
    "for json_path in tqdm(json_path_list): \n",
    "    \n",
    "    # json read \n",
    "    with open(json_path, 'r', encoding='utf-8') as f :\n",
    "        json_data = json.load(f)\n",
    "    \n",
    "        \n",
    "    # json metadata \n",
    "    metadata_info = json_data['metadata']\n",
    "    \"\"\"\n",
    "    {'filename': 'C041_A30_SY32_P07_S06_02DBS.mp4', 'date': '2021-09-24 08:56:48.582', 'file_format': 'mp4', '\n",
    "    file_size': '99.92MB', 'device_info': 'cctv', 'shooting': 'S06', 'place': 'P07', 'copyright': 'e2on', \n",
    "    'length': '0:02:00.153', 'length_type': 'S', 'FPS': '29.97fps', 'width': '1920', 'height': '1080', \n",
    "    'resolution': 'FHD', 'bit': '8bit', 'depth': 'YUV', 'definition': '높음', \n",
    "    'LDC': 'YES', 'angle': 'high view', 'CCTV_distribution': 'B', 'Day_night': 'day', 'Scenario': '02'}\n",
    "    \"\"\"\n",
    "#     print(metadata_info)\n",
    "    file_name = metadata_info['filename'] # C041_A30_SY32_P07_S06_02DBS.mp4\n",
    "    \n",
    "    # video path \n",
    "    video_path = os.path.join(vidoe_dir, file_name)\n",
    "#     print(video_path) # ./raw_data/video/Stealing_Courier/C041_A30_SY32_P07_S06_02DBS.mp4\n",
    "    \n",
    "    # json Categories data info \n",
    "    categories_info = json_data['categories'] \n",
    "    \n",
    "    # crime, action, symptom 확인 \n",
    "    crime_info = categories_info['crime']\n",
    "    action_info = categories_info['action']\n",
    "    symptom_info = categories_info['symptom']\n",
    "    \n",
    "    # video read \n",
    "    cap = cv2.VideoCapture(video_path)\n",
    "    frame_count = int(cap.get(cv2.CAP_PROP_FRAME_COUNT))\n",
    "    fps = int(cap.get(cv2.CAP_PROP_FPS))\n",
    "    \n",
    "    file_info = json_data['file']\n",
    "    folder_name = video_path.split(\"/\")[3]\n",
    "    # ['.', 'raw_data', 'video', 'Stealing_Courier', 'C041_A30_SY32_P07_S06_02DBS.mp4']\n",
    "    image_name = file_name.replace(\".mp4\", \"\")\n",
    "    \n",
    "    for i in file_info : \n",
    "        videos_info = i['videos']\n",
    "        block_info = videos_info['block_information']\n",
    "        \n",
    "        count = 0\n",
    "        for j in block_info : \n",
    "            if j['block_detail'] == 'A30' : \n",
    "                start_time = j['start_time']\n",
    "                end_time = j['end_time']\n",
    "                start_frame_index = j['start_frame_index']\n",
    "                end_frame_index = j['end_frame_index']\n",
    "                \n",
    "                print(start_time, end_time)\n",
    "                print(start_frame_index, end_frame_index)\n",
    "                \n",
    "                \n",
    "                ##########################\n",
    "                \n",
    "                for frame_idx in range(int(start_frame_index), int(end_frame_index), 30) : \n",
    "                    cap.set(cv2.CAP_PROP_POS_FRAMES, frame_idx)\n",
    "                    \n",
    "                    ret, frame = cap.read()\n",
    "                    \n",
    "                    if ret : \n",
    "                        \n",
    "                        os.makedirs(f\"./AI_hub_dataset/{folder_name}/{image_name}/\", exist_ok=True )\n",
    "                        image_name_temp = f\"./AI_hub_dataset/{folder_name}/{image_name}/{image_name}_frame_{str(count).zfill(4)}.png\"\n",
    "\n",
    "                        cv2.imwrite(image_name_temp, frame)\n",
    "                        count = count + 1"
   ]
  },
  {
   "cell_type": "code",
   "execution_count": null,
   "id": "9e4e08b5",
   "metadata": {},
   "outputs": [],
   "source": []
  }
 ],
 "metadata": {
  "kernelspec": {
   "display_name": "capybara",
   "language": "python",
   "name": "capybara"
  },
  "language_info": {
   "codemirror_mode": {
    "name": "ipython",
    "version": 3
   },
   "file_extension": ".py",
   "mimetype": "text/x-python",
   "name": "python",
   "nbconvert_exporter": "python",
   "pygments_lexer": "ipython3",
   "version": "3.8.16"
  }
 },
 "nbformat": 4,
 "nbformat_minor": 5
}
