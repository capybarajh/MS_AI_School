{
 "cells": [
  {
   "cell_type": "markdown",
   "id": "8b4689d0",
   "metadata": {},
   "source": [
    "### 데이터 증폭"
   ]
  },
  {
   "cell_type": "code",
   "execution_count": 1,
   "id": "b6113d2b",
   "metadata": {},
   "outputs": [],
   "source": [
    "import cv2\n",
    "import os\n",
    "import glob\n",
    "from tqdm import tqdm"
   ]
  },
  {
   "cell_type": "markdown",
   "id": "9a657843",
   "metadata": {},
   "source": [
    "### 데이터 증폭 함수"
   ]
  },
  {
   "cell_type": "code",
   "execution_count": 10,
   "id": "6f9d2bfc",
   "metadata": {},
   "outputs": [],
   "source": [
    "def image_aug_angle(img, file_name, folder_name) : \n",
    "    \n",
    "    # image BGR -> RGB\n",
    "    image = cv2.cvtColor(img, cv2.COLOR_BGR2RGB)\n",
    "    \n",
    "    # 회전할 각도 설정 \n",
    "    angle = 20\n",
    "    \n",
    "    # 이미지 중심 기준으로 회전 행렬 생성\n",
    "    (h, w) = image.shape[:2]\n",
    "    center = (w // 2 , h // 2)\n",
    "    M = cv2.getRotationMatrix2D(center, angle, 1.0)\n",
    "    \n",
    "    # 회전 적용 \n",
    "    rotated = cv2.warpAffine(image, M, (w, h))\n",
    "    \n",
    "    file_name = f\"rotate_{file_name}\"\n",
    "    file_path = f\"./dataset_aug_img/{folder_name}/{file_name}\"\n",
    "        \n",
    "    image = cv2.cvtColor(rotated, cv2.COLOR_BGR2RGB)\n",
    "\n",
    "    cv2.imwrite(file_path, image)\n",
    "\n",
    "    \n",
    "def image_aug_flip(img, file_name, folder_name) : \n",
    "    \n",
    "     # image BGR -> RGB\n",
    "    image = cv2.cvtColor(img, cv2.COLOR_BGR2RGB)\n",
    "    \n",
    "    flipped_right_and_left = cv2.flip(image, 1)\n",
    "    flipped_up_and_down = cv2.flip(image, 0)\n",
    "    \n",
    "    file_name_right = f\"flipped_right_and_left_{file_name}\"\n",
    "    file_name_up = f\"flipped_up_and_down_{file_name}\"\n",
    "    \n",
    "    file_path = f\"./dataset_aug_img/{folder_name}/{file_name_right}\"\n",
    "    file_path_temp = f\"./dataset_aug_img/{folder_name}/{file_name_up}\"\n",
    "        \n",
    "    image01 = cv2.cvtColor(flipped_right_and_left, cv2.COLOR_BGR2RGB)\n",
    "    image02 = cv2.cvtColor(flipped_up_and_down, cv2.COLOR_BGR2RGB)\n",
    "    \n",
    "    cv2.imwrite(file_path, image01)\n",
    "    cv2.imwrite(file_path_temp, image02)\n",
    "\n",
    "def image_aug_hsv(img, file_name, folder_name) : \n",
    "    \n",
    "     # image BGR -> RGB\n",
    "    image = cv2.cvtColor(img, cv2.COLOR_BGR2RGB)\n",
    "    \n",
    "     ###### 채도값 변경하기 -> HSV 이미지 변환 \n",
    "    img_hsv = cv2.cvtColor(image, cv2.COLOR_RGB2HSV) \n",
    "    \n",
    "    # 채도 값을 0.8 배로 증가 \n",
    "    saturation_factor = 0.8\n",
    "    img_hsv[:,:,1] = img_hsv[:,:,1] * saturation_factor\n",
    "    \n",
    "    img_saturated = cv2.cvtColor(img_hsv, cv2.COLOR_HSV2RGB) \n",
    "    \n",
    "    \n",
    "    file_name = f\"hsv_{file_name}\"\n",
    "    file_path = f\"./dataset_aug_img/{folder_name}/{file_name}\"\n",
    "        \n",
    "    image = cv2.cvtColor(img_saturated, cv2.COLOR_BGR2RGB)\n",
    "\n",
    "    cv2.imwrite(file_path, image)\n",
    "    \n",
    "# 방법2\n",
    "# def image_aug(img, save_path, folder_name, mode) :\n",
    "\n",
    "#     if mode == 'rotated' : \n",
    "#         #### 구현 코드 / 저장 코드\n",
    "\n",
    "#     elif mode == 'flip' :\n",
    "#         #### 구현 코드 / 저장 코드     \n",
    "\n",
    "#     elif mode == 'hsv' : \n",
    "#         #### 구현 코드 / 저장 코드"
   ]
  },
  {
   "cell_type": "code",
   "execution_count": 14,
   "id": "2dbc4d1c",
   "metadata": {},
   "outputs": [
    {
     "name": "stderr",
     "output_type": "stream",
     "text": [
      "100%|██████████████████████████████████████████████████████████████████████████████████| 61/61 [01:55<00:00,  1.89s/it]\n"
     ]
    }
   ],
   "source": [
    "image_dir = \"./datasest/\"\n",
    "\n",
    "# ./datasest/폴더/image.png\n",
    "image_path_list = glob.glob(os.path.join(image_dir,\"*\", \"*.jpg\"))\n",
    "# print(image_path_list)\n",
    "\n",
    "\n",
    "for path in tqdm(image_path_list): \n",
    "    # ./datasest/apple/apples3.jpg\n",
    "    image_name = path.split(\"\\\\\")[2]\n",
    "#     print(image_name)\n",
    "    folder_name = path.split(\"\\\\\")[1]\n",
    "#     print(folder_name)\n",
    "    os.makedirs(f\"./dataset_aug_img/{folder_name}\", exist_ok=True)\n",
    "\n",
    "    # image raed \n",
    "    img = cv2.imread(path)\n",
    "    \n",
    "    image_aug_angle(img, image_name ,folder_name)\n",
    "    image_aug_flip(img, image_name, folder_name)\n",
    "    image_aug_hsv(img, image_name, folder_name)"
   ]
  },
  {
   "cell_type": "code",
   "execution_count": null,
   "id": "f89dbe13",
   "metadata": {},
   "outputs": [],
   "source": []
  }
 ],
 "metadata": {
  "kernelspec": {
   "display_name": "capybara",
   "language": "python",
   "name": "capybara"
  },
  "language_info": {
   "codemirror_mode": {
    "name": "ipython",
    "version": 3
   },
   "file_extension": ".py",
   "mimetype": "text/x-python",
   "name": "python",
   "nbconvert_exporter": "python",
   "pygments_lexer": "ipython3",
   "version": "3.8.16"
  }
 },
 "nbformat": 4,
 "nbformat_minor": 5
}
